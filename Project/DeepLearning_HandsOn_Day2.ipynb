{
 "cells": [
  {
   "cell_type": "markdown",
   "metadata": {},
   "source": [
    "### Introduction to python:\n",
    "\n",
    "1. Python syntax\n",
    "2. Numpy & Scipy\n",
    "3. Pandas\n",
    "4. Matplotlib"
   ]
  },
  {
   "cell_type": "markdown",
   "metadata": {},
   "source": [
    "### Python syntax"
   ]
  },
  {
   "cell_type": "markdown",
   "metadata": {},
   "source": [
    "#### Python Data types"
   ]
  },
  {
   "cell_type": "code",
   "execution_count": 1,
   "metadata": {},
   "outputs": [],
   "source": [
    "a = 3 #integer\n",
    "\n",
    "b = 2.7 #float\n",
    "\n",
    "c = 12 + 5j #complex\n",
    "\n",
    "c_bar = c.conjugate()\n",
    "\n",
    "s1 = 'Hello World!' #string\n",
    "\n",
    "L = [a, b, c, s1, 77.77] #list\n",
    "\n",
    "s2 = {1, 2, 1, c} #set\n",
    "\n",
    "d = {'key': a, b: s1} #dictionary\n",
    "\n",
    "t = (a, s1, s2) #tuple"
   ]
  },
  {
   "cell_type": "code",
   "execution_count": 2,
   "metadata": {},
   "outputs": [],
   "source": [
    "#t[0] = 1"
   ]
  },
  {
   "cell_type": "markdown",
   "metadata": {},
   "source": [
    "#### Operations"
   ]
  },
  {
   "cell_type": "code",
   "execution_count": 3,
   "metadata": {
    "scrolled": true
   },
   "outputs": [
    {
     "name": "stdout",
     "output_type": "stream",
     "text": [
      "3\n",
      "-1\n",
      "2\n",
      "0.5\n",
      "0\n",
      "9\n",
      "False\n",
      "True\n",
      "False\n",
      "1\n",
      "-2\n",
      "10\n",
      "4.347826086956522\n"
     ]
    }
   ],
   "source": [
    "# math opertations\n",
    "print(1 + 2)\n",
    "print(1 - 2)\n",
    "print(1 * 2)\n",
    "print(1 / 2)\n",
    "print(1 // 2)\n",
    "print(3 ** 2)\n",
    "\n",
    "\n",
    "# logic operations\n",
    "print(True and False)\n",
    "print(True or False)\n",
    "print(not True)\n",
    "\n",
    "\n",
    "# hybrid operations\n",
    "r = 0\n",
    "\n",
    "r += 1 # there is not ++ and -- in python\n",
    "print(r)\n",
    "\n",
    "r -= 3\n",
    "print(r)\n",
    "\n",
    "r *= -5\n",
    "print(r)\n",
    "\n",
    "r /= 2.3\n",
    "print(r)"
   ]
  },
  {
   "cell_type": "markdown",
   "metadata": {},
   "source": [
    "#### Lists"
   ]
  },
  {
   "cell_type": "code",
   "execution_count": 4,
   "metadata": {},
   "outputs": [
    {
     "name": "stdout",
     "output_type": "stream",
     "text": [
      "[1, 4.0, 'a', 'b']\n",
      "[3.14, 2.78, [1, 4.0, 'a', 'b'], 42]\n",
      "[1, 4.0, 'a', 'b', 3.14, 2.78, [1, 4.0, 'a', 'b'], 42]\n",
      "[3.14, 2.78, [1, 4.0, 'a', 'b'], 42, 3.14, 2.78, [1, 4.0, 'a', 'b'], 42]\n",
      "4\n"
     ]
    }
   ],
   "source": [
    "u=[1,4.0,'a'] \n",
    "v=[3.14,2.78,u,42]\n",
    "u.append('b')\n",
    "\n",
    "print(u)\n",
    "print(v)\n",
    "print(u+v)\n",
    "print(v*2)\n",
    "print(len(v))"
   ]
  },
  {
   "cell_type": "markdown",
   "metadata": {},
   "source": [
    "#### Functions"
   ]
  },
  {
   "cell_type": "code",
   "execution_count": 5,
   "metadata": {},
   "outputs": [],
   "source": [
    "def f(x):\n",
    "    return x**2"
   ]
  },
  {
   "cell_type": "markdown",
   "metadata": {},
   "source": [
    "#### Loops"
   ]
  },
  {
   "cell_type": "code",
   "execution_count": 6,
   "metadata": {},
   "outputs": [
    {
     "name": "stdout",
     "output_type": "stream",
     "text": [
      "0\n",
      "1\n",
      "4\n",
      "9\n",
      "16\n",
      "25\n",
      "36\n",
      "49\n",
      "64\n",
      "81\n"
     ]
    }
   ],
   "source": [
    "for i in range(10):\n",
    "    print(f(i))"
   ]
  },
  {
   "cell_type": "code",
   "execution_count": 7,
   "metadata": {},
   "outputs": [
    {
     "name": "stdout",
     "output_type": "stream",
     "text": [
      "0\n",
      "1\n",
      "4\n",
      "9\n",
      "16\n",
      "25\n",
      "36\n",
      "49\n",
      "64\n",
      "81\n"
     ]
    }
   ],
   "source": [
    "r = 0\n",
    "\n",
    "while f(r) < 100:\n",
    "    print(f(r))\n",
    "    r += 1"
   ]
  },
  {
   "cell_type": "markdown",
   "metadata": {},
   "source": [
    "#### Condition"
   ]
  },
  {
   "cell_type": "code",
   "execution_count": 8,
   "metadata": {},
   "outputs": [
    {
     "name": "stdout",
     "output_type": "stream",
     "text": [
      "r is less than 11\n"
     ]
    }
   ],
   "source": [
    "if r <= 11:\n",
    "    print('r is less than 11')"
   ]
  },
  {
   "cell_type": "code",
   "execution_count": 9,
   "metadata": {},
   "outputs": [
    {
     "name": "stdout",
     "output_type": "stream",
     "text": [
      "r is less than 11\n"
     ]
    }
   ],
   "source": [
    "if r > 11:\n",
    "    print('r is grater than 11')\n",
    "else:\n",
    "    print('r is less than 11')"
   ]
  },
  {
   "cell_type": "code",
   "execution_count": 10,
   "metadata": {},
   "outputs": [
    {
     "name": "stdout",
     "output_type": "stream",
     "text": [
      "r is less than 11\n"
     ]
    }
   ],
   "source": [
    "if r > 11:\n",
    "    print('r is grater than 11')\n",
    "elif r == 11:\n",
    "    print('r is equal to 11')\n",
    "else:\n",
    "    print('r is less than 11')"
   ]
  },
  {
   "cell_type": "markdown",
   "metadata": {},
   "source": [
    "### Numpy"
   ]
  },
  {
   "cell_type": "code",
   "execution_count": 11,
   "metadata": {},
   "outputs": [
    {
     "name": "stdout",
     "output_type": "stream",
     "text": [
      "<class 'numpy.ndarray'>\n",
      "(3,)\n",
      "1 2 3\n",
      "[5 2 3]\n",
      "(2, 3)\n",
      "1 2 4\n"
     ]
    }
   ],
   "source": [
    "import numpy as np\n",
    "\n",
    "a = np.array([1, 2, 3])   # Create a rank 1 array\n",
    "print(type(a))            # Prints \"<class 'numpy.ndarray'>\"\n",
    "print(a.shape)            # Prints \"(3,)\"\n",
    "print(a[0], a[1], a[2])   # Prints \"1 2 3\"\n",
    "a[0] = 5                  # Change an element of the array\n",
    "print(a)                  # Prints \"[5, 2, 3]\"\n",
    "\n",
    "b = np.array([[1,2,3],[4,5,6]])    # Create a rank 2 array\n",
    "print(b.shape)                     # Prints \"(2, 3)\"\n",
    "print(b[0, 0], b[0, 1], b[1, 0])   # Prints \"1 2 4\"\n"
   ]
  },
  {
   "cell_type": "code",
   "execution_count": 12,
   "metadata": {},
   "outputs": [
    {
     "name": "stdout",
     "output_type": "stream",
     "text": [
      "[[0. 0.]\n",
      " [0. 0.]]\n",
      "[[1. 1.]]\n",
      "[[7 7]\n",
      " [7 7]]\n",
      "[[1. 0.]\n",
      " [0. 1.]]\n",
      "[[0.3093097  0.3909297 ]\n",
      " [0.45068314 0.0903926 ]]\n"
     ]
    }
   ],
   "source": [
    "a = np.zeros((2,2))   # Create an array of all zeros\n",
    "print(a)              # Prints \"[[ 0.  0.]\n",
    "                      #          [ 0.  0.]]\"\n",
    "\n",
    "b = np.ones((1,2))    # Create an array of all ones\n",
    "print(b)              # Prints \"[[ 1.  1.]]\"\n",
    "\n",
    "c = np.full((2,2), 7)  # Create a constant array\n",
    "print(c)               # Prints \"[[ 7.  7.]\n",
    "                       #          [ 7.  7.]]\"\n",
    "\n",
    "d = np.eye(2)         # Create a 2x2 identity matrix\n",
    "print(d)              # Prints \"[[ 1.  0.]\n",
    "                      #          [ 0.  1.]]\"\n",
    "\n",
    "e = np.random.random((2,2))  # Create an array filled with random values\n",
    "print(e)                     # Might print \"[[ 0.91940167  0.08143941]\n",
    "                             #               [ 0.68744134  0.87236687]]\"\n"
   ]
  },
  {
   "cell_type": "code",
   "execution_count": 13,
   "metadata": {},
   "outputs": [
    {
     "name": "stdout",
     "output_type": "stream",
     "text": [
      "[[2 3]\n",
      " [6 7]]\n",
      "2\n",
      "2\n",
      "[[77  3]\n",
      " [ 6  7]]\n"
     ]
    }
   ],
   "source": [
    "# Create the following rank 2 array with shape (3, 4)\n",
    "# [[ 1  2  3  4]\n",
    "#  [ 5  6  7  8]\n",
    "#  [ 9 10 11 12]]\n",
    "a = np.array([[1,2,3,4], [5,6,7,8], [9,10,11,12]])\n",
    "\n",
    "# Use slicing to pull out the subarray consisting of the first 2 rows\n",
    "# and columns 1 and 2; b is the following array of shape (2, 2):\n",
    "# [[2 3]\n",
    "#  [6 7]]\n",
    "b = a[:2, 1:3].copy()\n",
    "# b = a[:2, 1:3]\n",
    "print(b)\n",
    "# A slice of an array is a view into the same data, so modifying it\n",
    "# will modify the original array.\n",
    "print(a[0, 1])   # Prints \"2\"\n",
    "b[0, 0] = 77     # b[0, 0] is the same piece of data as a[0, 1]\n",
    "print(a[0, 1])   # Prints \"77\"\n",
    "print(b)"
   ]
  },
  {
   "cell_type": "code",
   "execution_count": 14,
   "metadata": {},
   "outputs": [
    {
     "name": "stdout",
     "output_type": "stream",
     "text": [
      "[5 6 7 8] (4,)\n",
      "[[5 6 7 8]] (1, 4)\n",
      "[ 2  6 10] (3,)\n",
      "[[ 2]\n",
      " [ 6]\n",
      " [10]] (3, 1)\n"
     ]
    }
   ],
   "source": [
    "# Create the following rank 2 array with shape (3, 4)\n",
    "# [[ 1  2  3  4]\n",
    "#  [ 5  6  7  8]\n",
    "#  [ 9 10 11 12]]\n",
    "a = np.array([[1,2,3,4], [5,6,7,8], [9,10,11,12]])\n",
    "\n",
    "# Two ways of accessing the data in the middle row of the array.\n",
    "# Mixing integer indexing with slices yields an array of lower rank,\n",
    "# while using only slices yields an array of the same rank as the\n",
    "# original array:\n",
    "row_r1 = a[1, :]    # Rank 1 view of the second row of a\n",
    "row_r2 = a[1:2, :]  # Rank 2 view of the second row of a\n",
    "print(row_r1, row_r1.shape)  # Prints \"[5 6 7 8] (4,)\"\n",
    "print(row_r2, row_r2.shape)  # Prints \"[[5 6 7 8]] (1, 4)\"\n",
    "\n",
    "# We can make the same distinction when accessing columns of an array:\n",
    "col_r1 = a[:, 1]\n",
    "col_r2 = a[:, 1:2]\n",
    "print(col_r1, col_r1.shape)  # Prints \"[ 2  6 10] (3,)\"\n",
    "print(col_r2, col_r2.shape)  # Prints \"[[ 2]\n",
    "                             #          [ 6]\n",
    "                             #          [10]] (3, 1)\""
   ]
  },
  {
   "cell_type": "code",
   "execution_count": 15,
   "metadata": {},
   "outputs": [
    {
     "name": "stdout",
     "output_type": "stream",
     "text": [
      "[1 4 5]\n",
      "[1 4 5]\n",
      "[2 2]\n",
      "[2 2]\n"
     ]
    }
   ],
   "source": [
    "a = np.array([[1,2], [3, 4], [5, 6]])\n",
    "\n",
    "# An example of integer array indexing.\n",
    "# The returned array will have shape (3,) and\n",
    "print(a[[0, 1, 2], [0, 1, 0]])  # Prints \"[1 4 5]\"\n",
    "\n",
    "# The above example of integer array indexing is equivalent to this:\n",
    "print(np.array([a[0, 0], a[1, 1], a[2, 0]]))  # Prints \"[1 4 5]\"\n",
    "\n",
    "# When using integer array indexing, you can reuse the same\n",
    "# element from the source array:\n",
    "print(a[[0, 0], [1, 1]])  # Prints \"[2 2]\"\n",
    "\n",
    "# Equivalent to the previous integer array indexing example\n",
    "print(np.array([a[0, 1], a[0, 1]]))  # Prints \"[2 2]\""
   ]
  },
  {
   "cell_type": "code",
   "execution_count": 16,
   "metadata": {},
   "outputs": [
    {
     "name": "stdout",
     "output_type": "stream",
     "text": [
      "[[ 1  2  3]\n",
      " [ 4  5  6]\n",
      " [ 7  8  9]\n",
      " [10 11 12]]\n",
      "[ 1  6  7 11]\n",
      "[[11  2  3]\n",
      " [ 4  5 16]\n",
      " [17  8  9]\n",
      " [10 21 12]]\n"
     ]
    }
   ],
   "source": [
    "# Create a new array from which we will select elements\n",
    "a = np.array([[1,2,3], [4,5,6], [7,8,9], [10, 11, 12]])\n",
    "\n",
    "print(a)  # prints \"array([[ 1,  2,  3],\n",
    "          #                [ 4,  5,  6],\n",
    "          #                [ 7,  8,  9],\n",
    "          #                [10, 11, 12]])\"\n",
    "\n",
    "# Create an array of indices\n",
    "b = np.array([0, 2, 0, 1])\n",
    "\n",
    "# Select one element from each row of a using the indices in b\n",
    "print(a[np.arange(4), b])  # Prints \"[ 1  6  7 11]\"\n",
    "\n",
    "# Mutate one element from each row of a using the indices in b\n",
    "a[np.arange(4), b] += 10\n",
    "\n",
    "print(a)  # prints \"array([[11,  2,  3],\n",
    "          #                [ 4,  5, 16],\n",
    "          #                [17,  8,  9],\n",
    "          #                [10, 21, 12]])"
   ]
  },
  {
   "cell_type": "code",
   "execution_count": 17,
   "metadata": {},
   "outputs": [
    {
     "name": "stdout",
     "output_type": "stream",
     "text": [
      "[[1 2 3]\n",
      " [4 5 6]]\n",
      "[1 2 3 4 5 6]\n",
      "[[1 2]\n",
      " [3 4]\n",
      " [5 6]]\n",
      "[1 2 3 4 5 6]\n"
     ]
    }
   ],
   "source": [
    "a = np.array([[1,2,3],[4,5,6]])\n",
    "b = np.array([[1,2],[3,4],[5,6]])\n",
    "print(a)\n",
    "print(a.flatten())\n",
    "print(b)\n",
    "print(b.flatten())"
   ]
  },
  {
   "cell_type": "code",
   "execution_count": 18,
   "metadata": {},
   "outputs": [
    {
     "name": "stdout",
     "output_type": "stream",
     "text": [
      "[[False False]\n",
      " [ True  True]\n",
      " [ True  True]]\n",
      "[3 4 5 6]\n",
      "[3 4 5 6]\n"
     ]
    }
   ],
   "source": [
    "a = np.array([[1,2], [3, 4], [5, 6]])\n",
    "\n",
    "bool_idx = (a > 2)   # Find the elements of a that are bigger than 2;\n",
    "                     # this returns a numpy array of Booleans of the same\n",
    "                     # shape as a, where each slot of bool_idx tells\n",
    "                     # whether that element of a is > 2.\n",
    "\n",
    "print(bool_idx)      # Prints \"[[False False]\n",
    "                     #          [ True  True]\n",
    "                     #          [ True  True]]\"\n",
    "\n",
    "# We use boolean array indexing to construct a rank 1 array\n",
    "# consisting of the elements of a corresponding to the True values\n",
    "# of bool_idx\n",
    "print(a[bool_idx])  # Prints \"[3 4 5 6]\"\n",
    "\n",
    "# We can do all of the above in a single concise statement:\n",
    "print(a[a > 2])     # Prints \"[3 4 5 6]\""
   ]
  },
  {
   "cell_type": "code",
   "execution_count": 120,
   "metadata": {},
   "outputs": [
    {
     "name": "stdout",
     "output_type": "stream",
     "text": [
      "[ 2.98804604  2.82868452 -2.29943259  1.73038842 -0.46770063  5.16149327\n",
      "  3.522898   -1.63691461  0.03973758 -0.22551401 -1.20001452  0.30928606\n",
      "  4.81151024  0.23986677 -1.74648088 -0.83837761 -4.03190629  3.80588099\n",
      "  1.86395326  3.34956203]\n",
      "[2.98804604 2.82868452 1.73038842 5.16149327 3.522898   0.03973758\n",
      " 0.30928606 4.81151024 0.23986677 3.80588099 1.86395326 3.34956203]\n"
     ]
    }
   ],
   "source": [
    "w = np.random.normal(1, 3, 20)\n",
    "\n",
    "p_w = w[w>0]\n",
    "\n",
    "print(w)\n",
    "print(p_w)"
   ]
  },
  {
   "cell_type": "code",
   "execution_count": 19,
   "metadata": {},
   "outputs": [
    {
     "name": "stdout",
     "output_type": "stream",
     "text": [
      "int64\n",
      "float64\n",
      "int64\n"
     ]
    }
   ],
   "source": [
    "x = np.array([1, 2])   # Let numpy choose the datatype\n",
    "print(x.dtype)         # Prints \"int64\"\n",
    "\n",
    "x = np.array([1.0, 2.0])   # Let numpy choose the datatype\n",
    "print(x.dtype)             # Prints \"float64\"\n",
    "\n",
    "x = np.array([1, 2], dtype=np.int64)   # Force a particular datatype\n",
    "print(x.dtype)  "
   ]
  },
  {
   "cell_type": "code",
   "execution_count": 20,
   "metadata": {},
   "outputs": [
    {
     "name": "stdout",
     "output_type": "stream",
     "text": [
      "[[ 6.  8.]\n",
      " [10. 12.]]\n",
      "[[ 6.  8.]\n",
      " [10. 12.]]\n",
      "[[-4. -4.]\n",
      " [-4. -4.]]\n",
      "[[-4. -4.]\n",
      " [-4. -4.]]\n",
      "[[ 5. 12.]\n",
      " [21. 32.]]\n",
      "[[ 5. 12.]\n",
      " [21. 32.]]\n",
      "[[0.2        0.33333333]\n",
      " [0.42857143 0.5       ]]\n",
      "[[0.2        0.33333333]\n",
      " [0.42857143 0.5       ]]\n",
      "[[1.         1.41421356]\n",
      " [1.73205081 2.        ]]\n"
     ]
    }
   ],
   "source": [
    "\n",
    "x = np.array([[1,2],[3,4]], dtype=np.float64)\n",
    "y = np.array([[5,6],[7,8]], dtype=np.float64)\n",
    "\n",
    "# Elementwise sum; both produce the array\n",
    "# [[ 6.0  8.0]\n",
    "#  [10.0 12.0]]\n",
    "print(x + y)\n",
    "print(np.add(x, y))\n",
    "\n",
    "# Elementwise difference; both produce the array\n",
    "# [[-4.0 -4.0]\n",
    "#  [-4.0 -4.0]]\n",
    "print(x - y)\n",
    "print(np.subtract(x, y))\n",
    "\n",
    "# Elementwise product; both produce the array\n",
    "# [[ 5.0 12.0]\n",
    "#  [21.0 32.0]]\n",
    "print(x * y)\n",
    "print(np.multiply(x, y))\n",
    "\n",
    "# Elementwise division; both produce the array\n",
    "# [[ 0.2         0.33333333]\n",
    "#  [ 0.42857143  0.5       ]]\n",
    "print(x / y)\n",
    "print(np.divide(x, y))\n",
    "\n",
    "# Elementwise square root; produces the array\n",
    "# [[ 1.          1.41421356]\n",
    "#  [ 1.73205081  2.        ]]\n",
    "print(np.sqrt(x))"
   ]
  },
  {
   "cell_type": "code",
   "execution_count": 21,
   "metadata": {},
   "outputs": [
    {
     "name": "stdout",
     "output_type": "stream",
     "text": [
      "219\n",
      "219\n",
      "[29 67]\n",
      "[29 67]\n",
      "[[19 22]\n",
      " [43 50]]\n",
      "[[19 22]\n",
      " [43 50]]\n"
     ]
    }
   ],
   "source": [
    "x = np.array([[1,2],[3,4]])\n",
    "y = np.array([[5,6],[7,8]])\n",
    "\n",
    "v = np.array([9,10])\n",
    "w = np.array([11, 12])\n",
    "\n",
    "# Inner product of vectors; both produce 219\n",
    "print(v.dot(w))\n",
    "print(np.dot(v, w))\n",
    "\n",
    "# Matrix / vector product; both produce the rank 1 array [29 67]\n",
    "print(x.dot(v))\n",
    "print(np.dot(x, v))\n",
    "\n",
    "# Matrix / matrix product; both produce the rank 2 array\n",
    "# [[19 22]\n",
    "#  [43 50]]\n",
    "print(x.dot(y))\n",
    "print(np.dot(x, y))"
   ]
  },
  {
   "cell_type": "code",
   "execution_count": 22,
   "metadata": {},
   "outputs": [
    {
     "name": "stdout",
     "output_type": "stream",
     "text": [
      "10\n",
      "[4 6]\n",
      "[3 7]\n"
     ]
    }
   ],
   "source": [
    "x = np.array([[1,2],[3,4]])\n",
    "\n",
    "print(np.sum(x))  # Compute sum of all elements; prints \"10\"\n",
    "print(np.sum(x, axis=0))  # Compute sum of each column; prints \"[4 6]\"\n",
    "print(np.sum(x, axis=1))  # Compute sum of each row; prints \"[3 7]\""
   ]
  },
  {
   "cell_type": "code",
   "execution_count": 23,
   "metadata": {},
   "outputs": [
    {
     "name": "stdout",
     "output_type": "stream",
     "text": [
      "[[1 2]\n",
      " [3 4]]\n",
      "[[1 3]\n",
      " [2 4]]\n",
      "[1 2 3]\n",
      "[1 2 3]\n"
     ]
    }
   ],
   "source": [
    "x = np.array([[1,2], [3,4]])\n",
    "print(x)    # Prints \"[[1 2]\n",
    "            #          [3 4]]\"\n",
    "print(x.T)  # Prints \"[[1 3]\n",
    "            #          [2 4]]\"\n",
    "\n",
    "# Note that taking the transpose of a rank 1 array does nothing:\n",
    "v = np.array([1,2,3])\n",
    "print(v)    # Prints \"[1 2 3]\"\n",
    "print(v.T)  # Prints \"[1 2 3]\"\n"
   ]
  },
  {
   "cell_type": "code",
   "execution_count": 24,
   "metadata": {},
   "outputs": [
    {
     "name": "stdout",
     "output_type": "stream",
     "text": [
      "[[ 2  2  4]\n",
      " [ 5  5  7]\n",
      " [ 8  8 10]\n",
      " [11 11 13]]\n"
     ]
    }
   ],
   "source": [
    "\n",
    "# We will add the vector v to each row of the matrix x,\n",
    "# storing the result in the matrix y\n",
    "x = np.array([[1,2,3], [4,5,6], [7,8,9], [10, 11, 12]])\n",
    "v = np.array([1, 0, 1])\n",
    "y = np.empty_like(x)   # Create an empty matrix with the same shape as x\n",
    "\n",
    "# Add the vector v to each row of the matrix x with an explicit loop\n",
    "for i in range(4):\n",
    "    y[i, :] = x[i, :] + v\n",
    "\n",
    "# Now y is the following\n",
    "# [[ 2  2  4]\n",
    "#  [ 5  5  7]\n",
    "#  [ 8  8 10]\n",
    "#  [11 11 13]]\n",
    "print(y)"
   ]
  },
  {
   "cell_type": "code",
   "execution_count": 25,
   "metadata": {},
   "outputs": [
    {
     "name": "stdout",
     "output_type": "stream",
     "text": [
      "[[1 0 1]\n",
      " [1 0 1]\n",
      " [1 0 1]\n",
      " [1 0 1]]\n",
      "[[ 2  2  4]\n",
      " [ 5  5  7]\n",
      " [ 8  8 10]\n",
      " [11 11 13]]\n"
     ]
    }
   ],
   "source": [
    "# We will add the vector v to each row of the matrix x,\n",
    "# storing the result in the matrix y\n",
    "x = np.array([[1,2,3], [4,5,6], [7,8,9], [10, 11, 12]])\n",
    "v = np.array([1, 0, 1])\n",
    "vv = np.tile(v, (4, 1))   # Stack 4 copies of v on top of each other\n",
    "print(vv)                 # Prints \"[[1 0 1]\n",
    "                          #          [1 0 1]\n",
    "                          #          [1 0 1]\n",
    "                          #          [1 0 1]]\"\n",
    "y = x + vv  # Add x and vv elementwise\n",
    "print(y)  # Prints \"[[ 2  2  4\n",
    "          #          [ 5  5  7]\n",
    "          #          [ 8  8 10]\n",
    "          #          [11 11 13]]\""
   ]
  },
  {
   "cell_type": "code",
   "execution_count": 26,
   "metadata": {},
   "outputs": [
    {
     "name": "stdout",
     "output_type": "stream",
     "text": [
      "[[ 2  2  4]\n",
      " [ 5  5  7]\n",
      " [ 8  8 10]\n",
      " [11 11 13]]\n"
     ]
    }
   ],
   "source": [
    "# We will add the vector v to each row of the matrix x,\n",
    "# storing the result in the matrix y\n",
    "x = np.array([[1,2,3], [4,5,6], [7,8,9], [10, 11, 12]])\n",
    "v = np.array([1, 0, 1])\n",
    "y = x + v  # Add v to each row of x using broadcasting\n",
    "print(y)  # Prints \"[[ 2  2  4]\n",
    "          #          [ 5  5  7]\n",
    "          #          [ 8  8 10]\n",
    "          #          [11 11 13]]\""
   ]
  },
  {
   "cell_type": "code",
   "execution_count": 27,
   "metadata": {},
   "outputs": [
    {
     "name": "stdout",
     "output_type": "stream",
     "text": [
      "[[ 4  5]\n",
      " [ 8 10]\n",
      " [12 15]]\n",
      "[[2 4 6]\n",
      " [5 7 9]]\n",
      "[[ 5  6  7]\n",
      " [ 9 10 11]]\n",
      "[[ 5  6  7]\n",
      " [ 9 10 11]]\n",
      "[[ 2  4  6]\n",
      " [ 8 10 12]]\n"
     ]
    }
   ],
   "source": [
    "# Compute outer product of vectors\n",
    "v = np.array([1,2,3])  # v has shape (3,)\n",
    "w = np.array([4,5])    # w has shape (2,)\n",
    "# To compute an outer product, we first reshape v to be a column\n",
    "# vector of shape (3, 1); we can then broadcast it against w to yield\n",
    "# an output of shape (3, 2), which is the outer product of v and w:\n",
    "# [[ 4  5]\n",
    "#  [ 8 10]\n",
    "#  [12 15]]\n",
    "print(np.reshape(v, (3, 1)) * w)\n",
    "\n",
    "# Add a vector to each row of a matrix\n",
    "x = np.array([[1,2,3], [4,5,6]])\n",
    "# x has shape (2, 3) and v has shape (3,) so they broadcast to (2, 3),\n",
    "# giving the following matrix:\n",
    "# [[2 4 6]\n",
    "#  [5 7 9]]\n",
    "print(x + v)\n",
    "\n",
    "# Add a vector to each column of a matrix\n",
    "# x has shape (2, 3) and w has shape (2,).\n",
    "# If we transpose x then it has shape (3, 2) and can be broadcast\n",
    "# against w to yield a result of shape (3, 2); transposing this result\n",
    "# yields the final result of shape (2, 3) which is the matrix x with\n",
    "# the vector w added to each column. Gives the following matrix:\n",
    "# [[ 5  6  7]\n",
    "#  [ 9 10 11]]\n",
    "print((x.T + w).T)\n",
    "# Another solution is to reshape w to be a column vector of shape (2, 1);\n",
    "# we can then broadcast it directly against x to produce the same\n",
    "# output.\n",
    "print(x + np.reshape(w, (2, 1)))\n",
    "\n",
    "# Multiply a matrix by a constant:\n",
    "# x has shape (2, 3). Numpy treats scalars as arrays of shape ();\n",
    "# these can be broadcast together to shape (2, 3), producing the\n",
    "# following array:\n",
    "# [[ 2  4  6]\n",
    "#  [ 8 10 12]]\n",
    "print(x * 2)"
   ]
  },
  {
   "cell_type": "markdown",
   "metadata": {},
   "source": [
    "### Matplotlib"
   ]
  },
  {
   "cell_type": "code",
   "execution_count": 29,
   "metadata": {},
   "outputs": [
    {
     "data": {
      "image/png": "[encoded data removed]",
      "text/plain": [
       "<Figure size 432x288 with 1 Axes>"
      ]
     },
     "metadata": {
      "needs_background": "light"
     },
     "output_type": "display_data"
    }
   ],
   "source": [
    "import matplotlib.pyplot as plt\n",
    "import numpy as np\n",
    "\n",
    "data = np.arange(100, 201)\n",
    "plt.plot(data)\n",
    "plt.show()"
   ]
  },
  {
   "cell_type": "code",
   "execution_count": 30,
   "metadata": {},
   "outputs": [
    {
     "data": {
      "image/png": "[encoded data removed]",
      "text/plain": [
       "<Figure size 432x288 with 1 Axes>"
      ]
     },
     "metadata": {
      "needs_background": "light"
     },
     "output_type": "display_data"
    },
    {
     "data": {
      "image/png": "[encoded data removed]",
      "text/plain": [
       "<Figure size 432x288 with 1 Axes>"
      ]
     },
     "metadata": {
      "needs_background": "light"
     },
     "output_type": "display_data"
    }
   ],
   "source": [
    "data = np.arange(100, 201)\n",
    "plt.plot(data)\n",
    "\n",
    "data2 = np.arange(200, 301)\n",
    "plt.figure()\n",
    "plt.plot(data2)\n",
    "\n",
    "plt.show()"
   ]
  },
  {
   "cell_type": "code",
   "execution_count": 31,
   "metadata": {},
   "outputs": [
    {
     "data": {
      "image/png": "[encoded data removed]",
      "text/plain": [
       "<Figure size 432x288 with 2 Axes>"
      ]
     },
     "metadata": {
      "needs_background": "light"
     },
     "output_type": "display_data"
    }
   ],
   "source": [
    "data = np.arange(100, 201)\n",
    "plt.subplot(2, 1, 1)\n",
    "plt.plot(data)\n",
    "\n",
    "data2 = np.arange(200, 301)\n",
    "plt.subplot(2, 1, 2)\n",
    "plt.plot(data2)\n",
    "\n",
    "plt.show()"
   ]
  },
  {
   "cell_type": "code",
   "execution_count": 32,
   "metadata": {},
   "outputs": [
    {
     "data": {
      "image/png": "[encoded data removed]",
      "text/plain": [
       "<Figure size 432x288 with 2 Axes>"
      ]
     },
     "metadata": {
      "needs_background": "light"
     },
     "output_type": "display_data"
    }
   ],
   "source": [
    "data = np.arange(100, 201)\n",
    "plt.subplot(211)\n",
    "plt.plot(data)\n",
    "\n",
    "data2 = np.arange(200, 301)\n",
    "plt.subplot(212)\n",
    "plt.plot(data2)\n",
    "\n",
    "plt.show()"
   ]
  },
  {
   "cell_type": "markdown",
   "metadata": {},
   "source": [
    "### colors \n",
    "- b: blue(default) \n",
    "- g: green\n",
    "- r: red\n",
    "- c: cyan\n",
    "- m: magenta \n",
    "- y: yellow \n",
    "- k: black\n",
    "- w: white"
   ]
  },
  {
   "cell_type": "code",
   "execution_count": 33,
   "metadata": {},
   "outputs": [
    {
     "data": {
      "image/png": "[encoded data removed]",
      "text/plain": [
       "<Figure size 432x288 with 1 Axes>"
      ]
     },
     "metadata": {
      "needs_background": "light"
     },
     "output_type": "display_data"
    }
   ],
   "source": [
    "plt.plot([1, 2, 3], [3, 6, 9], '-r')\n",
    "plt.plot([1, 2, 3], [2, 4, 9], ':g')\n",
    "plt.plot([1, 2, 3], [4, 4, 8], '--m')\n",
    "plt.plot([1, 2, 3], [9, 6, 5], '-.k')\n",
    "plt.show()"
   ]
  },
  {
   "cell_type": "code",
   "execution_count": 34,
   "metadata": {},
   "outputs": [
    {
     "data": {
      "image/png": "[encoded data removed]",
      "text/plain": [
       "<Figure size 432x288 with 1 Axes>"
      ]
     },
     "metadata": {
      "needs_background": "light"
     },
     "output_type": "display_data"
    }
   ],
   "source": [
    "N = 20\n",
    "\n",
    "plt.scatter(np.random.rand(N) * 100,\n",
    "            np.random.rand(N) * 100,\n",
    "            c='r', s=100, alpha=0.5)\n",
    "\n",
    "plt.scatter(np.random.rand(N) * 100,\n",
    "            np.random.rand(N) * 100,\n",
    "            c='g', s=200, alpha=0.5)\n",
    "\n",
    "plt.scatter(np.random.rand(N) * 100,\n",
    "            np.random.rand(N) * 100,\n",
    "            c='b', s=300, alpha=0.5)\n",
    "\n",
    "plt.show()"
   ]
  },
  {
   "cell_type": "code",
   "execution_count": 35,
   "metadata": {},
   "outputs": [
    {
     "data": {
      "image/png": "[encoded data removed]",
      "text/plain": [
       "<Figure size 432x288 with 1 Axes>"
      ]
     },
     "metadata": {
      "needs_background": "light"
     },
     "output_type": "display_data"
    }
   ],
   "source": [
    "N = 7\n",
    "\n",
    "x = np.arange(N)\n",
    "data = np.random.randint(low=0, high=100, size=N)\n",
    "colors = np.random.rand(N * 3).reshape(N, -1)\n",
    "labels = ['Mon', 'Tue', 'Wed', 'Thu', 'Fri', 'Sat', 'Sun']\n",
    "\n",
    "plt.title(\"Weekday Data\")\n",
    "plt.bar(x, data, alpha=0.8, color=colors, tick_label=labels)\n",
    "plt.show()"
   ]
  },
  {
   "cell_type": "markdown",
   "metadata": {},
   "source": [
    "### Pandas"
   ]
  },
  {
   "cell_type": "code",
   "execution_count": 36,
   "metadata": {},
   "outputs": [],
   "source": [
    "import numpy as np\n",
    "import pandas as pd\n",
    "\n",
    "# xlrd , xlwt"
   ]
  },
  {
   "cell_type": "code",
   "execution_count": 37,
   "metadata": {},
   "outputs": [],
   "source": [
    "s = pd.Series([1, 3, 5, np.nan, 6, 8])"
   ]
  },
  {
   "cell_type": "code",
   "execution_count": 38,
   "metadata": {},
   "outputs": [
    {
     "data": {
      "text/plain": [
       "0    1.0\n",
       "1    3.0\n",
       "2    5.0\n",
       "3    NaN\n",
       "4    6.0\n",
       "5    8.0\n",
       "dtype: float64"
      ]
     },
     "execution_count": 38,
     "metadata": {},
     "output_type": "execute_result"
    }
   ],
   "source": [
    "s"
   ]
  },
  {
   "cell_type": "code",
   "execution_count": 39,
   "metadata": {},
   "outputs": [],
   "source": [
    "dates = pd.date_range('20130101', periods=6)"
   ]
  },
  {
   "cell_type": "code",
   "execution_count": 40,
   "metadata": {},
   "outputs": [
    {
     "data": {
      "text/plain": [
       "DatetimeIndex(['2013-01-01', '2013-01-02', '2013-01-03', '2013-01-04',\n",
       "               '2013-01-05', '2013-01-06'],\n",
       "              dtype='datetime64[ns]', freq='D')"
      ]
     },
     "execution_count": 40,
     "metadata": {},
     "output_type": "execute_result"
    }
   ],
   "source": [
    "dates"
   ]
  },
  {
   "cell_type": "code",
   "execution_count": 41,
   "metadata": {},
   "outputs": [],
   "source": [
    "df2 = pd.DataFrame({'A': 1.,\n",
    "                   'B': pd.Timestamp('20130102'),\n",
    "                   'C': pd.Series(1, index=list(range(4)), dtype='float32'),\n",
    "                    'D': np.array([3] * 4, dtype='int32'),\n",
    "                     'E': pd.Categorical([\"test\", \"train\", \"test\", \"train\"]),\n",
    "                    'F': 'foo'})"
   ]
  },
  {
   "cell_type": "code",
   "execution_count": 42,
   "metadata": {},
   "outputs": [
    {
     "data": {
      "text/html": [
       "<div>\n",
       "<style scoped>\n",
       "    .dataframe tbody tr th:only-of-type {\n",
       "        vertical-align: middle;\n",
       "    }\n",
       "\n",
       "    .dataframe tbody tr th {\n",
       "        vertical-align: top;\n",
       "    }\n",
       "\n",
       "    .dataframe thead th {\n",
       "        text-align: right;\n",
       "    }\n",
       "</style>\n",
       "<table border=\"1\" class=\"dataframe\">\n",
       "  <thead>\n",
       "    <tr style=\"text-align: right;\">\n",
       "      <th></th>\n",
       "      <th>A</th>\n",
       "      <th>B</th>\n",
       "      <th>C</th>\n",
       "      <th>D</th>\n",
       "      <th>E</th>\n",
       "      <th>F</th>\n",
       "    </tr>\n",
       "  </thead>\n",
       "  <tbody>\n",
       "    <tr>\n",
       "      <th>0</th>\n",
       "      <td>1.0</td>\n",
       "      <td>2013-01-02</td>\n",
       "      <td>1.0</td>\n",
       "      <td>3</td>\n",
       "      <td>test</td>\n",
       "      <td>foo</td>\n",
       "    </tr>\n",
       "    <tr>\n",
       "      <th>1</th>\n",
       "      <td>1.0</td>\n",
       "      <td>2013-01-02</td>\n",
       "      <td>1.0</td>\n",
       "      <td>3</td>\n",
       "      <td>train</td>\n",
       "      <td>foo</td>\n",
       "    </tr>\n",
       "    <tr>\n",
       "      <th>2</th>\n",
       "      <td>1.0</td>\n",
       "      <td>2013-01-02</td>\n",
       "      <td>1.0</td>\n",
       "      <td>3</td>\n",
       "      <td>test</td>\n",
       "      <td>foo</td>\n",
       "    </tr>\n",
       "    <tr>\n",
       "      <th>3</th>\n",
       "      <td>1.0</td>\n",
       "      <td>2013-01-02</td>\n",
       "      <td>1.0</td>\n",
       "      <td>3</td>\n",
       "      <td>train</td>\n",
       "      <td>foo</td>\n",
       "    </tr>\n",
       "  </tbody>\n",
       "</table>\n",
       "</div>"
      ],
      "text/plain": [
       "     A          B    C  D      E    F\n",
       "0  1.0 2013-01-02  1.0  3   test  foo\n",
       "1  1.0 2013-01-02  1.0  3  train  foo\n",
       "2  1.0 2013-01-02  1.0  3   test  foo\n",
       "3  1.0 2013-01-02  1.0  3  train  foo"
      ]
     },
     "execution_count": 42,
     "metadata": {},
     "output_type": "execute_result"
    }
   ],
   "source": [
    "df2"
   ]
  },
  {
   "cell_type": "code",
   "execution_count": 43,
   "metadata": {},
   "outputs": [
    {
     "data": {
      "text/plain": [
       "A           float64\n",
       "B    datetime64[ns]\n",
       "C           float32\n",
       "D             int32\n",
       "E          category\n",
       "F            object\n",
       "dtype: object"
      ]
     },
     "execution_count": 43,
     "metadata": {},
     "output_type": "execute_result"
    }
   ],
   "source": [
    "df2.dtypes"
   ]
  },
  {
   "cell_type": "code",
   "execution_count": 44,
   "metadata": {},
   "outputs": [
    {
     "data": {
      "text/html": [
       "<div>\n",
       "<style scoped>\n",
       "    .dataframe tbody tr th:only-of-type {\n",
       "        vertical-align: middle;\n",
       "    }\n",
       "\n",
       "    .dataframe tbody tr th {\n",
       "        vertical-align: top;\n",
       "    }\n",
       "\n",
       "    .dataframe thead th {\n",
       "        text-align: right;\n",
       "    }\n",
       "</style>\n",
       "<table border=\"1\" class=\"dataframe\">\n",
       "  <thead>\n",
       "    <tr style=\"text-align: right;\">\n",
       "      <th></th>\n",
       "      <th>A</th>\n",
       "      <th>B</th>\n",
       "      <th>C</th>\n",
       "      <th>D</th>\n",
       "      <th>E</th>\n",
       "      <th>F</th>\n",
       "    </tr>\n",
       "  </thead>\n",
       "  <tbody>\n",
       "    <tr>\n",
       "      <th>0</th>\n",
       "      <td>1.0</td>\n",
       "      <td>2013-01-02</td>\n",
       "      <td>1.0</td>\n",
       "      <td>3</td>\n",
       "      <td>test</td>\n",
       "      <td>foo</td>\n",
       "    </tr>\n",
       "    <tr>\n",
       "      <th>1</th>\n",
       "      <td>1.0</td>\n",
       "      <td>2013-01-02</td>\n",
       "      <td>1.0</td>\n",
       "      <td>3</td>\n",
       "      <td>train</td>\n",
       "      <td>foo</td>\n",
       "    </tr>\n",
       "  </tbody>\n",
       "</table>\n",
       "</div>"
      ],
      "text/plain": [
       "     A          B    C  D      E    F\n",
       "0  1.0 2013-01-02  1.0  3   test  foo\n",
       "1  1.0 2013-01-02  1.0  3  train  foo"
      ]
     },
     "execution_count": 44,
     "metadata": {},
     "output_type": "execute_result"
    }
   ],
   "source": [
    "df2.head(2)"
   ]
  },
  {
   "cell_type": "code",
   "execution_count": 45,
   "metadata": {},
   "outputs": [
    {
     "data": {
      "text/html": [
       "<div>\n",
       "<style scoped>\n",
       "    .dataframe tbody tr th:only-of-type {\n",
       "        vertical-align: middle;\n",
       "    }\n",
       "\n",
       "    .dataframe tbody tr th {\n",
       "        vertical-align: top;\n",
       "    }\n",
       "\n",
       "    .dataframe thead th {\n",
       "        text-align: right;\n",
       "    }\n",
       "</style>\n",
       "<table border=\"1\" class=\"dataframe\">\n",
       "  <thead>\n",
       "    <tr style=\"text-align: right;\">\n",
       "      <th></th>\n",
       "      <th>A</th>\n",
       "      <th>B</th>\n",
       "      <th>C</th>\n",
       "      <th>D</th>\n",
       "      <th>E</th>\n",
       "      <th>F</th>\n",
       "    </tr>\n",
       "  </thead>\n",
       "  <tbody>\n",
       "    <tr>\n",
       "      <th>1</th>\n",
       "      <td>1.0</td>\n",
       "      <td>2013-01-02</td>\n",
       "      <td>1.0</td>\n",
       "      <td>3</td>\n",
       "      <td>train</td>\n",
       "      <td>foo</td>\n",
       "    </tr>\n",
       "    <tr>\n",
       "      <th>2</th>\n",
       "      <td>1.0</td>\n",
       "      <td>2013-01-02</td>\n",
       "      <td>1.0</td>\n",
       "      <td>3</td>\n",
       "      <td>test</td>\n",
       "      <td>foo</td>\n",
       "    </tr>\n",
       "    <tr>\n",
       "      <th>3</th>\n",
       "      <td>1.0</td>\n",
       "      <td>2013-01-02</td>\n",
       "      <td>1.0</td>\n",
       "      <td>3</td>\n",
       "      <td>train</td>\n",
       "      <td>foo</td>\n",
       "    </tr>\n",
       "  </tbody>\n",
       "</table>\n",
       "</div>"
      ],
      "text/plain": [
       "     A          B    C  D      E    F\n",
       "1  1.0 2013-01-02  1.0  3  train  foo\n",
       "2  1.0 2013-01-02  1.0  3   test  foo\n",
       "3  1.0 2013-01-02  1.0  3  train  foo"
      ]
     },
     "execution_count": 45,
     "metadata": {},
     "output_type": "execute_result"
    }
   ],
   "source": [
    "df2.tail(3)"
   ]
  },
  {
   "cell_type": "code",
   "execution_count": 46,
   "metadata": {},
   "outputs": [
    {
     "data": {
      "text/plain": [
       "Int64Index([0, 1, 2, 3], dtype='int64')"
      ]
     },
     "execution_count": 46,
     "metadata": {},
     "output_type": "execute_result"
    }
   ],
   "source": [
    "df2.index"
   ]
  },
  {
   "cell_type": "code",
   "execution_count": 47,
   "metadata": {},
   "outputs": [
    {
     "data": {
      "text/plain": [
       "array([[1.0, Timestamp('2013-01-02 00:00:00'), 1.0, 3, 'test', 'foo'],\n",
       "       [1.0, Timestamp('2013-01-02 00:00:00'), 1.0, 3, 'train', 'foo'],\n",
       "       [1.0, Timestamp('2013-01-02 00:00:00'), 1.0, 3, 'test', 'foo'],\n",
       "       [1.0, Timestamp('2013-01-02 00:00:00'), 1.0, 3, 'train', 'foo']],\n",
       "      dtype=object)"
      ]
     },
     "execution_count": 47,
     "metadata": {},
     "output_type": "execute_result"
    }
   ],
   "source": [
    "df2.to_numpy()"
   ]
  },
  {
   "cell_type": "code",
   "execution_count": 48,
   "metadata": {},
   "outputs": [
    {
     "data": {
      "text/html": [
       "<div>\n",
       "<style scoped>\n",
       "    .dataframe tbody tr th:only-of-type {\n",
       "        vertical-align: middle;\n",
       "    }\n",
       "\n",
       "    .dataframe tbody tr th {\n",
       "        vertical-align: top;\n",
       "    }\n",
       "\n",
       "    .dataframe thead th {\n",
       "        text-align: right;\n",
       "    }\n",
       "</style>\n",
       "<table border=\"1\" class=\"dataframe\">\n",
       "  <thead>\n",
       "    <tr style=\"text-align: right;\">\n",
       "      <th></th>\n",
       "      <th>A</th>\n",
       "      <th>C</th>\n",
       "      <th>D</th>\n",
       "    </tr>\n",
       "  </thead>\n",
       "  <tbody>\n",
       "    <tr>\n",
       "      <th>count</th>\n",
       "      <td>4.0</td>\n",
       "      <td>4.0</td>\n",
       "      <td>4.0</td>\n",
       "    </tr>\n",
       "    <tr>\n",
       "      <th>mean</th>\n",
       "      <td>1.0</td>\n",
       "      <td>1.0</td>\n",
       "      <td>3.0</td>\n",
       "    </tr>\n",
       "    <tr>\n",
       "      <th>std</th>\n",
       "      <td>0.0</td>\n",
       "      <td>0.0</td>\n",
       "      <td>0.0</td>\n",
       "    </tr>\n",
       "    <tr>\n",
       "      <th>min</th>\n",
       "      <td>1.0</td>\n",
       "      <td>1.0</td>\n",
       "      <td>3.0</td>\n",
       "    </tr>\n",
       "    <tr>\n",
       "      <th>25%</th>\n",
       "      <td>1.0</td>\n",
       "      <td>1.0</td>\n",
       "      <td>3.0</td>\n",
       "    </tr>\n",
       "    <tr>\n",
       "      <th>50%</th>\n",
       "      <td>1.0</td>\n",
       "      <td>1.0</td>\n",
       "      <td>3.0</td>\n",
       "    </tr>\n",
       "    <tr>\n",
       "      <th>75%</th>\n",
       "      <td>1.0</td>\n",
       "      <td>1.0</td>\n",
       "      <td>3.0</td>\n",
       "    </tr>\n",
       "    <tr>\n",
       "      <th>max</th>\n",
       "      <td>1.0</td>\n",
       "      <td>1.0</td>\n",
       "      <td>3.0</td>\n",
       "    </tr>\n",
       "  </tbody>\n",
       "</table>\n",
       "</div>"
      ],
      "text/plain": [
       "         A    C    D\n",
       "count  4.0  4.0  4.0\n",
       "mean   1.0  1.0  3.0\n",
       "std    0.0  0.0  0.0\n",
       "min    1.0  1.0  3.0\n",
       "25%    1.0  1.0  3.0\n",
       "50%    1.0  1.0  3.0\n",
       "75%    1.0  1.0  3.0\n",
       "max    1.0  1.0  3.0"
      ]
     },
     "execution_count": 48,
     "metadata": {},
     "output_type": "execute_result"
    }
   ],
   "source": [
    "df2.describe()"
   ]
  },
  {
   "cell_type": "code",
   "execution_count": 49,
   "metadata": {},
   "outputs": [
    {
     "data": {
      "text/html": [
       "<div>\n",
       "<style scoped>\n",
       "    .dataframe tbody tr th:only-of-type {\n",
       "        vertical-align: middle;\n",
       "    }\n",
       "\n",
       "    .dataframe tbody tr th {\n",
       "        vertical-align: top;\n",
       "    }\n",
       "\n",
       "    .dataframe thead th {\n",
       "        text-align: right;\n",
       "    }\n",
       "</style>\n",
       "<table border=\"1\" class=\"dataframe\">\n",
       "  <thead>\n",
       "    <tr style=\"text-align: right;\">\n",
       "      <th></th>\n",
       "      <th>F</th>\n",
       "      <th>E</th>\n",
       "      <th>D</th>\n",
       "      <th>C</th>\n",
       "      <th>B</th>\n",
       "      <th>A</th>\n",
       "    </tr>\n",
       "  </thead>\n",
       "  <tbody>\n",
       "    <tr>\n",
       "      <th>0</th>\n",
       "      <td>foo</td>\n",
       "      <td>test</td>\n",
       "      <td>3</td>\n",
       "      <td>1.0</td>\n",
       "      <td>2013-01-02</td>\n",
       "      <td>1.0</td>\n",
       "    </tr>\n",
       "    <tr>\n",
       "      <th>1</th>\n",
       "      <td>foo</td>\n",
       "      <td>train</td>\n",
       "      <td>3</td>\n",
       "      <td>1.0</td>\n",
       "      <td>2013-01-02</td>\n",
       "      <td>1.0</td>\n",
       "    </tr>\n",
       "    <tr>\n",
       "      <th>2</th>\n",
       "      <td>foo</td>\n",
       "      <td>test</td>\n",
       "      <td>3</td>\n",
       "      <td>1.0</td>\n",
       "      <td>2013-01-02</td>\n",
       "      <td>1.0</td>\n",
       "    </tr>\n",
       "    <tr>\n",
       "      <th>3</th>\n",
       "      <td>foo</td>\n",
       "      <td>train</td>\n",
       "      <td>3</td>\n",
       "      <td>1.0</td>\n",
       "      <td>2013-01-02</td>\n",
       "      <td>1.0</td>\n",
       "    </tr>\n",
       "  </tbody>\n",
       "</table>\n",
       "</div>"
      ],
      "text/plain": [
       "     F      E  D    C          B    A\n",
       "0  foo   test  3  1.0 2013-01-02  1.0\n",
       "1  foo  train  3  1.0 2013-01-02  1.0\n",
       "2  foo   test  3  1.0 2013-01-02  1.0\n",
       "3  foo  train  3  1.0 2013-01-02  1.0"
      ]
     },
     "execution_count": 49,
     "metadata": {},
     "output_type": "execute_result"
    }
   ],
   "source": [
    "df2.sort_index(axis=1, ascending=False)"
   ]
  },
  {
   "cell_type": "code",
   "execution_count": 50,
   "metadata": {},
   "outputs": [
    {
     "data": {
      "text/html": [
       "<div>\n",
       "<style scoped>\n",
       "    .dataframe tbody tr th:only-of-type {\n",
       "        vertical-align: middle;\n",
       "    }\n",
       "\n",
       "    .dataframe tbody tr th {\n",
       "        vertical-align: top;\n",
       "    }\n",
       "\n",
       "    .dataframe thead th {\n",
       "        text-align: right;\n",
       "    }\n",
       "</style>\n",
       "<table border=\"1\" class=\"dataframe\">\n",
       "  <thead>\n",
       "    <tr style=\"text-align: right;\">\n",
       "      <th></th>\n",
       "      <th>A</th>\n",
       "      <th>B</th>\n",
       "      <th>C</th>\n",
       "      <th>D</th>\n",
       "      <th>E</th>\n",
       "      <th>F</th>\n",
       "    </tr>\n",
       "  </thead>\n",
       "  <tbody>\n",
       "    <tr>\n",
       "      <th>0</th>\n",
       "      <td>1.0</td>\n",
       "      <td>2013-01-02</td>\n",
       "      <td>1.0</td>\n",
       "      <td>3</td>\n",
       "      <td>test</td>\n",
       "      <td>foo</td>\n",
       "    </tr>\n",
       "    <tr>\n",
       "      <th>1</th>\n",
       "      <td>1.0</td>\n",
       "      <td>2013-01-02</td>\n",
       "      <td>1.0</td>\n",
       "      <td>3</td>\n",
       "      <td>train</td>\n",
       "      <td>foo</td>\n",
       "    </tr>\n",
       "    <tr>\n",
       "      <th>2</th>\n",
       "      <td>1.0</td>\n",
       "      <td>2013-01-02</td>\n",
       "      <td>1.0</td>\n",
       "      <td>3</td>\n",
       "      <td>test</td>\n",
       "      <td>foo</td>\n",
       "    </tr>\n",
       "    <tr>\n",
       "      <th>3</th>\n",
       "      <td>1.0</td>\n",
       "      <td>2013-01-02</td>\n",
       "      <td>1.0</td>\n",
       "      <td>3</td>\n",
       "      <td>train</td>\n",
       "      <td>foo</td>\n",
       "    </tr>\n",
       "  </tbody>\n",
       "</table>\n",
       "</div>"
      ],
      "text/plain": [
       "     A          B    C  D      E    F\n",
       "0  1.0 2013-01-02  1.0  3   test  foo\n",
       "1  1.0 2013-01-02  1.0  3  train  foo\n",
       "2  1.0 2013-01-02  1.0  3   test  foo\n",
       "3  1.0 2013-01-02  1.0  3  train  foo"
      ]
     },
     "execution_count": 50,
     "metadata": {},
     "output_type": "execute_result"
    }
   ],
   "source": [
    "df2.sort_values(by='B')"
   ]
  },
  {
   "cell_type": "code",
   "execution_count": 51,
   "metadata": {},
   "outputs": [
    {
     "data": {
      "text/plain": [
       "0    1.0\n",
       "1    1.0\n",
       "2    1.0\n",
       "3    1.0\n",
       "Name: A, dtype: float64"
      ]
     },
     "execution_count": 51,
     "metadata": {},
     "output_type": "execute_result"
    }
   ],
   "source": [
    "df2['A']"
   ]
  },
  {
   "cell_type": "code",
   "execution_count": 52,
   "metadata": {},
   "outputs": [
    {
     "data": {
      "text/html": [
       "<div>\n",
       "<style scoped>\n",
       "    .dataframe tbody tr th:only-of-type {\n",
       "        vertical-align: middle;\n",
       "    }\n",
       "\n",
       "    .dataframe tbody tr th {\n",
       "        vertical-align: top;\n",
       "    }\n",
       "\n",
       "    .dataframe thead th {\n",
       "        text-align: right;\n",
       "    }\n",
       "</style>\n",
       "<table border=\"1\" class=\"dataframe\">\n",
       "  <thead>\n",
       "    <tr style=\"text-align: right;\">\n",
       "      <th></th>\n",
       "      <th>A</th>\n",
       "      <th>B</th>\n",
       "      <th>C</th>\n",
       "      <th>D</th>\n",
       "      <th>E</th>\n",
       "      <th>F</th>\n",
       "    </tr>\n",
       "  </thead>\n",
       "  <tbody>\n",
       "    <tr>\n",
       "      <th>0</th>\n",
       "      <td>1.0</td>\n",
       "      <td>2013-01-02</td>\n",
       "      <td>1.0</td>\n",
       "      <td>3</td>\n",
       "      <td>test</td>\n",
       "      <td>foo</td>\n",
       "    </tr>\n",
       "    <tr>\n",
       "      <th>1</th>\n",
       "      <td>1.0</td>\n",
       "      <td>2013-01-02</td>\n",
       "      <td>1.0</td>\n",
       "      <td>3</td>\n",
       "      <td>train</td>\n",
       "      <td>foo</td>\n",
       "    </tr>\n",
       "    <tr>\n",
       "      <th>2</th>\n",
       "      <td>1.0</td>\n",
       "      <td>2013-01-02</td>\n",
       "      <td>1.0</td>\n",
       "      <td>3</td>\n",
       "      <td>test</td>\n",
       "      <td>foo</td>\n",
       "    </tr>\n",
       "  </tbody>\n",
       "</table>\n",
       "</div>"
      ],
      "text/plain": [
       "     A          B    C  D      E    F\n",
       "0  1.0 2013-01-02  1.0  3   test  foo\n",
       "1  1.0 2013-01-02  1.0  3  train  foo\n",
       "2  1.0 2013-01-02  1.0  3   test  foo"
      ]
     },
     "execution_count": 52,
     "metadata": {},
     "output_type": "execute_result"
    }
   ],
   "source": [
    "df2[0:3]"
   ]
  },
  {
   "cell_type": "code",
   "execution_count": 53,
   "metadata": {},
   "outputs": [],
   "source": [
    "df2.to_csv('foo.csv')"
   ]
  },
  {
   "cell_type": "code",
   "execution_count": 55,
   "metadata": {},
   "outputs": [
    {
     "data": {
      "text/html": [
       "<div>\n",
       "<style scoped>\n",
       "    .dataframe tbody tr th:only-of-type {\n",
       "        vertical-align: middle;\n",
       "    }\n",
       "\n",
       "    .dataframe tbody tr th {\n",
       "        vertical-align: top;\n",
       "    }\n",
       "\n",
       "    .dataframe thead th {\n",
       "        text-align: right;\n",
       "    }\n",
       "</style>\n",
       "<table border=\"1\" class=\"dataframe\">\n",
       "  <thead>\n",
       "    <tr style=\"text-align: right;\">\n",
       "      <th></th>\n",
       "      <th>Unnamed: 0</th>\n",
       "      <th>A</th>\n",
       "      <th>B</th>\n",
       "      <th>C</th>\n",
       "      <th>D</th>\n",
       "      <th>E</th>\n",
       "      <th>F</th>\n",
       "    </tr>\n",
       "  </thead>\n",
       "  <tbody>\n",
       "    <tr>\n",
       "      <th>0</th>\n",
       "      <td>0</td>\n",
       "      <td>1.0</td>\n",
       "      <td>2013-01-02</td>\n",
       "      <td>1.0</td>\n",
       "      <td>3</td>\n",
       "      <td>test</td>\n",
       "      <td>foo</td>\n",
       "    </tr>\n",
       "    <tr>\n",
       "      <th>1</th>\n",
       "      <td>1</td>\n",
       "      <td>1.0</td>\n",
       "      <td>2013-01-02</td>\n",
       "      <td>1.0</td>\n",
       "      <td>3</td>\n",
       "      <td>train</td>\n",
       "      <td>foo</td>\n",
       "    </tr>\n",
       "    <tr>\n",
       "      <th>2</th>\n",
       "      <td>2</td>\n",
       "      <td>1.0</td>\n",
       "      <td>2013-01-02</td>\n",
       "      <td>1.0</td>\n",
       "      <td>3</td>\n",
       "      <td>test</td>\n",
       "      <td>foo</td>\n",
       "    </tr>\n",
       "    <tr>\n",
       "      <th>3</th>\n",
       "      <td>3</td>\n",
       "      <td>1.0</td>\n",
       "      <td>2013-01-02</td>\n",
       "      <td>1.0</td>\n",
       "      <td>3</td>\n",
       "      <td>train</td>\n",
       "      <td>foo</td>\n",
       "    </tr>\n",
       "  </tbody>\n",
       "</table>\n",
       "</div>"
      ],
      "text/plain": [
       "   Unnamed: 0    A           B    C  D      E    F\n",
       "0           0  1.0  2013-01-02  1.0  3   test  foo\n",
       "1           1  1.0  2013-01-02  1.0  3  train  foo\n",
       "2           2  1.0  2013-01-02  1.0  3   test  foo\n",
       "3           3  1.0  2013-01-02  1.0  3  train  foo"
      ]
     },
     "execution_count": 55,
     "metadata": {},
     "output_type": "execute_result"
    }
   ],
   "source": [
    "pd.read_csv('foo.csv')"
   ]
  },
  {
   "cell_type": "markdown",
   "metadata": {},
   "source": [
    "## Linear regression"
   ]
  },
  {
   "cell_type": "code",
   "execution_count": 54,
   "metadata": {
    "colab": {
     "base_uri": "https://localhost:8080/",
     "height": 34
    },
    "colab_type": "code",
    "id": "e-A0vgnmRPXf",
    "outputId": "c9834f7d-5168-416e-a3d1-fd885322a612"
   },
   "outputs": [
    {
     "name": "stdout",
     "output_type": "stream",
     "text": [
      "2.2.0\n"
     ]
    }
   ],
   "source": [
    "import tensorflow as tf # !pip install tensorflow -َU or !pip install tensorflow==2.2.0\n",
    "import numpy as np\n",
    "import pandas as pd\n",
    "from sklearn.model_selection import train_test_split\n",
    "\n",
    "print( tf.__version__ )\n"
   ]
  },
  {
   "cell_type": "markdown",
   "metadata": {
    "colab_type": "text",
    "id": "ZrLriFD3kVB_"
   },
   "source": [
    "**Note:**  Installing TensorFlow 2.0 can be an optional step if the Google Colab runtime has it by default. You can first check the TensorFlow version and then install TF 2.0 if necessary."
   ]
  },
  {
   "cell_type": "markdown",
   "metadata": {
    "colab_type": "text",
    "id": "gSjWLlrOktS_"
   },
   "source": [
    "## Processing the Data\n",
    "We download and preprocess our data for training and testing."
   ]
  },
  {
   "cell_type": "markdown",
   "metadata": {
    "colab_type": "text",
    "id": "yTPjzPnQlkTv"
   },
   "source": [
    "### Downloading the CSV file from GitHub\n",
    "\n",
    "We will download the ZIP archive hosted at [shubham0204/Dataset_Archives](https://github.com/shubham0204/Dataset_Archives) which contains the main CSV file. We are going to use the data from [Graduate Admissions on Kaggle.com](https://www.kaggle.com/mohansacharya/graduate-admissions). That's simple Python!\n",
    "\n",
    "\n"
   ]
  },
  {
   "cell_type": "code",
   "execution_count": 55,
   "metadata": {
    "colab": {},
    "colab_type": "code",
    "id": "8eIcvmD2l79n"
   },
   "outputs": [],
   "source": [
    "\n",
    "import requests, zipfile, io\n",
    "\n",
    "r = requests.get( 'https://github.com/shubham0204/Dataset_Archives/blob/master/graduate_admission_prediction.zip?raw=true' ) \n",
    "z = zipfile.ZipFile(io.BytesIO(r.content))\n",
    "z.extractall() \n"
   ]
  },
  {
   "cell_type": "code",
   "execution_count": 56,
   "metadata": {
    "colab": {
     "base_uri": "https://localhost:8080/",
     "height": 204
    },
    "colab_type": "code",
    "id": "VycstAovSbng",
    "outputId": "46a4773d-e82d-454a-a97e-f6e0657d2a8c"
   },
   "outputs": [
    {
     "data": {
      "text/html": [
       "<div>\n",
       "<style scoped>\n",
       "    .dataframe tbody tr th:only-of-type {\n",
       "        vertical-align: middle;\n",
       "    }\n",
       "\n",
       "    .dataframe tbody tr th {\n",
       "        vertical-align: top;\n",
       "    }\n",
       "\n",
       "    .dataframe thead th {\n",
       "        text-align: right;\n",
       "    }\n",
       "</style>\n",
       "<table border=\"1\" class=\"dataframe\">\n",
       "  <thead>\n",
       "    <tr style=\"text-align: right;\">\n",
       "      <th></th>\n",
       "      <th>Serial No.</th>\n",
       "      <th>GRE Score</th>\n",
       "      <th>TOEFL Score</th>\n",
       "      <th>University Rating</th>\n",
       "      <th>SOP</th>\n",
       "      <th>LOR</th>\n",
       "      <th>CGPA</th>\n",
       "      <th>Research</th>\n",
       "      <th>Chance of Admit</th>\n",
       "    </tr>\n",
       "  </thead>\n",
       "  <tbody>\n",
       "    <tr>\n",
       "      <th>0</th>\n",
       "      <td>1</td>\n",
       "      <td>337</td>\n",
       "      <td>118</td>\n",
       "      <td>4</td>\n",
       "      <td>4.5</td>\n",
       "      <td>4.5</td>\n",
       "      <td>9.65</td>\n",
       "      <td>1</td>\n",
       "      <td>0.92</td>\n",
       "    </tr>\n",
       "    <tr>\n",
       "      <th>1</th>\n",
       "      <td>2</td>\n",
       "      <td>324</td>\n",
       "      <td>107</td>\n",
       "      <td>4</td>\n",
       "      <td>4.0</td>\n",
       "      <td>4.5</td>\n",
       "      <td>8.87</td>\n",
       "      <td>1</td>\n",
       "      <td>0.76</td>\n",
       "    </tr>\n",
       "    <tr>\n",
       "      <th>2</th>\n",
       "      <td>3</td>\n",
       "      <td>316</td>\n",
       "      <td>104</td>\n",
       "      <td>3</td>\n",
       "      <td>3.0</td>\n",
       "      <td>3.5</td>\n",
       "      <td>8.00</td>\n",
       "      <td>1</td>\n",
       "      <td>0.72</td>\n",
       "    </tr>\n",
       "    <tr>\n",
       "      <th>3</th>\n",
       "      <td>4</td>\n",
       "      <td>322</td>\n",
       "      <td>110</td>\n",
       "      <td>3</td>\n",
       "      <td>3.5</td>\n",
       "      <td>2.5</td>\n",
       "      <td>8.67</td>\n",
       "      <td>1</td>\n",
       "      <td>0.80</td>\n",
       "    </tr>\n",
       "    <tr>\n",
       "      <th>4</th>\n",
       "      <td>5</td>\n",
       "      <td>314</td>\n",
       "      <td>103</td>\n",
       "      <td>2</td>\n",
       "      <td>2.0</td>\n",
       "      <td>3.0</td>\n",
       "      <td>8.21</td>\n",
       "      <td>0</td>\n",
       "      <td>0.65</td>\n",
       "    </tr>\n",
       "  </tbody>\n",
       "</table>\n",
       "</div>"
      ],
      "text/plain": [
       "   Serial No.  GRE Score  TOEFL Score  University Rating  SOP  LOR   CGPA  \\\n",
       "0           1        337          118                  4  4.5   4.5  9.65   \n",
       "1           2        324          107                  4  4.0   4.5  8.87   \n",
       "2           3        316          104                  3  3.0   3.5  8.00   \n",
       "3           4        322          110                  3  3.5   2.5  8.67   \n",
       "4           5        314          103                  2  2.0   3.0  8.21   \n",
       "\n",
       "   Research  Chance of Admit   \n",
       "0         1              0.92  \n",
       "1         1              0.76  \n",
       "2         1              0.72  \n",
       "3         1              0.80  \n",
       "4         0              0.65  "
      ]
     },
     "execution_count": 56,
     "metadata": {},
     "output_type": "execute_result"
    }
   ],
   "source": [
    "\n",
    "data = pd.read_csv( 'graduate_admission_prediction/Admission_Predict_Ver1.1.csv' )\n",
    "data.head()\n"
   ]
  },
  {
   "cell_type": "markdown",
   "metadata": {
    "colab_type": "text",
    "id": "ROmU8ZtivjTe"
   },
   "source": [
    "### Processing the CSV\n",
    "\n",
    "We parse the values of the features from the Pandas `data` object. The steps are as follows:\n",
    "\n",
    "1.   Read the values from the numeric/continuous features and normalize them by dividing with 100. ( `continuous_features` ) \n",
    "2.   Read the values from the binary feature. ( `categorical_research_feature` ) \n",
    "3.   Concatenate both the features types to form the final features array. ( `X` )\n",
    "4.   Parse the label values. ( Y ) \n",
    "5.   Split the `X` and `Y` into training and validation datasets.\n",
    "6.   Convert all the arrays to `tf.Tensor` objects.\n",
    "\n",
    "\n",
    "\n"
   ]
  },
  {
   "cell_type": "code",
   "execution_count": 57,
   "metadata": {
    "colab": {},
    "colab_type": "code",
    "id": "_2UugVvZS_7x"
   },
   "outputs": [],
   "source": [
    "\n",
    "continuous_features = data[ ['GRE Score','TOEFL Score','University Rating','SOP','LOR ','CGPA'] ].values / 100 # ----( 1 )\n",
    "categorical_research_features = data[ [ 'Research' ] ].values # ----( 2 )\n",
    "\n",
    "X = np.concatenate( [ continuous_features , categorical_research_features ] , axis=1 ) # ----( 3 )\n",
    "Y = data[ [ 'Chance of Admit ' ] ].values # ----( 4 )\n",
    "\n",
    "train_features , test_features ,train_labels, test_labels = train_test_split( X , Y , test_size=0.2 ) # ----( 5 )\n",
    "\n",
    "X = tf.constant( train_features , dtype=tf.float32 ) # -----|\n",
    "Y = tf.constant( train_labels , dtype=tf.float32 ) # -------|\n",
    "                                                           #|---( 6 )\n",
    "test_X = tf.constant( test_features , dtype=tf.float32 ) #--|\n",
    "test_Y = tf.constant( test_labels , dtype=tf.float32 ) # ---|\n"
   ]
  },
  {
   "cell_type": "markdown",
   "metadata": {
    "colab_type": "text",
    "id": "xhOEx2981Xfs"
   },
   "source": [
    "### Mean Squared Error and its derivative\n",
    "\n",
    "We define a method which calculates the mean squared error given the predictions and the expected outcomes.\n",
    "\n",
    "$\\Large MSE( y , \\hat{y} ) = \\frac{ \\sum_{i=0}^{N} ( y_i - \\hat{y}_i )^2 } { N }$\n",
    "\n",
    "And its derivative,\n",
    "\n",
    "$\\Large MSE'( y , \\hat{y} ) = \\frac{ 2 * \\sum_{i=0}^{N} ( y_i - \\hat{y}_i ) } { N }$\n",
    "\n"
   ]
  },
  {
   "cell_type": "code",
   "execution_count": 58,
   "metadata": {
    "colab": {},
    "colab_type": "code",
    "id": "yaTYPGTIGwcY"
   },
   "outputs": [],
   "source": [
    "def mean_squared_error( Y , y_pred ):\n",
    "    return tf.reduce_mean( tf.square( y_pred - Y ) )\n",
    "\n",
    "def mean_squared_error_deriv( Y , y_pred ):\n",
    "    return tf.reshape( tf.reduce_mean( 2 * ( y_pred - Y ) ) , [ 1 , 1 ] )\n"
   ]
  },
  {
   "cell_type": "markdown",
   "metadata": {
    "colab_type": "text",
    "id": "s_4B8k9G2pHf"
   },
   "source": [
    "### Hypothesis function (  Regression function )\n",
    "\n",
    "We define the hypothesis function *h* which takes in the weights and the bias and outputs the *Y* value for the given value of *X*.\n",
    "\n",
    "$\\Large h( x ) = W.X + B$\n",
    "\n",
    "where $W$ and $X$ are the parameters which are going to optimize by Gradient Descent\n",
    "\n"
   ]
  },
  {
   "cell_type": "code",
   "execution_count": 59,
   "metadata": {
    "colab": {},
    "colab_type": "code",
    "id": "HugDGNhAaF7v"
   },
   "outputs": [],
   "source": [
    "def h ( X , weights , bias ):\n",
    "    return tf.tensordot( X , weights , axes=1 ) + bias\n"
   ]
  },
  {
   "cell_type": "markdown",
   "metadata": {
    "colab_type": "text",
    "id": "VsQQJI6T33Ui"
   },
   "source": [
    "### Defining hyperparameters and `tf.data.Dataset`\n",
    "We define two hyperparameters which will affect our training process.\n",
    "\n",
    "*   Batch Size $\\to$ The size of the mini-batch used in mini-batch gradient descent.\n",
    "*   Learning Rate $\\to$ The scalar value which scales the step size of the gradients.\n",
    "\n",
    "Also, for effective mini-batch training, we create a [`tf.data.Dataset`](https://www.tensorflow.org/versions/r2.0/api_docs/python/tf/data/Dataset) object which holds and batches our data tensors.\n",
    "\n",
    "\n",
    "\n"
   ]
  },
  {
   "cell_type": "code",
   "execution_count": 60,
   "metadata": {
    "colab": {},
    "colab_type": "code",
    "id": "g3aewwV75USS"
   },
   "outputs": [],
   "source": [
    "\n",
    "num_epochs = 10\n",
    "num_samples = X.shape[0]\n",
    "batch_size = 10\n",
    "learning_rate = 0.001\n",
    "\n",
    "dataset = tf.data.Dataset.from_tensor_slices(( X , Y )) \n",
    "dataset = dataset.shuffle( 500 ).repeat( num_epochs ).batch( batch_size )\n",
    "iterator = dataset.__iter__()\n"
   ]
  },
  {
   "cell_type": "markdown",
   "metadata": {
    "colab_type": "text",
    "id": "oViTe5G75YK7"
   },
   "source": [
    "### Training the model\n",
    "\n",
    "We train the model for a given number of epochs. We perform optimization for every batch in our dataset.\n",
    "\n",
    "Forward Propogation, to calculate the loss, is as follows,\n",
    "\n",
    "$\\Large loss = MSE( W.X + b ) $\n",
    "\n",
    "To optimize the parameter $W$, the partial derivative of $MSE$ with respect to $W$ will be,\n",
    "\n",
    "\n",
    "$\\Large \\frac{ \\partial MSE }{ \\partial W} = \\frac{ \\partial MSE }{ \\partial h} \\frac{ \\partial h }{ \\partial W}$\n",
    "\n",
    "Similarly for bias $b$ , \n",
    "\n",
    "$\\Large \\frac{ \\partial MSE }{ \\partial b} = \\frac{ \\partial MSE }{ \\partial h} $\n"
   ]
  },
  {
   "cell_type": "code",
   "execution_count": 61,
   "metadata": {
    "colab": {
     "base_uri": "https://localhost:8080/",
     "height": 187
    },
    "colab_type": "code",
    "id": "Z0-QyOc2UhKC",
    "outputId": "b4c8ddc6-013e-4890-a695-14565d127033"
   },
   "outputs": [
    {
     "name": "stdout",
     "output_type": "stream",
     "text": [
      "Loss is 4.470124244689941\n",
      "Loss is 2.1780614852905273\n",
      "Loss is 1.0801700353622437\n",
      "Loss is 0.5546048879623413\n",
      "Loss is 0.30460524559020996\n",
      "Loss is 0.18580593168735504\n",
      "Loss is 0.13016283512115479\n",
      "Loss is 0.10460904985666275\n",
      "Loss is 0.09300428628921509\n",
      "Loss is 0.0878492221236229\n"
     ]
    }
   ],
   "source": [
    "\n",
    "num_features = X.shape[1]\n",
    "weights = tf.random.normal( ( num_features , 1 ) ) \n",
    "bias = 0\n",
    "\n",
    "epochs_plot = list()\n",
    "loss_plot = list()\n",
    "\n",
    "for i in range( num_epochs ) :\n",
    "    \n",
    "    epoch_loss = list()\n",
    "    for b in range( int(num_samples/batch_size) ):\n",
    "        x_batch , y_batch = iterator.get_next()\n",
    "   \n",
    "        output = h( x_batch , weights , bias ) \n",
    "        loss = epoch_loss.append( mean_squared_error( y_batch , output ).numpy() )\n",
    "    \n",
    "        dJ_dH = mean_squared_error_deriv( y_batch , output)\n",
    "        dH_dW = x_batch\n",
    "        dJ_dW = tf.reduce_mean( dJ_dH * dH_dW )\n",
    "        dJ_dB = tf.reduce_mean( dJ_dH )\n",
    "    \n",
    "        weights -= ( learning_rate * dJ_dW )\n",
    "        bias -= ( learning_rate * dJ_dB ) \n",
    "        \n",
    "    loss = np.array( epoch_loss ).mean()\n",
    "    epochs_plot.append( i + 1 )\n",
    "    loss_plot.append( loss ) \n",
    "    \n",
    "    print( 'Loss is {}'.format( loss ) ) \n",
    "    "
   ]
  },
  {
   "cell_type": "markdown",
   "metadata": {
    "colab_type": "text",
    "id": "B0vOQ_vN7rnt"
   },
   "source": [
    "### Plotting the epoch-loss graph\n",
    "\n",
    "We plot a simple graph which shows us the decrease in loss with increasing epochs."
   ]
  },
  {
   "cell_type": "code",
   "execution_count": 62,
   "metadata": {
    "colab": {
     "base_uri": "https://localhost:8080/",
     "height": 269
    },
    "colab_type": "code",
    "id": "CgKyMat-ujr9",
    "outputId": "6410562b-398a-4021-de43-669fc3d24d5b"
   },
   "outputs": [
    {
     "data": {
      "image/png": "[encoded data removed]",
      "text/plain": [
       "<Figure size 432x288 with 1 Axes>"
      ]
     },
     "metadata": {
      "needs_background": "light"
     },
     "output_type": "display_data"
    }
   ],
   "source": [
    "plt.plot( epochs_plot , loss_plot ) \n",
    "plt.show()\n"
   ]
  },
  {
   "cell_type": "markdown",
   "metadata": {
    "colab_type": "text",
    "id": "cNFROc6M8jQX"
   },
   "source": [
    "## Evaluating the model\n",
    "\n",
    "We evaluate our model's performance by measuring the Mean Absolute Error on the validation dataset."
   ]
  },
  {
   "cell_type": "code",
   "execution_count": 63,
   "metadata": {
    "colab": {},
    "colab_type": "code",
    "id": "uyKcSFJrbhRf"
   },
   "outputs": [
    {
     "name": "stdout",
     "output_type": "stream",
     "text": [
      "Mean Absolute Error = 0.2448403239250183\n"
     ]
    }
   ],
   "source": [
    "\n",
    "output = h( test_X , weights , bias ) \n",
    "labels = test_Y\n",
    "\n",
    "accuracy_op = tf.metrics.MeanAbsoluteError() \n",
    "accuracy_op.update_state( labels , output )\n",
    "print( 'Mean Absolute Error = {}'.format( accuracy_op.result().numpy() ) )\n"
   ]
  },
  {
   "cell_type": "markdown",
   "metadata": {},
   "source": [
    "# Logical operation neural networks\n",
    "\n",
    "A single layer neural network can approximate some logical operation such as 'And', 'Or', 'Not' function."
   ]
  },
  {
   "cell_type": "code",
   "execution_count": 64,
   "metadata": {},
   "outputs": [],
   "source": [
    "NUM_FEATURES = 2\n",
    "NUM_ITER = 2000\n",
    "learning_rate = 0.01"
   ]
  },
  {
   "cell_type": "code",
   "execution_count": 65,
   "metadata": {},
   "outputs": [],
   "source": [
    "x = np.array([[0, 0], [1, 0], [1, 1], [0, 1]], np.float32) # 4x2, input\n",
    "y = np.array([0, 0, 1, 0], np.float32) # 4, correct output, AND operation\n",
    "#y = np.array([0, 1, 1, 1], np.float32) # OR operation"
   ]
  },
  {
   "cell_type": "code",
   "execution_count": 66,
   "metadata": {},
   "outputs": [],
   "source": [
    "W = np.zeros(NUM_FEATURES, np.float32) # 2x1, weight\n",
    "b = np.zeros(1, np.float32) # 1x1\n",
    " \n",
    "N, d = np.shape(x) # number of samples and number of features"
   ]
  },
  {
   "cell_type": "code",
   "execution_count": 67,
   "metadata": {},
   "outputs": [],
   "source": [
    "# process each sample separately\n",
    "for k in range(NUM_ITER):\n",
    "    for j in range(N):\n",
    "        yHat_j = x[j, :].dot(W) + b # 1x2, 2x1\n",
    "        yHat_j = 1.0 / (1.0 + np.exp(-yHat_j))\n",
    "\n",
    "        err = y[j] - yHat_j # error term\n",
    "        deltaW = err * x[j, :]\n",
    "        deltaB = err\n",
    "        W = W + learning_rate * deltaW # if err = y - yHat, then W = W + lRate * deltW\n",
    "        b = b + learning_rate * deltaB"
   ]
  },
  {
   "cell_type": "code",
   "execution_count": 68,
   "metadata": {},
   "outputs": [],
   "source": [
    "# Now plot the fitted line. We need only two points to plot the line\n",
    "plot_x = np.array([np.min(x[:, 0] - 0.2), np.max(x[:, 1]+0.2)])\n",
    "plot_y = - 1 / W[1] * (W[0] * plot_x + b) # comes from, w0*x + w1*y + b = 0 then y = (-1/w1) (w0*x + b)"
   ]
  },
  {
   "cell_type": "code",
   "execution_count": 69,
   "metadata": {},
   "outputs": [
    {
     "name": "stdout",
     "output_type": "stream",
     "text": [
      "W:[2.69495   2.6909127]\n",
      "b:[-4.268221]\n",
      "plot_y: [1.7864611 0.3843605]\n"
     ]
    }
   ],
   "source": [
    "print('W:' + str(W))\n",
    "print('b:' + str(b))\n",
    "print('plot_y: '+ str(plot_y))"
   ]
  },
  {
   "cell_type": "code",
   "execution_count": 70,
   "metadata": {},
   "outputs": [
    {
     "data": {
      "image/png": "[encoded data removed]",
      "text/plain": [
       "<Figure size 432x288 with 1 Axes>"
      ]
     },
     "metadata": {
      "needs_background": "light"
     },
     "output_type": "display_data"
    }
   ],
   "source": [
    "plt.scatter(x[:, 0], x[:, 1], c=y, s=100, cmap='viridis')\n",
    "plt.plot(plot_x, plot_y, color='k', linewidth=2)\n",
    "plt.xlim([-0.2, 1.2]); plt.ylim([-0.2, 1.25]);\n",
    "plt.show()"
   ]
  },
  {
   "cell_type": "code",
   "execution_count": 71,
   "metadata": {},
   "outputs": [],
   "source": [
    "from sklearn.datasets import load_iris\n",
    "from sklearn.model_selection import train_test_split\n",
    "from tensorflow.keras.layers import Dense\n",
    "from tensorflow.keras.models import Sequential\n",
    "from tensorflow.keras.utils import to_categorical"
   ]
  },
  {
   "cell_type": "code",
   "execution_count": 72,
   "metadata": {},
   "outputs": [],
   "source": [
    "iris = load_iris()"
   ]
  },
  {
   "cell_type": "markdown",
   "metadata": {},
   "source": [
    "### Iris Dataset:\n",
    "\n",
    "This is perhaps the best known database to be found in the pattern recognition literature. Fisher's paper is a classic in the field and is referenced frequently to this day. (See Duda & Hart, for example.) The data set contains 3 classes of 50 instances each, where each class refers to a type of iris plant. One class is linearly separable from the other 2; the latter are NOT linearly separable from each other. \n",
    "\n",
    "Predicted attribute: class of iris plant.\n",
    "\n",
    "#### Attribute Information:\n",
    "\n",
    "1. sepal length in cm \n",
    "2. sepal width in cm \n",
    "3. petal length in cm \n",
    "4. petal width in cm \n",
    "\n",
    "#### Classes: \n",
    "\n",
    "1. Iris Setosa \n",
    "2. Iris Versicolour \n",
    "3. Iris Virginica"
   ]
  },
  {
   "cell_type": "code",
   "execution_count": 73,
   "metadata": {},
   "outputs": [],
   "source": [
    "target = to_categorical(iris.target)\n",
    "data = iris.data"
   ]
  },
  {
   "cell_type": "code",
   "execution_count": 74,
   "metadata": {},
   "outputs": [],
   "source": [
    "x_train, x_test, y_train, y_test = train_test_split(data, target, test_size=0.3)"
   ]
  },
  {
   "cell_type": "code",
   "execution_count": 75,
   "metadata": {},
   "outputs": [],
   "source": [
    "model = Sequential()\n",
    "model.add(Dense(10, input_dim=4, activation='relu'))\n",
    "model.add(Dense(3, activation='softmax'))\n",
    "model.compile(loss='categorical_crossentropy', optimizer='adam', metrics=['accuracy'])"
   ]
  },
  {
   "cell_type": "code",
   "execution_count": 76,
   "metadata": {},
   "outputs": [
    {
     "name": "stdout",
     "output_type": "stream",
     "text": [
      "Epoch 1/100\n",
      "4/4 [==============================] - 0s 2ms/step - loss: 2.4633 - accuracy: 0.3429\n",
      "Epoch 2/100\n",
      "4/4 [==============================] - 0s 2ms/step - loss: 2.3617 - accuracy: 0.3429\n",
      "Epoch 3/100\n",
      "4/4 [==============================] - 0s 7ms/step - loss: 2.2643 - accuracy: 0.3429\n",
      "Epoch 4/100\n",
      "4/4 [==============================] - 0s 3ms/step - loss: 2.1785 - accuracy: 0.3429\n",
      "Epoch 5/100\n",
      "4/4 [==============================] - 0s 2ms/step - loss: 2.0962 - accuracy: 0.3429\n",
      "Epoch 6/100\n",
      "4/4 [==============================] - 0s 3ms/step - loss: 2.0158 - accuracy: 0.3429\n",
      "Epoch 7/100\n",
      "4/4 [==============================] - 0s 4ms/step - loss: 1.9381 - accuracy: 0.3429\n",
      "Epoch 8/100\n",
      "4/4 [==============================] - 0s 2ms/step - loss: 1.8702 - accuracy: 0.3429\n",
      "Epoch 9/100\n",
      "4/4 [==============================] - 0s 2ms/step - loss: 1.8053 - accuracy: 0.3429\n",
      "Epoch 10/100\n",
      "4/4 [==============================] - 0s 2ms/step - loss: 1.7438 - accuracy: 0.3429\n",
      "Epoch 11/100\n",
      "4/4 [==============================] - 0s 2ms/step - loss: 1.6886 - accuracy: 0.3429\n",
      "Epoch 12/100\n",
      "4/4 [==============================] - 0s 2ms/step - loss: 1.6362 - accuracy: 0.3429\n",
      "Epoch 13/100\n",
      "4/4 [==============================] - 0s 2ms/step - loss: 1.5844 - accuracy: 0.3429\n",
      "Epoch 14/100\n",
      "4/4 [==============================] - 0s 2ms/step - loss: 1.5392 - accuracy: 0.3429\n",
      "Epoch 15/100\n",
      "4/4 [==============================] - 0s 2ms/step - loss: 1.5004 - accuracy: 0.3429\n",
      "Epoch 16/100\n",
      "4/4 [==============================] - 0s 4ms/step - loss: 1.4626 - accuracy: 0.3429\n",
      "Epoch 17/100\n",
      "4/4 [==============================] - ETA: 0s - loss: 1.4866 - accuracy: 0.34 - 0s 4ms/step - loss: 1.4308 - accuracy: 0.3429\n",
      "Epoch 18/100\n",
      "4/4 [==============================] - 0s 3ms/step - loss: 1.3984 - accuracy: 0.3429\n",
      "Epoch 19/100\n",
      "4/4 [==============================] - 0s 2ms/step - loss: 1.3726 - accuracy: 0.3429\n",
      "Epoch 20/100\n",
      "4/4 [==============================] - 0s 5ms/step - loss: 1.3456 - accuracy: 0.3429\n",
      "Epoch 21/100\n",
      "4/4 [==============================] - 0s 6ms/step - loss: 1.3241 - accuracy: 0.3429\n",
      "Epoch 22/100\n",
      "4/4 [==============================] - 0s 5ms/step - loss: 1.3025 - accuracy: 0.3429\n",
      "Epoch 23/100\n",
      "4/4 [==============================] - 0s 2ms/step - loss: 1.2827 - accuracy: 0.3429\n",
      "Epoch 24/100\n",
      "4/4 [==============================] - 0s 3ms/step - loss: 1.2645 - accuracy: 0.3429\n",
      "Epoch 25/100\n",
      "4/4 [==============================] - 0s 3ms/step - loss: 1.2489 - accuracy: 0.3429\n",
      "Epoch 26/100\n",
      "4/4 [==============================] - 0s 7ms/step - loss: 1.2332 - accuracy: 0.3429\n",
      "Epoch 27/100\n",
      "4/4 [==============================] - ETA: 0s - loss: 1.2065 - accuracy: 0.34 - 0s 3ms/step - loss: 1.2180 - accuracy: 0.3429\n",
      "Epoch 28/100\n",
      "4/4 [==============================] - 0s 6ms/step - loss: 1.2044 - accuracy: 0.3429\n",
      "Epoch 29/100\n",
      "4/4 [==============================] - 0s 3ms/step - loss: 1.1928 - accuracy: 0.3429\n",
      "Epoch 30/100\n",
      "4/4 [==============================] - 0s 2ms/step - loss: 1.1827 - accuracy: 0.3429\n",
      "Epoch 31/100\n",
      "4/4 [==============================] - 0s 2ms/step - loss: 1.1728 - accuracy: 0.3429\n",
      "Epoch 32/100\n",
      "4/4 [==============================] - 0s 2ms/step - loss: 1.1633 - accuracy: 0.3429\n",
      "Epoch 33/100\n",
      "4/4 [==============================] - 0s 2ms/step - loss: 1.1564 - accuracy: 0.3333\n",
      "Epoch 34/100\n",
      "4/4 [==============================] - 0s 3ms/step - loss: 1.1488 - accuracy: 0.3333\n",
      "Epoch 35/100\n",
      "4/4 [==============================] - 0s 3ms/step - loss: 1.1426 - accuracy: 0.3143\n",
      "Epoch 36/100\n",
      "4/4 [==============================] - 0s 3ms/step - loss: 1.1359 - accuracy: 0.3048\n",
      "Epoch 37/100\n",
      "4/4 [==============================] - 0s 4ms/step - loss: 1.1309 - accuracy: 0.2952\n",
      "Epoch 38/100\n",
      "4/4 [==============================] - 0s 5ms/step - loss: 1.1249 - accuracy: 0.2857\n",
      "Epoch 39/100\n",
      "4/4 [==============================] - 0s 4ms/step - loss: 1.1194 - accuracy: 0.3048\n",
      "Epoch 40/100\n",
      "4/4 [==============================] - 0s 4ms/step - loss: 1.1148 - accuracy: 0.2952\n",
      "Epoch 41/100\n",
      "4/4 [==============================] - 0s 4ms/step - loss: 1.1103 - accuracy: 0.2857\n",
      "Epoch 42/100\n",
      "4/4 [==============================] - 0s 6ms/step - loss: 1.1058 - accuracy: 0.2952\n",
      "Epoch 43/100\n",
      "4/4 [==============================] - 0s 6ms/step - loss: 1.1013 - accuracy: 0.3143\n",
      "Epoch 44/100\n",
      "4/4 [==============================] - 0s 2ms/step - loss: 1.0972 - accuracy: 0.3524\n",
      "Epoch 45/100\n",
      "4/4 [==============================] - 0s 6ms/step - loss: 1.0932 - accuracy: 0.3714\n",
      "Epoch 46/100\n",
      "4/4 [==============================] - 0s 3ms/step - loss: 1.0893 - accuracy: 0.3810\n",
      "Epoch 47/100\n",
      "4/4 [==============================] - 0s 3ms/step - loss: 1.0853 - accuracy: 0.4000\n",
      "Epoch 48/100\n",
      "4/4 [==============================] - 0s 4ms/step - loss: 1.0813 - accuracy: 0.4095\n",
      "Epoch 49/100\n",
      "4/4 [==============================] - ETA: 0s - loss: 1.1010 - accuracy: 0.46 - 0s 3ms/step - loss: 1.0777 - accuracy: 0.4190\n",
      "Epoch 50/100\n",
      "4/4 [==============================] - 0s 4ms/step - loss: 1.0739 - accuracy: 0.4190\n",
      "Epoch 51/100\n",
      "4/4 [==============================] - 0s 3ms/step - loss: 1.0705 - accuracy: 0.4190\n",
      "Epoch 52/100\n",
      "4/4 [==============================] - 0s 4ms/step - loss: 1.0667 - accuracy: 0.4190\n",
      "Epoch 53/100\n",
      "4/4 [==============================] - 0s 1ms/step - loss: 1.0633 - accuracy: 0.4190\n",
      "Epoch 54/100\n",
      "4/4 [==============================] - 0s 8ms/step - loss: 1.0596 - accuracy: 0.4381\n",
      "Epoch 55/100\n",
      "4/4 [==============================] - 0s 2ms/step - loss: 1.0559 - accuracy: 0.4381\n",
      "Epoch 56/100\n",
      "4/4 [==============================] - 0s 6ms/step - loss: 1.0527 - accuracy: 0.4381\n",
      "Epoch 57/100\n",
      "4/4 [==============================] - 0s 3ms/step - loss: 1.0495 - accuracy: 0.4286\n",
      "Epoch 58/100\n",
      "4/4 [==============================] - 0s 5ms/step - loss: 1.0464 - accuracy: 0.4286\n",
      "Epoch 59/100\n",
      "4/4 [==============================] - 0s 4ms/step - loss: 1.0430 - accuracy: 0.4286\n",
      "Epoch 60/100\n",
      "4/4 [==============================] - 0s 2ms/step - loss: 1.0399 - accuracy: 0.4286\n",
      "Epoch 61/100\n",
      "4/4 [==============================] - 0s 4ms/step - loss: 1.0365 - accuracy: 0.4381\n",
      "Epoch 62/100\n",
      "4/4 [==============================] - 0s 2ms/step - loss: 1.0332 - accuracy: 0.4476\n",
      "Epoch 63/100\n",
      "4/4 [==============================] - 0s 2ms/step - loss: 1.0301 - accuracy: 0.4476\n",
      "Epoch 64/100\n",
      "4/4 [==============================] - 0s 3ms/step - loss: 1.0268 - accuracy: 0.4476\n",
      "Epoch 65/100\n",
      "4/4 [==============================] - 0s 2ms/step - loss: 1.0238 - accuracy: 0.4476\n",
      "Epoch 66/100\n",
      "4/4 [==============================] - 0s 6ms/step - loss: 1.0206 - accuracy: 0.4571\n",
      "Epoch 67/100\n",
      "4/4 [==============================] - 0s 2ms/step - loss: 1.0175 - accuracy: 0.4571\n",
      "Epoch 68/100\n",
      "4/4 [==============================] - 0s 3ms/step - loss: 1.0143 - accuracy: 0.4571\n",
      "Epoch 69/100\n",
      "4/4 [==============================] - 0s 6ms/step - loss: 1.0114 - accuracy: 0.4476\n",
      "Epoch 70/100\n",
      "4/4 [==============================] - 0s 4ms/step - loss: 1.0082 - accuracy: 0.4381\n",
      "Epoch 71/100\n",
      "4/4 [==============================] - 0s 4ms/step - loss: 1.0054 - accuracy: 0.4476\n",
      "Epoch 72/100\n",
      "4/4 [==============================] - 0s 3ms/step - loss: 1.0021 - accuracy: 0.4476\n",
      "Epoch 73/100\n",
      "4/4 [==============================] - 0s 2ms/step - loss: 0.9991 - accuracy: 0.4476\n",
      "Epoch 74/100\n",
      "4/4 [==============================] - 0s 2ms/step - loss: 0.9961 - accuracy: 0.4476\n",
      "Epoch 75/100\n",
      "4/4 [==============================] - 0s 2ms/step - loss: 0.9929 - accuracy: 0.4476\n",
      "Epoch 76/100\n",
      "4/4 [==============================] - 0s 3ms/step - loss: 0.9901 - accuracy: 0.4476\n",
      "Epoch 77/100\n",
      "4/4 [==============================] - 0s 3ms/step - loss: 0.9871 - accuracy: 0.4476\n",
      "Epoch 78/100\n",
      "4/4 [==============================] - 0s 4ms/step - loss: 0.9842 - accuracy: 0.4381\n",
      "Epoch 79/100\n",
      "4/4 [==============================] - 0s 3ms/step - loss: 0.9811 - accuracy: 0.4381\n",
      "Epoch 80/100\n",
      "4/4 [==============================] - 0s 3ms/step - loss: 0.9781 - accuracy: 0.4381\n",
      "Epoch 81/100\n",
      "4/4 [==============================] - 0s 5ms/step - loss: 0.9752 - accuracy: 0.4286\n",
      "Epoch 82/100\n",
      "4/4 [==============================] - 0s 4ms/step - loss: 0.9723 - accuracy: 0.4190\n",
      "Epoch 83/100\n"
     ]
    },
    {
     "name": "stdout",
     "output_type": "stream",
     "text": [
      "4/4 [==============================] - 0s 4ms/step - loss: 0.9696 - accuracy: 0.4286\n",
      "Epoch 84/100\n",
      "4/4 [==============================] - 0s 5ms/step - loss: 0.9670 - accuracy: 0.4286\n",
      "Epoch 85/100\n",
      "4/4 [==============================] - 0s 2ms/step - loss: 0.9639 - accuracy: 0.4286\n",
      "Epoch 86/100\n",
      "4/4 [==============================] - 0s 3ms/step - loss: 0.9610 - accuracy: 0.4286\n",
      "Epoch 87/100\n",
      "4/4 [==============================] - 0s 3ms/step - loss: 0.9579 - accuracy: 0.4286\n",
      "Epoch 88/100\n",
      "4/4 [==============================] - 0s 3ms/step - loss: 0.9552 - accuracy: 0.4381\n",
      "Epoch 89/100\n",
      "4/4 [==============================] - 0s 2ms/step - loss: 0.9523 - accuracy: 0.4000\n",
      "Epoch 90/100\n",
      "4/4 [==============================] - 0s 2ms/step - loss: 0.9496 - accuracy: 0.3905\n",
      "Epoch 91/100\n",
      "4/4 [==============================] - 0s 2ms/step - loss: 0.9466 - accuracy: 0.4000\n",
      "Epoch 92/100\n",
      "4/4 [==============================] - 0s 2ms/step - loss: 0.9437 - accuracy: 0.4286\n",
      "Epoch 93/100\n",
      "4/4 [==============================] - 0s 3ms/step - loss: 0.9406 - accuracy: 0.4286\n",
      "Epoch 94/100\n",
      "4/4 [==============================] - 0s 3ms/step - loss: 0.9375 - accuracy: 0.4381\n",
      "Epoch 95/100\n",
      "4/4 [==============================] - 0s 3ms/step - loss: 0.9343 - accuracy: 0.4857\n",
      "Epoch 96/100\n",
      "4/4 [==============================] - 0s 2ms/step - loss: 0.9313 - accuracy: 0.4952\n",
      "Epoch 97/100\n",
      "4/4 [==============================] - 0s 2ms/step - loss: 0.9282 - accuracy: 0.5238\n",
      "Epoch 98/100\n",
      "4/4 [==============================] - 0s 3ms/step - loss: 0.9253 - accuracy: 0.5333\n",
      "Epoch 99/100\n",
      "4/4 [==============================] - 0s 3ms/step - loss: 0.9225 - accuracy: 0.5429\n",
      "Epoch 100/100\n",
      "4/4 [==============================] - 0s 3ms/step - loss: 0.9194 - accuracy: 0.5429\n"
     ]
    },
    {
     "data": {
      "text/plain": [
       "<tensorflow.python.keras.callbacks.History at 0x141cd5210>"
      ]
     },
     "execution_count": 76,
     "metadata": {},
     "output_type": "execute_result"
    }
   ],
   "source": [
    "model.fit(x_train, y_train, epochs=100)"
   ]
  },
  {
   "cell_type": "code",
   "execution_count": 93,
   "metadata": {},
   "outputs": [],
   "source": [
    "model = Sequential()\n",
    "model.add(Dense(10, input_dim=4, activation='relu'))\n",
    "model.add(Dense(10, activation='relu'))\n",
    "model.add(Dense(5, activation='relu'))\n",
    "model.add(Dense(3, activation='softmax'))\n",
    "model.compile(loss='categorical_crossentropy', optimizer='adam', metrics=['accuracy'])"
   ]
  },
  {
   "cell_type": "code",
   "execution_count": 77,
   "metadata": {},
   "outputs": [
    {
     "name": "stdout",
     "output_type": "stream",
     "text": [
      "Epoch 1/100\n",
      "4/4 [==============================] - 0s 2ms/step - loss: 0.9164 - accuracy: 0.5524\n",
      "Epoch 2/100\n",
      "4/4 [==============================] - 0s 5ms/step - loss: 0.9133 - accuracy: 0.5524\n",
      "Epoch 3/100\n",
      "4/4 [==============================] - 0s 5ms/step - loss: 0.9102 - accuracy: 0.5810\n",
      "Epoch 4/100\n",
      "4/4 [==============================] - 0s 3ms/step - loss: 0.9073 - accuracy: 0.5905\n",
      "Epoch 5/100\n",
      "4/4 [==============================] - 0s 4ms/step - loss: 0.9040 - accuracy: 0.6095\n",
      "Epoch 6/100\n",
      "4/4 [==============================] - 0s 3ms/step - loss: 0.9009 - accuracy: 0.6286\n",
      "Epoch 7/100\n",
      "4/4 [==============================] - 0s 2ms/step - loss: 0.8976 - accuracy: 0.6381\n",
      "Epoch 8/100\n",
      "4/4 [==============================] - 0s 2ms/step - loss: 0.8947 - accuracy: 0.6571\n",
      "Epoch 9/100\n",
      "4/4 [==============================] - 0s 3ms/step - loss: 0.8913 - accuracy: 0.6667\n",
      "Epoch 10/100\n",
      "4/4 [==============================] - 0s 3ms/step - loss: 0.8881 - accuracy: 0.6762\n",
      "Epoch 11/100\n",
      "4/4 [==============================] - 0s 3ms/step - loss: 0.8850 - accuracy: 0.6857\n",
      "Epoch 12/100\n",
      "4/4 [==============================] - 0s 2ms/step - loss: 0.8816 - accuracy: 0.6952\n",
      "Epoch 13/100\n",
      "4/4 [==============================] - 0s 2ms/step - loss: 0.8787 - accuracy: 0.6857\n",
      "Epoch 14/100\n",
      "4/4 [==============================] - 0s 3ms/step - loss: 0.8755 - accuracy: 0.6952\n",
      "Epoch 15/100\n",
      "4/4 [==============================] - 0s 4ms/step - loss: 0.8724 - accuracy: 0.6952\n",
      "Epoch 16/100\n",
      "4/4 [==============================] - 0s 13ms/step - loss: 0.8694 - accuracy: 0.7048\n",
      "Epoch 17/100\n",
      "4/4 [==============================] - 0s 5ms/step - loss: 0.8663 - accuracy: 0.6952\n",
      "Epoch 18/100\n",
      "4/4 [==============================] - 0s 3ms/step - loss: 0.8632 - accuracy: 0.6762\n",
      "Epoch 19/100\n",
      "4/4 [==============================] - 0s 3ms/step - loss: 0.8603 - accuracy: 0.6762\n",
      "Epoch 20/100\n",
      "4/4 [==============================] - 0s 2ms/step - loss: 0.8575 - accuracy: 0.6857\n",
      "Epoch 21/100\n",
      "4/4 [==============================] - 0s 3ms/step - loss: 0.8544 - accuracy: 0.6857\n",
      "Epoch 22/100\n",
      "4/4 [==============================] - 0s 3ms/step - loss: 0.8510 - accuracy: 0.6952\n",
      "Epoch 23/100\n",
      "4/4 [==============================] - 0s 2ms/step - loss: 0.8482 - accuracy: 0.6952\n",
      "Epoch 24/100\n",
      "4/4 [==============================] - 0s 3ms/step - loss: 0.8444 - accuracy: 0.7238\n",
      "Epoch 25/100\n",
      "4/4 [==============================] - 0s 4ms/step - loss: 0.8413 - accuracy: 0.7333\n",
      "Epoch 26/100\n",
      "4/4 [==============================] - 0s 4ms/step - loss: 0.8380 - accuracy: 0.7429\n",
      "Epoch 27/100\n",
      "4/4 [==============================] - 0s 3ms/step - loss: 0.8348 - accuracy: 0.7524\n",
      "Epoch 28/100\n",
      "4/4 [==============================] - 0s 3ms/step - loss: 0.8318 - accuracy: 0.7714\n",
      "Epoch 29/100\n",
      "4/4 [==============================] - 0s 3ms/step - loss: 0.8286 - accuracy: 0.7524\n",
      "Epoch 30/100\n",
      "4/4 [==============================] - 0s 2ms/step - loss: 0.8252 - accuracy: 0.7619\n",
      "Epoch 31/100\n",
      "4/4 [==============================] - 0s 3ms/step - loss: 0.8219 - accuracy: 0.7714\n",
      "Epoch 32/100\n",
      "4/4 [==============================] - 0s 3ms/step - loss: 0.8186 - accuracy: 0.7714\n",
      "Epoch 33/100\n",
      "4/4 [==============================] - 0s 2ms/step - loss: 0.8155 - accuracy: 0.7714\n",
      "Epoch 34/100\n",
      "4/4 [==============================] - 0s 2ms/step - loss: 0.8125 - accuracy: 0.7714\n",
      "Epoch 35/100\n",
      "4/4 [==============================] - 0s 3ms/step - loss: 0.8094 - accuracy: 0.7714\n",
      "Epoch 36/100\n",
      "4/4 [==============================] - 0s 2ms/step - loss: 0.8062 - accuracy: 0.7810\n",
      "Epoch 37/100\n",
      "4/4 [==============================] - 0s 4ms/step - loss: 0.8032 - accuracy: 0.7810\n",
      "Epoch 38/100\n",
      "4/4 [==============================] - 0s 4ms/step - loss: 0.8003 - accuracy: 0.8000\n",
      "Epoch 39/100\n",
      "4/4 [==============================] - 0s 5ms/step - loss: 0.7974 - accuracy: 0.8095\n",
      "Epoch 40/100\n",
      "4/4 [==============================] - 0s 3ms/step - loss: 0.7938 - accuracy: 0.8000\n",
      "Epoch 41/100\n",
      "4/4 [==============================] - 0s 4ms/step - loss: 0.7903 - accuracy: 0.8000\n",
      "Epoch 42/100\n",
      "4/4 [==============================] - 0s 3ms/step - loss: 0.7871 - accuracy: 0.8000\n",
      "Epoch 43/100\n",
      "4/4 [==============================] - 0s 4ms/step - loss: 0.7839 - accuracy: 0.8095\n",
      "Epoch 44/100\n",
      "4/4 [==============================] - 0s 4ms/step - loss: 0.7805 - accuracy: 0.8095\n",
      "Epoch 45/100\n",
      "4/4 [==============================] - 0s 3ms/step - loss: 0.7774 - accuracy: 0.8190\n",
      "Epoch 46/100\n",
      "4/4 [==============================] - 0s 2ms/step - loss: 0.7740 - accuracy: 0.8286\n",
      "Epoch 47/100\n",
      "4/4 [==============================] - 0s 3ms/step - loss: 0.7705 - accuracy: 0.8286\n",
      "Epoch 48/100\n",
      "4/4 [==============================] - 0s 3ms/step - loss: 0.7672 - accuracy: 0.8286\n",
      "Epoch 49/100\n",
      "4/4 [==============================] - 0s 4ms/step - loss: 0.7642 - accuracy: 0.8381\n",
      "Epoch 50/100\n",
      "4/4 [==============================] - 0s 2ms/step - loss: 0.7606 - accuracy: 0.8381\n",
      "Epoch 51/100\n",
      "4/4 [==============================] - 0s 4ms/step - loss: 0.7573 - accuracy: 0.8381\n",
      "Epoch 52/100\n",
      "4/4 [==============================] - 0s 2ms/step - loss: 0.7539 - accuracy: 0.8381\n",
      "Epoch 53/100\n",
      "4/4 [==============================] - 0s 3ms/step - loss: 0.7506 - accuracy: 0.8381\n",
      "Epoch 54/100\n",
      "4/4 [==============================] - 0s 3ms/step - loss: 0.7471 - accuracy: 0.8381\n",
      "Epoch 55/100\n",
      "4/4 [==============================] - 0s 2ms/step - loss: 0.7438 - accuracy: 0.8381\n",
      "Epoch 56/100\n",
      "4/4 [==============================] - 0s 3ms/step - loss: 0.7405 - accuracy: 0.8381\n",
      "Epoch 57/100\n",
      "4/4 [==============================] - 0s 2ms/step - loss: 0.7375 - accuracy: 0.8476\n",
      "Epoch 58/100\n",
      "4/4 [==============================] - 0s 3ms/step - loss: 0.7342 - accuracy: 0.8476\n",
      "Epoch 59/100\n",
      "4/4 [==============================] - 0s 2ms/step - loss: 0.7306 - accuracy: 0.8381\n",
      "Epoch 60/100\n",
      "4/4 [==============================] - 0s 3ms/step - loss: 0.7277 - accuracy: 0.8476\n",
      "Epoch 61/100\n",
      "4/4 [==============================] - 0s 3ms/step - loss: 0.7248 - accuracy: 0.8667\n",
      "Epoch 62/100\n",
      "4/4 [==============================] - 0s 3ms/step - loss: 0.7219 - accuracy: 0.8952\n",
      "Epoch 63/100\n",
      "4/4 [==============================] - 0s 4ms/step - loss: 0.7192 - accuracy: 0.8952\n",
      "Epoch 64/100\n",
      "4/4 [==============================] - 0s 5ms/step - loss: 0.7159 - accuracy: 0.8952\n",
      "Epoch 65/100\n",
      "4/4 [==============================] - 0s 3ms/step - loss: 0.7130 - accuracy: 0.8571\n",
      "Epoch 66/100\n",
      "4/4 [==============================] - 0s 2ms/step - loss: 0.7098 - accuracy: 0.8571\n",
      "Epoch 67/100\n",
      "4/4 [==============================] - 0s 2ms/step - loss: 0.7072 - accuracy: 0.8476\n",
      "Epoch 68/100\n",
      "4/4 [==============================] - 0s 3ms/step - loss: 0.7043 - accuracy: 0.8476\n",
      "Epoch 69/100\n",
      "4/4 [==============================] - 0s 6ms/step - loss: 0.7015 - accuracy: 0.8476\n",
      "Epoch 70/100\n",
      "4/4 [==============================] - 0s 4ms/step - loss: 0.6986 - accuracy: 0.8476\n",
      "Epoch 71/100\n",
      "4/4 [==============================] - 0s 2ms/step - loss: 0.6958 - accuracy: 0.8476\n",
      "Epoch 72/100\n",
      "4/4 [==============================] - 0s 2ms/step - loss: 0.6930 - accuracy: 0.8476\n",
      "Epoch 73/100\n",
      "4/4 [==============================] - 0s 2ms/step - loss: 0.6901 - accuracy: 0.8476\n",
      "Epoch 74/100\n",
      "4/4 [==============================] - 0s 3ms/step - loss: 0.6873 - accuracy: 0.8476\n",
      "Epoch 75/100\n",
      "4/4 [==============================] - 0s 3ms/step - loss: 0.6846 - accuracy: 0.8476\n",
      "Epoch 76/100\n",
      "4/4 [==============================] - 0s 2ms/step - loss: 0.6818 - accuracy: 0.8476\n",
      "Epoch 77/100\n",
      "4/4 [==============================] - 0s 3ms/step - loss: 0.6793 - accuracy: 0.8476\n",
      "Epoch 78/100\n",
      "4/4 [==============================] - 0s 2ms/step - loss: 0.6764 - accuracy: 0.8476\n",
      "Epoch 79/100\n",
      "4/4 [==============================] - 0s 2ms/step - loss: 0.6737 - accuracy: 0.8476\n",
      "Epoch 80/100\n",
      "4/4 [==============================] - 0s 3ms/step - loss: 0.6709 - accuracy: 0.8571\n",
      "Epoch 81/100\n",
      "4/4 [==============================] - 0s 5ms/step - loss: 0.6685 - accuracy: 0.8667\n",
      "Epoch 82/100\n",
      "4/4 [==============================] - 0s 3ms/step - loss: 0.6659 - accuracy: 0.8667\n",
      "Epoch 83/100\n",
      "4/4 [==============================] - 0s 4ms/step - loss: 0.6632 - accuracy: 0.8857\n",
      "Epoch 84/100\n"
     ]
    },
    {
     "name": "stdout",
     "output_type": "stream",
     "text": [
      "4/4 [==============================] - 0s 5ms/step - loss: 0.6606 - accuracy: 0.8857\n",
      "Epoch 85/100\n",
      "4/4 [==============================] - 0s 5ms/step - loss: 0.6579 - accuracy: 0.8762\n",
      "Epoch 86/100\n",
      "4/4 [==============================] - 0s 6ms/step - loss: 0.6551 - accuracy: 0.8762\n",
      "Epoch 87/100\n",
      "4/4 [==============================] - 0s 4ms/step - loss: 0.6532 - accuracy: 0.8667\n",
      "Epoch 88/100\n",
      "4/4 [==============================] - 0s 2ms/step - loss: 0.6500 - accuracy: 0.8667\n",
      "Epoch 89/100\n",
      "4/4 [==============================] - 0s 4ms/step - loss: 0.6474 - accuracy: 0.8667\n",
      "Epoch 90/100\n",
      "4/4 [==============================] - 0s 6ms/step - loss: 0.6448 - accuracy: 0.8762\n",
      "Epoch 91/100\n",
      "4/4 [==============================] - 0s 3ms/step - loss: 0.6421 - accuracy: 0.8762\n",
      "Epoch 92/100\n",
      "4/4 [==============================] - 0s 3ms/step - loss: 0.6395 - accuracy: 0.8762\n",
      "Epoch 93/100\n",
      "4/4 [==============================] - 0s 3ms/step - loss: 0.6372 - accuracy: 0.8762\n",
      "Epoch 94/100\n",
      "4/4 [==============================] - 0s 2ms/step - loss: 0.6344 - accuracy: 0.8762\n",
      "Epoch 95/100\n",
      "4/4 [==============================] - 0s 2ms/step - loss: 0.6321 - accuracy: 0.8762\n",
      "Epoch 96/100\n",
      "4/4 [==============================] - 0s 4ms/step - loss: 0.6296 - accuracy: 0.8762\n",
      "Epoch 97/100\n",
      "4/4 [==============================] - 0s 2ms/step - loss: 0.6270 - accuracy: 0.8762\n",
      "Epoch 98/100\n",
      "4/4 [==============================] - 0s 3ms/step - loss: 0.6246 - accuracy: 0.8762\n",
      "Epoch 99/100\n",
      "4/4 [==============================] - 0s 5ms/step - loss: 0.6223 - accuracy: 0.8476\n",
      "Epoch 100/100\n",
      "4/4 [==============================] - 0s 4ms/step - loss: 0.6196 - accuracy: 0.8476\n"
     ]
    },
    {
     "data": {
      "text/plain": [
       "<tensorflow.python.keras.callbacks.History at 0x14183bed0>"
      ]
     },
     "execution_count": 77,
     "metadata": {},
     "output_type": "execute_result"
    }
   ],
   "source": [
    "model.fit(x_train, y_train, epochs=100)"
   ]
  },
  {
   "cell_type": "code",
   "execution_count": 78,
   "metadata": {},
   "outputs": [],
   "source": [
    "from tensorflow.keras.datasets import mnist\n",
    "from tensorflow.keras.layers import Flatten"
   ]
  },
  {
   "cell_type": "markdown",
   "metadata": {},
   "source": [
    "### MNIST classification\n",
    "\n",
    "The MNIST database of handwritten digits, available from this page, has a training set of 60,000 examples, and a test set of 10,000 examples. It is a subset of a larger set available from NIST. The digits have been size-normalized and centered in a fixed-size image."
   ]
  },
  {
   "cell_type": "code",
   "execution_count": 79,
   "metadata": {},
   "outputs": [],
   "source": [
    "(x_train, y_train), (x_test, y_test) = mnist.load_data()"
   ]
  },
  {
   "cell_type": "code",
   "execution_count": 80,
   "metadata": {},
   "outputs": [
    {
     "data": {
      "text/plain": [
       "(60000, 28, 28)"
      ]
     },
     "execution_count": 80,
     "metadata": {},
     "output_type": "execute_result"
    }
   ],
   "source": [
    "x_train.shape"
   ]
  },
  {
   "cell_type": "code",
   "execution_count": 81,
   "metadata": {},
   "outputs": [
    {
     "data": {
      "image/png": "[encoded data removed]",
      "text/plain": [
       "<Figure size 432x288 with 2 Axes>"
      ]
     },
     "metadata": {
      "needs_background": "light"
     },
     "output_type": "display_data"
    }
   ],
   "source": [
    "plt.figure()\n",
    "plt.imshow(x_train[0])\n",
    "plt.colorbar()\n",
    "plt.grid(False)\n",
    "plt.show()"
   ]
  },
  {
   "cell_type": "code",
   "execution_count": 82,
   "metadata": {},
   "outputs": [],
   "source": [
    "y_train, y_test = to_categorical(y_train), to_categorical(y_test)"
   ]
  },
  {
   "cell_type": "code",
   "execution_count": 83,
   "metadata": {},
   "outputs": [],
   "source": [
    "model = Sequential()\n",
    "model.add(Flatten(input_shape=(28, 28)))\n",
    "model.add(Dense(784, activation='relu'))\n",
    "model.add(Dense(100, activation='relu'))\n",
    "model.add(Dense(10, activation='softmax'))\n",
    "model.compile(loss='categorical_crossentropy', optimizer='adam', metrics=['accuracy'])"
   ]
  },
  {
   "cell_type": "code",
   "execution_count": 84,
   "metadata": {},
   "outputs": [
    {
     "name": "stdout",
     "output_type": "stream",
     "text": [
      "Epoch 1/5\n",
      "1875/1875 [==============================] - 11s 6ms/step - loss: 1.1945 - accuracy: 0.8335\n",
      "Epoch 2/5\n",
      "1875/1875 [==============================] - 10s 5ms/step - loss: 0.2618 - accuracy: 0.9340\n",
      "Epoch 3/5\n",
      "1875/1875 [==============================] - 11s 6ms/step - loss: 0.1709 - accuracy: 0.9544\n",
      "Epoch 4/5\n",
      "1875/1875 [==============================] - 10s 5ms/step - loss: 0.1440 - accuracy: 0.9631\n",
      "Epoch 5/5\n",
      "1875/1875 [==============================] - 22s 12ms/step - loss: 0.1286 - accuracy: 0.9676\n"
     ]
    },
    {
     "data": {
      "text/plain": [
       "<tensorflow.python.keras.callbacks.History at 0x11532ec10>"
      ]
     },
     "execution_count": 84,
     "metadata": {},
     "output_type": "execute_result"
    }
   ],
   "source": [
    "model.fit(x_train, y_train, epochs=5)"
   ]
  },
  {
   "cell_type": "code",
   "execution_count": 85,
   "metadata": {},
   "outputs": [],
   "source": [
    "x_train = x_train / 255.0\n",
    "x_test = x_test / 255.0"
   ]
  },
  {
   "cell_type": "code",
   "execution_count": 86,
   "metadata": {},
   "outputs": [],
   "source": [
    "model = Sequential()\n",
    "model.add(Flatten(input_shape=(28, 28)))\n",
    "model.add(Dense(784, activation='relu'))\n",
    "model.add(Dense(100, activation='relu'))\n",
    "model.add(Dense(10, activation='softmax'))\n",
    "model.compile(loss='categorical_crossentropy', optimizer='adam', metrics=['accuracy'])"
   ]
  },
  {
   "cell_type": "code",
   "execution_count": 87,
   "metadata": {},
   "outputs": [
    {
     "name": "stdout",
     "output_type": "stream",
     "text": [
      "Epoch 1/5\n",
      "1875/1875 [==============================] - 11s 6ms/step - loss: 0.1849 - accuracy: 0.9440\n",
      "Epoch 2/5\n",
      "1875/1875 [==============================] - 25s 13ms/step - loss: 0.0786 - accuracy: 0.9749\n",
      "Epoch 3/5\n",
      "1875/1875 [==============================] - 14s 8ms/step - loss: 0.0537 - accuracy: 0.9827\n",
      "Epoch 4/5\n",
      "1875/1875 [==============================] - 10s 6ms/step - loss: 0.0387 - accuracy: 0.9874\n",
      "Epoch 5/5\n",
      "1875/1875 [==============================] - 10s 6ms/step - loss: 0.0327 - accuracy: 0.9894\n"
     ]
    },
    {
     "data": {
      "text/plain": [
       "<tensorflow.python.keras.callbacks.History at 0x141bab1d0>"
      ]
     },
     "execution_count": 87,
     "metadata": {},
     "output_type": "execute_result"
    }
   ],
   "source": [
    "model.fit(x_train, y_train, epochs=5)"
   ]
  },
  {
   "cell_type": "code",
   "execution_count": 88,
   "metadata": {},
   "outputs": [],
   "source": [
    "from tensorflow.keras.datasets import cifar10"
   ]
  },
  {
   "cell_type": "code",
   "execution_count": 89,
   "metadata": {},
   "outputs": [],
   "source": [
    "(x_train, y_train), (x_test, y_test) = cifar10.load_data()"
   ]
  },
  {
   "cell_type": "markdown",
   "metadata": {},
   "source": [
    "### CIFAR-10 Dataset:\n",
    "\n",
    "The CIFAR-10 and CIFAR-100 are labeled subsets of the 80 million tiny images dataset. They were collected by Alex Krizhevsky, Vinod Nair, and Geoffrey Hinton.\n",
    "\n",
    "The CIFAR-10 dataset consists of 60000 32x32 colour images in 10 classes, with 6000 images per class. There are 50000 training images and 10000 test images.\n",
    "\n",
    "#### classes:\n",
    "\n",
    "1. airplane\n",
    "2. automobile\n",
    "3. bird\n",
    "4. cat\n",
    "5. deer\n",
    "6. dog\n",
    "7. frog\n",
    "8. horse\n",
    "9. ship\n",
    "10. truck"
   ]
  },
  {
   "cell_type": "code",
   "execution_count": 90,
   "metadata": {},
   "outputs": [
    {
     "data": {
      "text/plain": [
       "(50000, 32, 32, 3)"
      ]
     },
     "execution_count": 90,
     "metadata": {},
     "output_type": "execute_result"
    }
   ],
   "source": [
    "x_train.shape"
   ]
  },
  {
   "cell_type": "code",
   "execution_count": 91,
   "metadata": {},
   "outputs": [
    {
     "data": {
      "image/png": "[encoded data removed]",
      "text/plain": [
       "<Figure size 432x288 with 2 Axes>"
      ]
     },
     "metadata": {
      "needs_background": "light"
     },
     "output_type": "display_data"
    }
   ],
   "source": [
    "plt.figure()\n",
    "plt.imshow(x_train[0])\n",
    "plt.colorbar()\n",
    "plt.grid(False)\n",
    "plt.show()"
   ]
  },
  {
   "cell_type": "code",
   "execution_count": 92,
   "metadata": {},
   "outputs": [],
   "source": [
    "y_train, y_test = to_categorical(y_train), to_categorical(y_test)"
   ]
  },
  {
   "cell_type": "code",
   "execution_count": 93,
   "metadata": {},
   "outputs": [],
   "source": [
    "model = Sequential()\n",
    "model.add(Flatten(input_shape=(32, 32, 3)))\n",
    "model.add(Dense(784, activation='relu'))\n",
    "model.add(Dense(100, activation='relu'))\n",
    "model.add(Dense(10, activation='softmax'))\n",
    "model.compile(loss='categorical_crossentropy', optimizer='adam', metrics=['accuracy'])"
   ]
  },
  {
   "cell_type": "code",
   "execution_count": 94,
   "metadata": {},
   "outputs": [
    {
     "name": "stdout",
     "output_type": "stream",
     "text": [
      "Epoch 1/5\n",
      "1563/1563 [==============================] - 29s 19ms/step - loss: 15.2799 - accuracy: 0.1015\n",
      "Epoch 2/5\n",
      "1563/1563 [==============================] - 26s 17ms/step - loss: 2.3028 - accuracy: 0.0972\n",
      "Epoch 3/5\n",
      "1563/1563 [==============================] - 25s 16ms/step - loss: 2.3028 - accuracy: 0.0979\n",
      "Epoch 4/5\n",
      "1563/1563 [==============================] - 25s 16ms/step - loss: 2.3028 - accuracy: 0.0977\n",
      "Epoch 5/5\n",
      "1563/1563 [==============================] - 25s 16ms/step - loss: 2.3028 - accuracy: 0.0987\n"
     ]
    },
    {
     "data": {
      "text/plain": [
       "<tensorflow.python.keras.callbacks.History at 0x1451b9310>"
      ]
     },
     "execution_count": 94,
     "metadata": {},
     "output_type": "execute_result"
    }
   ],
   "source": [
    "model.fit(x_train, y_train, epochs=5)"
   ]
  },
  {
   "cell_type": "code",
   "execution_count": 95,
   "metadata": {},
   "outputs": [],
   "source": [
    "x_train = x_train / 255.0\n",
    "x_test = x_test / 255.0"
   ]
  },
  {
   "cell_type": "code",
   "execution_count": 96,
   "metadata": {},
   "outputs": [],
   "source": [
    "model = Sequential()\n",
    "model.add(Flatten(input_shape=(32, 32, 3)))\n",
    "model.add(Dense(784, activation='relu'))\n",
    "model.add(Dense(100, activation='relu'))\n",
    "model.add(Dense(10, activation='softmax'))\n",
    "model.compile(loss='categorical_crossentropy', optimizer='adam', metrics=['accuracy'])"
   ]
  },
  {
   "cell_type": "code",
   "execution_count": 97,
   "metadata": {},
   "outputs": [
    {
     "name": "stdout",
     "output_type": "stream",
     "text": [
      "Epoch 1/5\n",
      "1563/1563 [==============================] - 25s 16ms/step - loss: 1.8907 - accuracy: 0.3185\n",
      "Epoch 2/5\n",
      "1563/1563 [==============================] - 35s 22ms/step - loss: 1.6955 - accuracy: 0.3939\n",
      "Epoch 3/5\n",
      "1563/1563 [==============================] - 37s 23ms/step - loss: 1.6097 - accuracy: 0.4261\n",
      "Epoch 4/5\n",
      "1563/1563 [==============================] - 51s 33ms/step - loss: 1.5578 - accuracy: 0.4456\n",
      "Epoch 5/5\n",
      "1563/1563 [==============================] - 26s 16ms/step - loss: 1.5277 - accuracy: 0.4548\n"
     ]
    },
    {
     "data": {
      "text/plain": [
       "<tensorflow.python.keras.callbacks.History at 0x1152d4f50>"
      ]
     },
     "execution_count": 97,
     "metadata": {},
     "output_type": "execute_result"
    }
   ],
   "source": [
    "model.fit(x_train, y_train, epochs=5)"
   ]
  },
  {
   "cell_type": "code",
   "execution_count": 98,
   "metadata": {},
   "outputs": [],
   "source": [
    "model = Sequential()\n",
    "model.add(Flatten(input_shape=(32, 32, 3)))\n",
    "model.add(Dense(784, activation='relu'))\n",
    "model.add(Dense(500, activation='relu'))\n",
    "model.add(Dense(500, activation='relu'))\n",
    "model.add(Dense(250, activation='relu'))\n",
    "model.add(Dense(100, activation='relu'))\n",
    "model.add(Dense(10, activation='softmax'))\n",
    "model.compile(loss='categorical_crossentropy', optimizer='adam', metrics=['accuracy'])"
   ]
  },
  {
   "cell_type": "code",
   "execution_count": 99,
   "metadata": {},
   "outputs": [
    {
     "name": "stdout",
     "output_type": "stream",
     "text": [
      "Epoch 1/5\n",
      "1563/1563 [==============================] - 33s 21ms/step - loss: 1.9209 - accuracy: 0.2897\n",
      "Epoch 2/5\n",
      "1563/1563 [==============================] - 32s 20ms/step - loss: 1.7212 - accuracy: 0.3773\n",
      "Epoch 3/5\n",
      "1563/1563 [==============================] - 32s 21ms/step - loss: 1.6428 - accuracy: 0.4065\n",
      "Epoch 4/5\n",
      "1563/1563 [==============================] - 46s 30ms/step - loss: 1.5908 - accuracy: 0.4284\n",
      "Epoch 5/5\n",
      "1563/1563 [==============================] - 53s 34ms/step - loss: 1.5501 - accuracy: 0.4427\n"
     ]
    },
    {
     "data": {
      "text/plain": [
       "<tensorflow.python.keras.callbacks.History at 0x1152d4d10>"
      ]
     },
     "execution_count": 99,
     "metadata": {},
     "output_type": "execute_result"
    }
   ],
   "source": [
    "model.fit(x_train, y_train, epochs=5)"
   ]
  },
  {
   "cell_type": "markdown",
   "metadata": {
    "colab_type": "text",
    "id": "qFdPvlXBOdUN"
   },
   "source": [
    "# Keras Tuner"
   ]
  },
  {
   "cell_type": "markdown",
   "metadata": {
    "colab_type": "text",
    "id": "xHxb-dlhMIzW"
   },
   "source": [
    "## Overview\n",
    "\n",
    "The Keras Tuner is a library that helps you pick the optimal set of hyperparameters for your TensorFlow program. The process of selecting the right set of hyperparameters for your machine learning (ML) application is called *hyperparameter tuning* or *hypertuning*. \n",
    "\n",
    "Hyperparameters are of two types:\n",
    "1. **Model hyperparameters** which influence model selection such as the number and width of hidden layers\n",
    "2. **Algorithm hyperparameters** which influence the speed and quality of the learning algorithm such as the learning rate for Stochastic Gradient Descent (SGD)."
   ]
  },
  {
   "cell_type": "markdown",
   "metadata": {
    "colab_type": "text",
    "id": "MUXex9ctTuDB"
   },
   "source": [
    "## Setup"
   ]
  },
  {
   "cell_type": "code",
   "execution_count": 100,
   "metadata": {
    "colab": {},
    "colab_type": "code",
    "id": "IqR2PQG4ZaZ0"
   },
   "outputs": [],
   "source": [
    "from tensorflow import keras\n",
    "import kerastuner as kt # import the Keras Tuner.\n",
    "import IPython"
   ]
  },
  {
   "cell_type": "code",
   "execution_count": 101,
   "metadata": {
    "colab": {},
    "colab_type": "code",
    "id": "OHlHs9Wj_PUM"
   },
   "outputs": [],
   "source": [
    "(img_train, label_train), (img_test, label_test) = keras.datasets.fashion_mnist.load_data()"
   ]
  },
  {
   "cell_type": "code",
   "execution_count": 102,
   "metadata": {
    "colab": {},
    "colab_type": "code",
    "id": "bLVhXs3xrUD0"
   },
   "outputs": [],
   "source": [
    "img_train = img_train.astype('float32') / 255.0\n",
    "img_test = img_test.astype('float32') / 255.0"
   ]
  },
  {
   "cell_type": "markdown",
   "metadata": {
    "colab_type": "text",
    "id": "K5YEL2H2Ax3e"
   },
   "source": [
    "## Define the model\n",
    "\n",
    "When you build a model for hypertuning, you also define the hyperparameter search space in addition to the model architecture. The model you set up for hypertuning is called a *hypermodel*.\n",
    "\n",
    "You can define a hypermodel through two approaches:\n",
    "\n",
    "* By using a model builder function\n",
    "* By subclassing the `HyperModel` class of the Keras Tuner API\n",
    "\n",
    "You can also use two pre-defined `HyperModel` classes - [HyperXception](https://keras-team.github.io/keras-tuner/documentation/hypermodels/#hyperxception-class) and [HyperResNet](https://keras-team.github.io/keras-tuner/documentation/hypermodels/#hyperresnet-class) for computer vision applications.\n",
    "\n",
    "In this tutorial, you use a model builder function to define the image classification model. The model builder function returns a compiled model and uses hyperparameters you define inline to hypertune the model."
   ]
  },
  {
   "cell_type": "code",
   "execution_count": 103,
   "metadata": {
    "colab": {},
    "colab_type": "code",
    "id": "ZQKodC-jtsva"
   },
   "outputs": [],
   "source": [
    "def model_builder(hp):\n",
    "    model = keras.Sequential()\n",
    "    model.add(keras.layers.Flatten(input_shape=(28, 28)))\n",
    "  \n",
    "    # Tune the number of units in the first Dense layer\n",
    "    # Choose an optimal value between 32-512\n",
    "    hp_units = hp.Int('units', min_value = 32, max_value = 512, step = 32)\n",
    "    model.add(keras.layers.Dense(units = hp_units, activation = 'relu'))\n",
    "    model.add(keras.layers.Dense(10))\n",
    "\n",
    "    # Tune the learning rate for the optimizer \n",
    "    # Choose an optimal value from 0.01, 0.001, or 0.0001\n",
    "    hp_learning_rate = hp.Choice('learning_rate', values = [1e-2, 1e-3, 1e-4]) \n",
    "\n",
    "    model.compile(optimizer = keras.optimizers.Adam(learning_rate = hp_learning_rate),\n",
    "                loss = keras.losses.SparseCategoricalCrossentropy(from_logits = True), \n",
    "                metrics = ['accuracy'])\n",
    "\n",
    "    return model"
   ]
  },
  {
   "cell_type": "markdown",
   "metadata": {
    "colab_type": "text",
    "id": "0J1VYw4q3x0b"
   },
   "source": [
    "## Instantiate the tuner and perform hypertuning\n",
    "\n",
    "Instantiate the tuner to perform the hypertuning. The Keras Tuner has four tuners available - `RandomSearch`, `Hyperband`, `BayesianOptimization`, and `Sklearn`. In this tutorial, you use the [Hyperband](https://arxiv.org/pdf/1603.06560.pdf) tuner. \n",
    "\n",
    "To instantiate the Hyperband tuner, you must specify the hypermodel, the `objective` to optimize and the maximum number of epochs to train (`max_epochs`)."
   ]
  },
  {
   "cell_type": "code",
   "execution_count": 104,
   "metadata": {
    "colab": {},
    "colab_type": "code",
    "id": "oichQFly6Y46"
   },
   "outputs": [
    {
     "name": "stdout",
     "output_type": "stream",
     "text": [
      "INFO:tensorflow:Reloading Oracle from existing project my_dir/intro_to_kt/oracle.json\n",
      "INFO:tensorflow:Reloading Tuner from my_dir/intro_to_kt/tuner0.json\n"
     ]
    }
   ],
   "source": [
    "tuner = kt.Hyperband(model_builder,\n",
    "                     objective = 'val_accuracy', \n",
    "                     max_epochs = 10,\n",
    "                     factor = 3,\n",
    "                     directory = 'my_dir',\n",
    "                     project_name = 'intro_to_kt')                       "
   ]
  },
  {
   "cell_type": "markdown",
   "metadata": {
    "colab_type": "text",
    "id": "VaIhhdKf9VtI"
   },
   "source": [
    "The Hyperband tuning algorithm uses adaptive resource allocation and early-stopping to quickly converge on a high-performing model. This is done using a sports championship style bracket. The algorithm trains a large number of models for a few epochs and carries forward only the top-performing half of models to the next round. Hyperband determines the number of models to train in a bracket by computing 1 + log<sub>`factor`</sub>(`max_epochs`) and rounding it up to the nearest integer."
   ]
  },
  {
   "cell_type": "markdown",
   "metadata": {
    "colab_type": "text",
    "id": "oTeamrUWOJRb"
   },
   "source": [
    "Before running the hyperparameter search, define a callback to clear the training outputs at the end of every training step."
   ]
  },
  {
   "cell_type": "code",
   "execution_count": 114,
   "metadata": {
    "colab": {},
    "colab_type": "code",
    "id": "Bbr_8QE76PJd"
   },
   "outputs": [],
   "source": [
    "class ClearTrainingOutput(tf.keras.callbacks.Callback):\n",
    "    def on_train_end(*args, **kwargs):\n",
    "        IPython.display.clear_output()"
   ]
  },
  {
   "cell_type": "markdown",
   "metadata": {
    "colab_type": "text",
    "id": "UKghEo15Tduy"
   },
   "source": [
    "Run the hyperparameter search. The arguments for the search method are the same as those used for `tf.keras.model.fit` in addition to the callback above."
   ]
  },
  {
   "cell_type": "code",
   "execution_count": 105,
   "metadata": {},
   "outputs": [
    {
     "name": "stdout",
     "output_type": "stream",
     "text": [
      "INFO:tensorflow:Oracle triggered exit\n",
      "\n",
      "The hyperparameter search is complete. The optimal number of units in the first densely-connected\n",
      "layer is 256 and the optimal learning rate for the optimizer\n",
      "is 0.001.\n",
      "\n"
     ]
    }
   ],
   "source": [
    "tuner.search(img_train, label_train, epochs = 10, validation_data = (img_test, label_test))\n",
    "\n",
    "# Get the optimal hyperparameters\n",
    "best_hps = tuner.get_best_hyperparameters(num_trials = 1)[0]\n",
    "\n",
    "print(f\"\"\"\n",
    "The hyperparameter search is complete. The optimal number of units in the first densely-connected\n",
    "layer is {best_hps.get('units')} and the optimal learning rate for the optimizer\n",
    "is {best_hps.get('learning_rate')}.\n",
    "\"\"\")"
   ]
  },
  {
   "cell_type": "code",
   "execution_count": 107,
   "metadata": {},
   "outputs": [
    {
     "name": "stdout",
     "output_type": "stream",
     "text": [
      "Epoch 1/10\n",
      "1875/1875 [==============================] - ETA: 0s - loss: 2.3080 - accuracy: 0.25 - ETA: 4s - loss: 1.4572 - accuracy: 0.47 - ETA: 5s - loss: 1.1758 - accuracy: 0.58 - ETA: 5s - loss: 1.0425 - accuracy: 0.63 - ETA: 5s - loss: 0.9745 - accuracy: 0.66 - ETA: 5s - loss: 0.9175 - accuracy: 0.68 - ETA: 5s - loss: 0.8823 - accuracy: 0.69 - ETA: 5s - loss: 0.8380 - accuracy: 0.70 - ETA: 5s - loss: 0.8162 - accuracy: 0.71 - ETA: 5s - loss: 0.8050 - accuracy: 0.72 - ETA: 5s - loss: 0.7836 - accuracy: 0.72 - ETA: 5s - loss: 0.7649 - accuracy: 0.73 - ETA: 5s - loss: 0.7461 - accuracy: 0.74 - ETA: 5s - loss: 0.7317 - accuracy: 0.74 - ETA: 5s - loss: 0.7236 - accuracy: 0.74 - ETA: 5s - loss: 0.7157 - accuracy: 0.75 - ETA: 5s - loss: 0.7070 - accuracy: 0.75 - ETA: 5s - loss: 0.6940 - accuracy: 0.75 - ETA: 5s - loss: 0.6869 - accuracy: 0.76 - ETA: 5s - loss: 0.6796 - accuracy: 0.76 - ETA: 4s - loss: 0.6693 - accuracy: 0.76 - ETA: 4s - loss: 0.6642 - accuracy: 0.76 - ETA: 4s - loss: 0.6556 - accuracy: 0.77 - ETA: 4s - loss: 0.6491 - accuracy: 0.77 - ETA: 4s - loss: 0.6434 - accuracy: 0.77 - ETA: 4s - loss: 0.6380 - accuracy: 0.77 - ETA: 4s - loss: 0.6342 - accuracy: 0.78 - ETA: 4s - loss: 0.6285 - accuracy: 0.78 - ETA: 4s - loss: 0.6219 - accuracy: 0.78 - ETA: 4s - loss: 0.6214 - accuracy: 0.78 - ETA: 4s - loss: 0.6181 - accuracy: 0.78 - ETA: 4s - loss: 0.6152 - accuracy: 0.78 - ETA: 4s - loss: 0.6117 - accuracy: 0.78 - ETA: 4s - loss: 0.6066 - accuracy: 0.78 - ETA: 4s - loss: 0.6029 - accuracy: 0.79 - ETA: 4s - loss: 0.5994 - accuracy: 0.79 - ETA: 4s - loss: 0.5955 - accuracy: 0.79 - ETA: 4s - loss: 0.5904 - accuracy: 0.79 - ETA: 4s - loss: 0.5876 - accuracy: 0.79 - ETA: 3s - loss: 0.5858 - accuracy: 0.79 - ETA: 3s - loss: 0.5831 - accuracy: 0.79 - ETA: 3s - loss: 0.5799 - accuracy: 0.79 - ETA: 3s - loss: 0.5784 - accuracy: 0.79 - ETA: 3s - loss: 0.5772 - accuracy: 0.79 - ETA: 3s - loss: 0.5740 - accuracy: 0.79 - ETA: 3s - loss: 0.5728 - accuracy: 0.79 - ETA: 3s - loss: 0.5703 - accuracy: 0.80 - ETA: 3s - loss: 0.5673 - accuracy: 0.80 - ETA: 3s - loss: 0.5645 - accuracy: 0.80 - ETA: 3s - loss: 0.5629 - accuracy: 0.80 - ETA: 3s - loss: 0.5597 - accuracy: 0.80 - ETA: 3s - loss: 0.5563 - accuracy: 0.80 - ETA: 3s - loss: 0.5543 - accuracy: 0.80 - ETA: 3s - loss: 0.5536 - accuracy: 0.80 - ETA: 3s - loss: 0.5524 - accuracy: 0.80 - ETA: 3s - loss: 0.5506 - accuracy: 0.80 - ETA: 3s - loss: 0.5486 - accuracy: 0.80 - ETA: 3s - loss: 0.5470 - accuracy: 0.80 - ETA: 3s - loss: 0.5452 - accuracy: 0.80 - ETA: 2s - loss: 0.5431 - accuracy: 0.80 - ETA: 2s - loss: 0.5402 - accuracy: 0.81 - ETA: 2s - loss: 0.5385 - accuracy: 0.81 - ETA: 2s - loss: 0.5373 - accuracy: 0.81 - ETA: 2s - loss: 0.5361 - accuracy: 0.81 - ETA: 2s - loss: 0.5351 - accuracy: 0.81 - ETA: 2s - loss: 0.5343 - accuracy: 0.81 - ETA: 2s - loss: 0.5329 - accuracy: 0.81 - ETA: 2s - loss: 0.5317 - accuracy: 0.81 - ETA: 2s - loss: 0.5309 - accuracy: 0.81 - ETA: 2s - loss: 0.5305 - accuracy: 0.81 - ETA: 2s - loss: 0.5291 - accuracy: 0.81 - ETA: 2s - loss: 0.5280 - accuracy: 0.81 - ETA: 2s - loss: 0.5282 - accuracy: 0.81 - ETA: 2s - loss: 0.5267 - accuracy: 0.81 - ETA: 2s - loss: 0.5249 - accuracy: 0.81 - ETA: 2s - loss: 0.5235 - accuracy: 0.81 - ETA: 2s - loss: 0.5222 - accuracy: 0.81 - ETA: 2s - loss: 0.5207 - accuracy: 0.81 - ETA: 2s - loss: 0.5189 - accuracy: 0.81 - ETA: 2s - loss: 0.5175 - accuracy: 0.81 - ETA: 1s - loss: 0.5173 - accuracy: 0.81 - ETA: 1s - loss: 0.5169 - accuracy: 0.81 - ETA: 1s - loss: 0.5166 - accuracy: 0.81 - ETA: 1s - loss: 0.5155 - accuracy: 0.81 - ETA: 1s - loss: 0.5151 - accuracy: 0.81 - ETA: 1s - loss: 0.5143 - accuracy: 0.81 - ETA: 1s - loss: 0.5129 - accuracy: 0.81 - ETA: 1s - loss: 0.5120 - accuracy: 0.81 - ETA: 1s - loss: 0.5114 - accuracy: 0.81 - ETA: 1s - loss: 0.5099 - accuracy: 0.81 - ETA: 1s - loss: 0.5096 - accuracy: 0.81 - ETA: 1s - loss: 0.5087 - accuracy: 0.81 - ETA: 1s - loss: 0.5080 - accuracy: 0.81 - ETA: 1s - loss: 0.5069 - accuracy: 0.82 - ETA: 1s - loss: 0.5060 - accuracy: 0.82 - ETA: 1s - loss: 0.5051 - accuracy: 0.82 - ETA: 1s - loss: 0.5041 - accuracy: 0.82 - ETA: 1s - loss: 0.5041 - accuracy: 0.82 - ETA: 1s - loss: 0.5038 - accuracy: 0.82 - ETA: 1s - loss: 0.5030 - accuracy: 0.82 - ETA: 0s - loss: 0.5024 - accuracy: 0.82 - ETA: 0s - loss: 0.5007 - accuracy: 0.82 - ETA: 0s - loss: 0.4998 - accuracy: 0.82 - ETA: 0s - loss: 0.4984 - accuracy: 0.82 - ETA: 0s - loss: 0.4980 - accuracy: 0.82 - ETA: 0s - loss: 0.4972 - accuracy: 0.82 - ETA: 0s - loss: 0.4960 - accuracy: 0.82 - ETA: 0s - loss: 0.4944 - accuracy: 0.82 - ETA: 0s - loss: 0.4933 - accuracy: 0.82 - ETA: 0s - loss: 0.4924 - accuracy: 0.82 - ETA: 0s - loss: 0.4920 - accuracy: 0.82 - ETA: 0s - loss: 0.4912 - accuracy: 0.82 - ETA: 0s - loss: 0.4905 - accuracy: 0.82 - ETA: 0s - loss: 0.4894 - accuracy: 0.82 - ETA: 0s - loss: 0.4886 - accuracy: 0.82 - ETA: 0s - loss: 0.4876 - accuracy: 0.82 - ETA: 0s - loss: 0.4867 - accuracy: 0.82 - ETA: 0s - loss: 0.4859 - accuracy: 0.82 - ETA: 0s - loss: 0.4851 - accuracy: 0.82 - ETA: 0s - loss: 0.4845 - accuracy: 0.82 - 7s 4ms/step - loss: 0.4843 - accuracy: 0.8278 - val_loss: 0.4417 - val_accuracy: 0.8477\n",
      "Epoch 2/10\n"
     ]
    },
    {
     "name": "stdout",
     "output_type": "stream",
     "text": [
      "1875/1875 [==============================] - ETA: 0s - loss: 0.3756 - accuracy: 0.84 - ETA: 5s - loss: 0.3416 - accuracy: 0.87 - ETA: 5s - loss: 0.3577 - accuracy: 0.87 - ETA: 5s - loss: 0.3685 - accuracy: 0.86 - ETA: 5s - loss: 0.3605 - accuracy: 0.86 - ETA: 5s - loss: 0.3616 - accuracy: 0.86 - ETA: 5s - loss: 0.3684 - accuracy: 0.86 - ETA: 5s - loss: 0.3578 - accuracy: 0.87 - ETA: 5s - loss: 0.3544 - accuracy: 0.87 - ETA: 5s - loss: 0.3565 - accuracy: 0.87 - ETA: 5s - loss: 0.3580 - accuracy: 0.87 - ETA: 5s - loss: 0.3659 - accuracy: 0.86 - ETA: 5s - loss: 0.3680 - accuracy: 0.86 - ETA: 5s - loss: 0.3667 - accuracy: 0.86 - ETA: 5s - loss: 0.3693 - accuracy: 0.86 - ETA: 5s - loss: 0.3708 - accuracy: 0.86 - ETA: 5s - loss: 0.3739 - accuracy: 0.86 - ETA: 5s - loss: 0.3725 - accuracy: 0.86 - ETA: 5s - loss: 0.3761 - accuracy: 0.86 - ETA: 5s - loss: 0.3728 - accuracy: 0.86 - ETA: 5s - loss: 0.3717 - accuracy: 0.86 - ETA: 5s - loss: 0.3730 - accuracy: 0.86 - ETA: 5s - loss: 0.3737 - accuracy: 0.86 - ETA: 5s - loss: 0.3727 - accuracy: 0.86 - ETA: 5s - loss: 0.3744 - accuracy: 0.86 - ETA: 5s - loss: 0.3763 - accuracy: 0.86 - ETA: 5s - loss: 0.3766 - accuracy: 0.86 - ETA: 4s - loss: 0.3760 - accuracy: 0.86 - ETA: 4s - loss: 0.3733 - accuracy: 0.86 - ETA: 4s - loss: 0.3731 - accuracy: 0.86 - ETA: 4s - loss: 0.3730 - accuracy: 0.86 - ETA: 5s - loss: 0.3737 - accuracy: 0.86 - ETA: 5s - loss: 0.3730 - accuracy: 0.86 - ETA: 5s - loss: 0.3723 - accuracy: 0.86 - ETA: 5s - loss: 0.3720 - accuracy: 0.86 - ETA: 5s - loss: 0.3722 - accuracy: 0.86 - ETA: 5s - loss: 0.3720 - accuracy: 0.86 - ETA: 5s - loss: 0.3716 - accuracy: 0.86 - ETA: 5s - loss: 0.3707 - accuracy: 0.86 - ETA: 5s - loss: 0.3707 - accuracy: 0.86 - ETA: 5s - loss: 0.3691 - accuracy: 0.86 - ETA: 5s - loss: 0.3695 - accuracy: 0.86 - ETA: 5s - loss: 0.3700 - accuracy: 0.86 - ETA: 5s - loss: 0.3693 - accuracy: 0.86 - ETA: 5s - loss: 0.3693 - accuracy: 0.86 - ETA: 4s - loss: 0.3694 - accuracy: 0.86 - ETA: 4s - loss: 0.3699 - accuracy: 0.86 - ETA: 4s - loss: 0.3701 - accuracy: 0.86 - ETA: 4s - loss: 0.3695 - accuracy: 0.86 - ETA: 4s - loss: 0.3706 - accuracy: 0.86 - ETA: 4s - loss: 0.3707 - accuracy: 0.86 - ETA: 4s - loss: 0.3711 - accuracy: 0.86 - ETA: 4s - loss: 0.3722 - accuracy: 0.86 - ETA: 4s - loss: 0.3724 - accuracy: 0.86 - ETA: 4s - loss: 0.3715 - accuracy: 0.86 - ETA: 4s - loss: 0.3726 - accuracy: 0.86 - ETA: 4s - loss: 0.3725 - accuracy: 0.86 - ETA: 4s - loss: 0.3736 - accuracy: 0.86 - ETA: 4s - loss: 0.3733 - accuracy: 0.86 - ETA: 4s - loss: 0.3716 - accuracy: 0.86 - ETA: 4s - loss: 0.3721 - accuracy: 0.86 - ETA: 4s - loss: 0.3718 - accuracy: 0.86 - ETA: 4s - loss: 0.3719 - accuracy: 0.86 - ETA: 4s - loss: 0.3715 - accuracy: 0.86 - ETA: 4s - loss: 0.3714 - accuracy: 0.86 - ETA: 4s - loss: 0.3711 - accuracy: 0.86 - ETA: 4s - loss: 0.3708 - accuracy: 0.86 - ETA: 4s - loss: 0.3713 - accuracy: 0.86 - ETA: 4s - loss: 0.3708 - accuracy: 0.86 - ETA: 4s - loss: 0.3702 - accuracy: 0.86 - ETA: 3s - loss: 0.3701 - accuracy: 0.86 - ETA: 3s - loss: 0.3695 - accuracy: 0.86 - ETA: 3s - loss: 0.3696 - accuracy: 0.86 - ETA: 3s - loss: 0.3690 - accuracy: 0.86 - ETA: 3s - loss: 0.3696 - accuracy: 0.86 - ETA: 3s - loss: 0.3707 - accuracy: 0.86 - ETA: 3s - loss: 0.3702 - accuracy: 0.86 - ETA: 3s - loss: 0.3700 - accuracy: 0.86 - ETA: 3s - loss: 0.3698 - accuracy: 0.86 - ETA: 3s - loss: 0.3700 - accuracy: 0.86 - ETA: 3s - loss: 0.3696 - accuracy: 0.86 - ETA: 3s - loss: 0.3694 - accuracy: 0.86 - ETA: 3s - loss: 0.3694 - accuracy: 0.86 - ETA: 3s - loss: 0.3697 - accuracy: 0.86 - ETA: 3s - loss: 0.3686 - accuracy: 0.86 - ETA: 3s - loss: 0.3676 - accuracy: 0.86 - ETA: 3s - loss: 0.3675 - accuracy: 0.86 - ETA: 3s - loss: 0.3671 - accuracy: 0.86 - ETA: 2s - loss: 0.3671 - accuracy: 0.86 - ETA: 2s - loss: 0.3668 - accuracy: 0.86 - ETA: 2s - loss: 0.3662 - accuracy: 0.86 - ETA: 2s - loss: 0.3657 - accuracy: 0.86 - ETA: 2s - loss: 0.3654 - accuracy: 0.86 - ETA: 2s - loss: 0.3654 - accuracy: 0.86 - ETA: 2s - loss: 0.3659 - accuracy: 0.86 - ETA: 2s - loss: 0.3657 - accuracy: 0.86 - ETA: 2s - loss: 0.3662 - accuracy: 0.86 - ETA: 2s - loss: 0.3665 - accuracy: 0.86 - ETA: 2s - loss: 0.3679 - accuracy: 0.86 - ETA: 2s - loss: 0.3676 - accuracy: 0.86 - ETA: 2s - loss: 0.3669 - accuracy: 0.86 - ETA: 2s - loss: 0.3663 - accuracy: 0.86 - ETA: 2s - loss: 0.3660 - accuracy: 0.86 - ETA: 1s - loss: 0.3660 - accuracy: 0.86 - ETA: 1s - loss: 0.3659 - accuracy: 0.86 - ETA: 1s - loss: 0.3651 - accuracy: 0.86 - ETA: 1s - loss: 0.3649 - accuracy: 0.86 - ETA: 1s - loss: 0.3653 - accuracy: 0.86 - ETA: 1s - loss: 0.3653 - accuracy: 0.86 - ETA: 1s - loss: 0.3646 - accuracy: 0.86 - ETA: 1s - loss: 0.3642 - accuracy: 0.86 - ETA: 1s - loss: 0.3637 - accuracy: 0.86 - ETA: 1s - loss: 0.3642 - accuracy: 0.86 - ETA: 1s - loss: 0.3638 - accuracy: 0.86 - ETA: 1s - loss: 0.3642 - accuracy: 0.86 - ETA: 1s - loss: 0.3640 - accuracy: 0.86 - ETA: 1s - loss: 0.3643 - accuracy: 0.86 - ETA: 1s - loss: 0.3647 - accuracy: 0.86 - ETA: 1s - loss: 0.3645 - accuracy: 0.86 - ETA: 1s - loss: 0.3645 - accuracy: 0.86 - ETA: 1s - loss: 0.3642 - accuracy: 0.86 - ETA: 0s - loss: 0.3641 - accuracy: 0.86 - ETA: 0s - loss: 0.3642 - accuracy: 0.86 - ETA: 0s - loss: 0.3642 - accuracy: 0.86 - ETA: 0s - loss: 0.3641 - accuracy: 0.86 - ETA: 0s - loss: 0.3642 - accuracy: 0.86 - ETA: 0s - loss: 0.3639 - accuracy: 0.86 - ETA: 0s - loss: 0.3638 - accuracy: 0.86 - ETA: 0s - loss: 0.3641 - accuracy: 0.86 - ETA: 0s - loss: 0.3638 - accuracy: 0.86 - ETA: 0s - loss: 0.3636 - accuracy: 0.86 - ETA: 0s - loss: 0.3636 - accuracy: 0.86 - ETA: 0s - loss: 0.3633 - accuracy: 0.86 - ETA: 0s - loss: 0.3632 - accuracy: 0.86 - ETA: 0s - loss: 0.3633 - accuracy: 0.86 - ETA: 0s - loss: 0.3637 - accuracy: 0.86 - ETA: 0s - loss: 0.3636 - accuracy: 0.86 - ETA: 0s - loss: 0.3638 - accuracy: 0.86 - ETA: 0s - loss: 0.3644 - accuracy: 0.86 - ETA: 0s - loss: 0.3642 - accuracy: 0.86 - ETA: 0s - loss: 0.3639 - accuracy: 0.86 - ETA: 0s - loss: 0.3643 - accuracy: 0.86 - 8s 4ms/step - loss: 0.3644 - accuracy: 0.8675 - val_loss: 0.3740 - val_accuracy: 0.8648\n",
      "Epoch 3/10\n"
     ]
    },
    {
     "name": "stdout",
     "output_type": "stream",
     "text": [
      "1875/1875 [==============================] - ETA: 0s - loss: 0.2909 - accuracy: 0.87 - ETA: 7s - loss: 0.3311 - accuracy: 0.86 - ETA: 7s - loss: 0.3041 - accuracy: 0.87 - ETA: 7s - loss: 0.2933 - accuracy: 0.88 - ETA: 8s - loss: 0.2979 - accuracy: 0.88 - ETA: 9s - loss: 0.2989 - accuracy: 0.88 - ETA: 9s - loss: 0.3032 - accuracy: 0.88 - ETA: 9s - loss: 0.3008 - accuracy: 0.88 - ETA: 9s - loss: 0.3065 - accuracy: 0.88 - ETA: 9s - loss: 0.3086 - accuracy: 0.88 - ETA: 9s - loss: 0.3118 - accuracy: 0.88 - ETA: 8s - loss: 0.3139 - accuracy: 0.88 - ETA: 7s - loss: 0.3167 - accuracy: 0.88 - ETA: 7s - loss: 0.3167 - accuracy: 0.88 - ETA: 7s - loss: 0.3143 - accuracy: 0.88 - ETA: 6s - loss: 0.3189 - accuracy: 0.88 - ETA: 6s - loss: 0.3199 - accuracy: 0.88 - ETA: 6s - loss: 0.3207 - accuracy: 0.88 - ETA: 6s - loss: 0.3219 - accuracy: 0.87 - ETA: 6s - loss: 0.3235 - accuracy: 0.87 - ETA: 5s - loss: 0.3239 - accuracy: 0.87 - ETA: 5s - loss: 0.3241 - accuracy: 0.87 - ETA: 5s - loss: 0.3246 - accuracy: 0.87 - ETA: 5s - loss: 0.3256 - accuracy: 0.87 - ETA: 5s - loss: 0.3251 - accuracy: 0.87 - ETA: 5s - loss: 0.3242 - accuracy: 0.88 - ETA: 5s - loss: 0.3250 - accuracy: 0.87 - ETA: 5s - loss: 0.3256 - accuracy: 0.87 - ETA: 5s - loss: 0.3248 - accuracy: 0.87 - ETA: 5s - loss: 0.3249 - accuracy: 0.87 - ETA: 5s - loss: 0.3240 - accuracy: 0.88 - ETA: 5s - loss: 0.3255 - accuracy: 0.88 - ETA: 5s - loss: 0.3252 - accuracy: 0.88 - ETA: 5s - loss: 0.3257 - accuracy: 0.88 - ETA: 5s - loss: 0.3255 - accuracy: 0.88 - ETA: 5s - loss: 0.3258 - accuracy: 0.88 - ETA: 5s - loss: 0.3258 - accuracy: 0.88 - ETA: 5s - loss: 0.3236 - accuracy: 0.88 - ETA: 5s - loss: 0.3234 - accuracy: 0.88 - ETA: 5s - loss: 0.3213 - accuracy: 0.88 - ETA: 5s - loss: 0.3223 - accuracy: 0.88 - ETA: 5s - loss: 0.3221 - accuracy: 0.88 - ETA: 5s - loss: 0.3228 - accuracy: 0.88 - ETA: 5s - loss: 0.3226 - accuracy: 0.88 - ETA: 5s - loss: 0.3220 - accuracy: 0.88 - ETA: 5s - loss: 0.3211 - accuracy: 0.88 - ETA: 5s - loss: 0.3219 - accuracy: 0.88 - ETA: 5s - loss: 0.3213 - accuracy: 0.88 - ETA: 5s - loss: 0.3214 - accuracy: 0.88 - ETA: 5s - loss: 0.3216 - accuracy: 0.88 - ETA: 4s - loss: 0.3227 - accuracy: 0.88 - ETA: 4s - loss: 0.3239 - accuracy: 0.88 - ETA: 4s - loss: 0.3243 - accuracy: 0.88 - ETA: 4s - loss: 0.3254 - accuracy: 0.87 - ETA: 4s - loss: 0.3250 - accuracy: 0.87 - ETA: 4s - loss: 0.3252 - accuracy: 0.87 - ETA: 4s - loss: 0.3255 - accuracy: 0.87 - ETA: 4s - loss: 0.3250 - accuracy: 0.87 - ETA: 4s - loss: 0.3246 - accuracy: 0.87 - ETA: 4s - loss: 0.3253 - accuracy: 0.87 - ETA: 4s - loss: 0.3259 - accuracy: 0.87 - ETA: 4s - loss: 0.3268 - accuracy: 0.87 - ETA: 4s - loss: 0.3264 - accuracy: 0.87 - ETA: 4s - loss: 0.3271 - accuracy: 0.87 - ETA: 4s - loss: 0.3279 - accuracy: 0.87 - ETA: 4s - loss: 0.3280 - accuracy: 0.87 - ETA: 4s - loss: 0.3287 - accuracy: 0.87 - ETA: 4s - loss: 0.3282 - accuracy: 0.87 - ETA: 4s - loss: 0.3273 - accuracy: 0.87 - ETA: 4s - loss: 0.3267 - accuracy: 0.88 - ETA: 3s - loss: 0.3277 - accuracy: 0.87 - ETA: 3s - loss: 0.3278 - accuracy: 0.87 - ETA: 3s - loss: 0.3275 - accuracy: 0.87 - ETA: 3s - loss: 0.3273 - accuracy: 0.88 - ETA: 3s - loss: 0.3273 - accuracy: 0.88 - ETA: 3s - loss: 0.3274 - accuracy: 0.88 - ETA: 3s - loss: 0.3271 - accuracy: 0.88 - ETA: 3s - loss: 0.3274 - accuracy: 0.88 - ETA: 3s - loss: 0.3278 - accuracy: 0.88 - ETA: 3s - loss: 0.3273 - accuracy: 0.88 - ETA: 3s - loss: 0.3270 - accuracy: 0.88 - ETA: 3s - loss: 0.3269 - accuracy: 0.88 - ETA: 3s - loss: 0.3269 - accuracy: 0.88 - ETA: 3s - loss: 0.3266 - accuracy: 0.88 - ETA: 3s - loss: 0.3263 - accuracy: 0.88 - ETA: 3s - loss: 0.3264 - accuracy: 0.88 - ETA: 3s - loss: 0.3262 - accuracy: 0.88 - ETA: 3s - loss: 0.3266 - accuracy: 0.88 - ETA: 3s - loss: 0.3265 - accuracy: 0.88 - ETA: 3s - loss: 0.3265 - accuracy: 0.88 - ETA: 3s - loss: 0.3262 - accuracy: 0.88 - ETA: 3s - loss: 0.3260 - accuracy: 0.88 - ETA: 2s - loss: 0.3259 - accuracy: 0.88 - ETA: 2s - loss: 0.3259 - accuracy: 0.88 - ETA: 2s - loss: 0.3253 - accuracy: 0.88 - ETA: 2s - loss: 0.3254 - accuracy: 0.88 - ETA: 2s - loss: 0.3251 - accuracy: 0.88 - ETA: 2s - loss: 0.3248 - accuracy: 0.88 - ETA: 2s - loss: 0.3247 - accuracy: 0.88 - ETA: 2s - loss: 0.3251 - accuracy: 0.88 - ETA: 2s - loss: 0.3262 - accuracy: 0.88 - ETA: 2s - loss: 0.3259 - accuracy: 0.88 - ETA: 2s - loss: 0.3259 - accuracy: 0.88 - ETA: 2s - loss: 0.3256 - accuracy: 0.88 - ETA: 2s - loss: 0.3259 - accuracy: 0.88 - ETA: 2s - loss: 0.3261 - accuracy: 0.88 - ETA: 1s - loss: 0.3257 - accuracy: 0.88 - ETA: 1s - loss: 0.3255 - accuracy: 0.88 - ETA: 1s - loss: 0.3252 - accuracy: 0.88 - ETA: 1s - loss: 0.3251 - accuracy: 0.88 - ETA: 1s - loss: 0.3253 - accuracy: 0.88 - ETA: 1s - loss: 0.3256 - accuracy: 0.88 - ETA: 1s - loss: 0.3260 - accuracy: 0.88 - ETA: 1s - loss: 0.3262 - accuracy: 0.88 - ETA: 1s - loss: 0.3265 - accuracy: 0.88 - ETA: 1s - loss: 0.3264 - accuracy: 0.88 - ETA: 1s - loss: 0.3263 - accuracy: 0.88 - ETA: 1s - loss: 0.3260 - accuracy: 0.88 - ETA: 1s - loss: 0.3260 - accuracy: 0.88 - ETA: 0s - loss: 0.3261 - accuracy: 0.88 - ETA: 0s - loss: 0.3260 - accuracy: 0.88 - ETA: 0s - loss: 0.3260 - accuracy: 0.88 - ETA: 0s - loss: 0.3267 - accuracy: 0.88 - ETA: 0s - loss: 0.3268 - accuracy: 0.88 - ETA: 0s - loss: 0.3266 - accuracy: 0.88 - ETA: 0s - loss: 0.3266 - accuracy: 0.88 - ETA: 0s - loss: 0.3269 - accuracy: 0.88 - ETA: 0s - loss: 0.3274 - accuracy: 0.88 - ETA: 0s - loss: 0.3275 - accuracy: 0.88 - ETA: 0s - loss: 0.3273 - accuracy: 0.88 - ETA: 0s - loss: 0.3272 - accuracy: 0.88 - ETA: 0s - loss: 0.3272 - accuracy: 0.88 - ETA: 0s - loss: 0.3272 - accuracy: 0.88 - ETA: 0s - loss: 0.3277 - accuracy: 0.88 - 7s 4ms/step - loss: 0.3276 - accuracy: 0.8808 - val_loss: 0.3758 - val_accuracy: 0.8610\n",
      "Epoch 4/10\n"
     ]
    },
    {
     "name": "stdout",
     "output_type": "stream",
     "text": [
      "1875/1875 [==============================] - ETA: 0s - loss: 0.1634 - accuracy: 1.00 - ETA: 5s - loss: 0.3353 - accuracy: 0.87 - ETA: 5s - loss: 0.2960 - accuracy: 0.88 - ETA: 4s - loss: 0.3018 - accuracy: 0.88 - ETA: 4s - loss: 0.3072 - accuracy: 0.88 - ETA: 4s - loss: 0.2931 - accuracy: 0.88 - ETA: 4s - loss: 0.2987 - accuracy: 0.88 - ETA: 4s - loss: 0.2988 - accuracy: 0.88 - ETA: 4s - loss: 0.2972 - accuracy: 0.88 - ETA: 4s - loss: 0.2976 - accuracy: 0.88 - ETA: 4s - loss: 0.2968 - accuracy: 0.88 - ETA: 4s - loss: 0.2962 - accuracy: 0.88 - ETA: 4s - loss: 0.2992 - accuracy: 0.88 - ETA: 4s - loss: 0.3010 - accuracy: 0.88 - ETA: 4s - loss: 0.3048 - accuracy: 0.88 - ETA: 4s - loss: 0.3010 - accuracy: 0.88 - ETA: 4s - loss: 0.3013 - accuracy: 0.88 - ETA: 4s - loss: 0.3062 - accuracy: 0.88 - ETA: 4s - loss: 0.3051 - accuracy: 0.88 - ETA: 4s - loss: 0.3049 - accuracy: 0.88 - ETA: 4s - loss: 0.3086 - accuracy: 0.88 - ETA: 4s - loss: 0.3064 - accuracy: 0.88 - ETA: 4s - loss: 0.3070 - accuracy: 0.88 - ETA: 4s - loss: 0.3077 - accuracy: 0.88 - ETA: 4s - loss: 0.3078 - accuracy: 0.88 - ETA: 4s - loss: 0.3071 - accuracy: 0.88 - ETA: 4s - loss: 0.3076 - accuracy: 0.88 - ETA: 4s - loss: 0.3079 - accuracy: 0.88 - ETA: 4s - loss: 0.3083 - accuracy: 0.88 - ETA: 4s - loss: 0.3076 - accuracy: 0.88 - ETA: 4s - loss: 0.3066 - accuracy: 0.88 - ETA: 4s - loss: 0.3068 - accuracy: 0.88 - ETA: 4s - loss: 0.3072 - accuracy: 0.88 - ETA: 4s - loss: 0.3083 - accuracy: 0.88 - ETA: 4s - loss: 0.3082 - accuracy: 0.88 - ETA: 4s - loss: 0.3083 - accuracy: 0.88 - ETA: 4s - loss: 0.3082 - accuracy: 0.88 - ETA: 5s - loss: 0.3084 - accuracy: 0.88 - ETA: 5s - loss: 0.3095 - accuracy: 0.88 - ETA: 5s - loss: 0.3103 - accuracy: 0.88 - ETA: 5s - loss: 0.3103 - accuracy: 0.88 - ETA: 5s - loss: 0.3103 - accuracy: 0.88 - ETA: 5s - loss: 0.3100 - accuracy: 0.88 - ETA: 5s - loss: 0.3096 - accuracy: 0.88 - ETA: 5s - loss: 0.3083 - accuracy: 0.88 - ETA: 5s - loss: 0.3082 - accuracy: 0.88 - ETA: 5s - loss: 0.3079 - accuracy: 0.88 - ETA: 5s - loss: 0.3074 - accuracy: 0.88 - ETA: 5s - loss: 0.3067 - accuracy: 0.88 - ETA: 5s - loss: 0.3064 - accuracy: 0.88 - ETA: 5s - loss: 0.3082 - accuracy: 0.88 - ETA: 5s - loss: 0.3073 - accuracy: 0.88 - ETA: 5s - loss: 0.3062 - accuracy: 0.88 - ETA: 5s - loss: 0.3061 - accuracy: 0.88 - ETA: 5s - loss: 0.3069 - accuracy: 0.88 - ETA: 5s - loss: 0.3067 - accuracy: 0.88 - ETA: 5s - loss: 0.3069 - accuracy: 0.88 - ETA: 5s - loss: 0.3066 - accuracy: 0.88 - ETA: 5s - loss: 0.3064 - accuracy: 0.88 - ETA: 5s - loss: 0.3058 - accuracy: 0.88 - ETA: 5s - loss: 0.3049 - accuracy: 0.88 - ETA: 5s - loss: 0.3046 - accuracy: 0.88 - ETA: 5s - loss: 0.3057 - accuracy: 0.88 - ETA: 5s - loss: 0.3058 - accuracy: 0.88 - ETA: 5s - loss: 0.3057 - accuracy: 0.88 - ETA: 5s - loss: 0.3055 - accuracy: 0.88 - ETA: 5s - loss: 0.3053 - accuracy: 0.88 - ETA: 5s - loss: 0.3054 - accuracy: 0.88 - ETA: 5s - loss: 0.3063 - accuracy: 0.88 - ETA: 5s - loss: 0.3060 - accuracy: 0.88 - ETA: 5s - loss: 0.3060 - accuracy: 0.88 - ETA: 5s - loss: 0.3058 - accuracy: 0.88 - ETA: 5s - loss: 0.3056 - accuracy: 0.88 - ETA: 5s - loss: 0.3053 - accuracy: 0.88 - ETA: 5s - loss: 0.3054 - accuracy: 0.88 - ETA: 5s - loss: 0.3053 - accuracy: 0.88 - ETA: 5s - loss: 0.3052 - accuracy: 0.88 - ETA: 5s - loss: 0.3044 - accuracy: 0.88 - ETA: 5s - loss: 0.3037 - accuracy: 0.88 - ETA: 5s - loss: 0.3041 - accuracy: 0.88 - ETA: 5s - loss: 0.3032 - accuracy: 0.88 - ETA: 5s - loss: 0.3034 - accuracy: 0.88 - ETA: 5s - loss: 0.3033 - accuracy: 0.88 - ETA: 5s - loss: 0.3029 - accuracy: 0.88 - ETA: 5s - loss: 0.3027 - accuracy: 0.88 - ETA: 5s - loss: 0.3025 - accuracy: 0.88 - ETA: 5s - loss: 0.3029 - accuracy: 0.88 - ETA: 5s - loss: 0.3026 - accuracy: 0.88 - ETA: 5s - loss: 0.3026 - accuracy: 0.88 - ETA: 5s - loss: 0.3022 - accuracy: 0.88 - ETA: 4s - loss: 0.3022 - accuracy: 0.88 - ETA: 4s - loss: 0.3016 - accuracy: 0.88 - ETA: 4s - loss: 0.3015 - accuracy: 0.88 - ETA: 4s - loss: 0.3009 - accuracy: 0.88 - ETA: 4s - loss: 0.3011 - accuracy: 0.88 - ETA: 4s - loss: 0.3013 - accuracy: 0.88 - ETA: 4s - loss: 0.3006 - accuracy: 0.88 - ETA: 4s - loss: 0.3009 - accuracy: 0.88 - ETA: 3s - loss: 0.3011 - accuracy: 0.88 - ETA: 3s - loss: 0.3006 - accuracy: 0.88 - ETA: 3s - loss: 0.3010 - accuracy: 0.88 - ETA: 3s - loss: 0.3007 - accuracy: 0.88 - ETA: 3s - loss: 0.3008 - accuracy: 0.88 - ETA: 3s - loss: 0.3010 - accuracy: 0.88 - ETA: 3s - loss: 0.3008 - accuracy: 0.88 - ETA: 3s - loss: 0.3004 - accuracy: 0.88 - ETA: 3s - loss: 0.3006 - accuracy: 0.88 - ETA: 3s - loss: 0.3002 - accuracy: 0.88 - ETA: 2s - loss: 0.3007 - accuracy: 0.88 - ETA: 2s - loss: 0.3007 - accuracy: 0.88 - ETA: 2s - loss: 0.3019 - accuracy: 0.88 - ETA: 2s - loss: 0.3016 - accuracy: 0.88 - ETA: 2s - loss: 0.3013 - accuracy: 0.88 - ETA: 2s - loss: 0.3011 - accuracy: 0.88 - ETA: 2s - loss: 0.3015 - accuracy: 0.88 - ETA: 2s - loss: 0.3012 - accuracy: 0.88 - ETA: 2s - loss: 0.3011 - accuracy: 0.88 - ETA: 2s - loss: 0.3018 - accuracy: 0.88 - ETA: 2s - loss: 0.3021 - accuracy: 0.88 - ETA: 1s - loss: 0.3020 - accuracy: 0.88 - ETA: 1s - loss: 0.3014 - accuracy: 0.88 - ETA: 1s - loss: 0.3011 - accuracy: 0.88 - ETA: 1s - loss: 0.3018 - accuracy: 0.88 - ETA: 1s - loss: 0.3021 - accuracy: 0.88 - ETA: 1s - loss: 0.3025 - accuracy: 0.88 - ETA: 1s - loss: 0.3025 - accuracy: 0.88 - ETA: 1s - loss: 0.3024 - accuracy: 0.88 - ETA: 1s - loss: 0.3021 - accuracy: 0.88 - ETA: 1s - loss: 0.3018 - accuracy: 0.88 - ETA: 1s - loss: 0.3019 - accuracy: 0.88 - ETA: 1s - loss: 0.3015 - accuracy: 0.88 - ETA: 0s - loss: 0.3012 - accuracy: 0.88 - ETA: 0s - loss: 0.3013 - accuracy: 0.88 - ETA: 0s - loss: 0.3008 - accuracy: 0.88 - ETA: 0s - loss: 0.3008 - accuracy: 0.88 - ETA: 0s - loss: 0.3016 - accuracy: 0.88 - ETA: 0s - loss: 0.3019 - accuracy: 0.88 - ETA: 0s - loss: 0.3019 - accuracy: 0.88 - ETA: 0s - loss: 0.3017 - accuracy: 0.88 - ETA: 0s - loss: 0.3018 - accuracy: 0.88 - ETA: 0s - loss: 0.3020 - accuracy: 0.88 - ETA: 0s - loss: 0.3025 - accuracy: 0.88 - ETA: 0s - loss: 0.3026 - accuracy: 0.88 - ETA: 0s - loss: 0.3029 - accuracy: 0.88 - ETA: 0s - loss: 0.3029 - accuracy: 0.88 - 8s 4ms/step - loss: 0.3030 - accuracy: 0.8885 - val_loss: 0.3552 - val_accuracy: 0.8753\n",
      "Epoch 5/10\n"
     ]
    },
    {
     "name": "stdout",
     "output_type": "stream",
     "text": [
      "1875/1875 [==============================] - ETA: 0s - loss: 0.3255 - accuracy: 0.87 - ETA: 5s - loss: 0.2395 - accuracy: 0.90 - ETA: 5s - loss: 0.2393 - accuracy: 0.90 - ETA: 5s - loss: 0.2448 - accuracy: 0.90 - ETA: 5s - loss: 0.2575 - accuracy: 0.90 - ETA: 5s - loss: 0.2635 - accuracy: 0.90 - ETA: 5s - loss: 0.2595 - accuracy: 0.90 - ETA: 5s - loss: 0.2675 - accuracy: 0.90 - ETA: 4s - loss: 0.2679 - accuracy: 0.90 - ETA: 4s - loss: 0.2734 - accuracy: 0.89 - ETA: 4s - loss: 0.2792 - accuracy: 0.89 - ETA: 4s - loss: 0.2774 - accuracy: 0.89 - ETA: 4s - loss: 0.2762 - accuracy: 0.89 - ETA: 4s - loss: 0.2775 - accuracy: 0.89 - ETA: 4s - loss: 0.2793 - accuracy: 0.89 - ETA: 4s - loss: 0.2784 - accuracy: 0.89 - ETA: 4s - loss: 0.2794 - accuracy: 0.89 - ETA: 4s - loss: 0.2815 - accuracy: 0.89 - ETA: 4s - loss: 0.2826 - accuracy: 0.89 - ETA: 4s - loss: 0.2838 - accuracy: 0.89 - ETA: 4s - loss: 0.2826 - accuracy: 0.89 - ETA: 4s - loss: 0.2818 - accuracy: 0.89 - ETA: 4s - loss: 0.2814 - accuracy: 0.89 - ETA: 4s - loss: 0.2802 - accuracy: 0.89 - ETA: 4s - loss: 0.2793 - accuracy: 0.89 - ETA: 4s - loss: 0.2790 - accuracy: 0.89 - ETA: 4s - loss: 0.2792 - accuracy: 0.89 - ETA: 4s - loss: 0.2788 - accuracy: 0.89 - ETA: 3s - loss: 0.2803 - accuracy: 0.89 - ETA: 3s - loss: 0.2799 - accuracy: 0.89 - ETA: 3s - loss: 0.2808 - accuracy: 0.89 - ETA: 3s - loss: 0.2808 - accuracy: 0.89 - ETA: 3s - loss: 0.2807 - accuracy: 0.89 - ETA: 3s - loss: 0.2808 - accuracy: 0.89 - ETA: 3s - loss: 0.2805 - accuracy: 0.89 - ETA: 3s - loss: 0.2812 - accuracy: 0.89 - ETA: 3s - loss: 0.2802 - accuracy: 0.89 - ETA: 3s - loss: 0.2803 - accuracy: 0.89 - ETA: 3s - loss: 0.2814 - accuracy: 0.89 - ETA: 3s - loss: 0.2821 - accuracy: 0.89 - ETA: 3s - loss: 0.2817 - accuracy: 0.89 - ETA: 3s - loss: 0.2812 - accuracy: 0.89 - ETA: 3s - loss: 0.2804 - accuracy: 0.89 - ETA: 3s - loss: 0.2807 - accuracy: 0.89 - ETA: 3s - loss: 0.2809 - accuracy: 0.89 - ETA: 3s - loss: 0.2818 - accuracy: 0.89 - ETA: 3s - loss: 0.2826 - accuracy: 0.89 - ETA: 2s - loss: 0.2828 - accuracy: 0.89 - ETA: 2s - loss: 0.2826 - accuracy: 0.89 - ETA: 2s - loss: 0.2828 - accuracy: 0.89 - ETA: 2s - loss: 0.2821 - accuracy: 0.89 - ETA: 2s - loss: 0.2823 - accuracy: 0.89 - ETA: 2s - loss: 0.2824 - accuracy: 0.89 - ETA: 2s - loss: 0.2818 - accuracy: 0.89 - ETA: 2s - loss: 0.2814 - accuracy: 0.89 - ETA: 2s - loss: 0.2816 - accuracy: 0.89 - ETA: 2s - loss: 0.2817 - accuracy: 0.89 - ETA: 2s - loss: 0.2815 - accuracy: 0.89 - ETA: 2s - loss: 0.2815 - accuracy: 0.89 - ETA: 2s - loss: 0.2820 - accuracy: 0.89 - ETA: 2s - loss: 0.2816 - accuracy: 0.89 - ETA: 2s - loss: 0.2820 - accuracy: 0.89 - ETA: 2s - loss: 0.2818 - accuracy: 0.89 - ETA: 2s - loss: 0.2821 - accuracy: 0.89 - ETA: 2s - loss: 0.2819 - accuracy: 0.89 - ETA: 2s - loss: 0.2823 - accuracy: 0.89 - ETA: 1s - loss: 0.2814 - accuracy: 0.89 - ETA: 1s - loss: 0.2816 - accuracy: 0.89 - ETA: 1s - loss: 0.2811 - accuracy: 0.89 - ETA: 1s - loss: 0.2812 - accuracy: 0.89 - ETA: 1s - loss: 0.2809 - accuracy: 0.89 - ETA: 1s - loss: 0.2807 - accuracy: 0.89 - ETA: 1s - loss: 0.2812 - accuracy: 0.89 - ETA: 1s - loss: 0.2818 - accuracy: 0.89 - ETA: 1s - loss: 0.2818 - accuracy: 0.89 - ETA: 1s - loss: 0.2818 - accuracy: 0.89 - ETA: 1s - loss: 0.2814 - accuracy: 0.89 - ETA: 1s - loss: 0.2812 - accuracy: 0.89 - ETA: 1s - loss: 0.2817 - accuracy: 0.89 - ETA: 1s - loss: 0.2816 - accuracy: 0.89 - ETA: 1s - loss: 0.2819 - accuracy: 0.89 - ETA: 1s - loss: 0.2828 - accuracy: 0.89 - ETA: 1s - loss: 0.2825 - accuracy: 0.89 - ETA: 1s - loss: 0.2823 - accuracy: 0.89 - ETA: 1s - loss: 0.2824 - accuracy: 0.89 - ETA: 0s - loss: 0.2826 - accuracy: 0.89 - ETA: 0s - loss: 0.2824 - accuracy: 0.89 - ETA: 0s - loss: 0.2819 - accuracy: 0.89 - ETA: 0s - loss: 0.2821 - accuracy: 0.89 - ETA: 0s - loss: 0.2824 - accuracy: 0.89 - ETA: 0s - loss: 0.2826 - accuracy: 0.89 - ETA: 0s - loss: 0.2822 - accuracy: 0.89 - ETA: 0s - loss: 0.2821 - accuracy: 0.89 - ETA: 0s - loss: 0.2827 - accuracy: 0.89 - ETA: 0s - loss: 0.2832 - accuracy: 0.89 - ETA: 0s - loss: 0.2833 - accuracy: 0.89 - ETA: 0s - loss: 0.2831 - accuracy: 0.89 - ETA: 0s - loss: 0.2829 - accuracy: 0.89 - ETA: 0s - loss: 0.2830 - accuracy: 0.89 - ETA: 0s - loss: 0.2834 - accuracy: 0.89 - ETA: 0s - loss: 0.2833 - accuracy: 0.89 - ETA: 0s - loss: 0.2835 - accuracy: 0.89 - ETA: 0s - loss: 0.2839 - accuracy: 0.89 - ETA: 0s - loss: 0.2840 - accuracy: 0.89 - ETA: 0s - loss: 0.2838 - accuracy: 0.89 - 6s 3ms/step - loss: 0.2839 - accuracy: 0.8946 - val_loss: 0.3480 - val_accuracy: 0.8760\n",
      "Epoch 6/10\n"
     ]
    },
    {
     "name": "stdout",
     "output_type": "stream",
     "text": [
      "1875/1875 [==============================] - ETA: 0s - loss: 0.3603 - accuracy: 0.87 - ETA: 4s - loss: 0.2955 - accuracy: 0.89 - ETA: 4s - loss: 0.3045 - accuracy: 0.89 - ETA: 4s - loss: 0.2807 - accuracy: 0.89 - ETA: 5s - loss: 0.2741 - accuracy: 0.89 - ETA: 4s - loss: 0.2743 - accuracy: 0.89 - ETA: 4s - loss: 0.2700 - accuracy: 0.89 - ETA: 4s - loss: 0.2780 - accuracy: 0.89 - ETA: 4s - loss: 0.2717 - accuracy: 0.89 - ETA: 4s - loss: 0.2693 - accuracy: 0.89 - ETA: 4s - loss: 0.2695 - accuracy: 0.89 - ETA: 4s - loss: 0.2643 - accuracy: 0.89 - ETA: 4s - loss: 0.2619 - accuracy: 0.89 - ETA: 4s - loss: 0.2685 - accuracy: 0.89 - ETA: 4s - loss: 0.2688 - accuracy: 0.89 - ETA: 4s - loss: 0.2693 - accuracy: 0.89 - ETA: 4s - loss: 0.2730 - accuracy: 0.89 - ETA: 4s - loss: 0.2739 - accuracy: 0.89 - ETA: 4s - loss: 0.2734 - accuracy: 0.89 - ETA: 4s - loss: 0.2731 - accuracy: 0.89 - ETA: 4s - loss: 0.2735 - accuracy: 0.89 - ETA: 4s - loss: 0.2731 - accuracy: 0.89 - ETA: 4s - loss: 0.2725 - accuracy: 0.89 - ETA: 4s - loss: 0.2729 - accuracy: 0.89 - ETA: 4s - loss: 0.2741 - accuracy: 0.89 - ETA: 3s - loss: 0.2735 - accuracy: 0.89 - ETA: 3s - loss: 0.2733 - accuracy: 0.89 - ETA: 3s - loss: 0.2737 - accuracy: 0.89 - ETA: 3s - loss: 0.2747 - accuracy: 0.89 - ETA: 3s - loss: 0.2737 - accuracy: 0.89 - ETA: 3s - loss: 0.2726 - accuracy: 0.89 - ETA: 3s - loss: 0.2711 - accuracy: 0.89 - ETA: 3s - loss: 0.2714 - accuracy: 0.89 - ETA: 3s - loss: 0.2709 - accuracy: 0.89 - ETA: 3s - loss: 0.2712 - accuracy: 0.89 - ETA: 3s - loss: 0.2720 - accuracy: 0.89 - ETA: 3s - loss: 0.2711 - accuracy: 0.89 - ETA: 3s - loss: 0.2723 - accuracy: 0.89 - ETA: 3s - loss: 0.2723 - accuracy: 0.89 - ETA: 3s - loss: 0.2708 - accuracy: 0.89 - ETA: 3s - loss: 0.2711 - accuracy: 0.89 - ETA: 3s - loss: 0.2722 - accuracy: 0.89 - ETA: 3s - loss: 0.2714 - accuracy: 0.89 - ETA: 3s - loss: 0.2717 - accuracy: 0.89 - ETA: 3s - loss: 0.2717 - accuracy: 0.89 - ETA: 3s - loss: 0.2718 - accuracy: 0.89 - ETA: 2s - loss: 0.2717 - accuracy: 0.89 - ETA: 2s - loss: 0.2721 - accuracy: 0.89 - ETA: 2s - loss: 0.2721 - accuracy: 0.89 - ETA: 2s - loss: 0.2725 - accuracy: 0.89 - ETA: 2s - loss: 0.2724 - accuracy: 0.89 - ETA: 2s - loss: 0.2727 - accuracy: 0.89 - ETA: 2s - loss: 0.2726 - accuracy: 0.89 - ETA: 2s - loss: 0.2732 - accuracy: 0.89 - ETA: 2s - loss: 0.2734 - accuracy: 0.89 - ETA: 2s - loss: 0.2731 - accuracy: 0.89 - ETA: 2s - loss: 0.2732 - accuracy: 0.89 - ETA: 2s - loss: 0.2733 - accuracy: 0.89 - ETA: 2s - loss: 0.2736 - accuracy: 0.89 - ETA: 2s - loss: 0.2735 - accuracy: 0.89 - ETA: 2s - loss: 0.2735 - accuracy: 0.89 - ETA: 2s - loss: 0.2735 - accuracy: 0.89 - ETA: 2s - loss: 0.2728 - accuracy: 0.89 - ETA: 2s - loss: 0.2721 - accuracy: 0.89 - ETA: 2s - loss: 0.2721 - accuracy: 0.89 - ETA: 2s - loss: 0.2718 - accuracy: 0.89 - ETA: 2s - loss: 0.2712 - accuracy: 0.89 - ETA: 2s - loss: 0.2712 - accuracy: 0.89 - ETA: 2s - loss: 0.2707 - accuracy: 0.89 - ETA: 2s - loss: 0.2703 - accuracy: 0.89 - ETA: 2s - loss: 0.2705 - accuracy: 0.89 - ETA: 2s - loss: 0.2704 - accuracy: 0.89 - ETA: 2s - loss: 0.2707 - accuracy: 0.89 - ETA: 2s - loss: 0.2703 - accuracy: 0.89 - ETA: 2s - loss: 0.2703 - accuracy: 0.89 - ETA: 2s - loss: 0.2702 - accuracy: 0.89 - ETA: 2s - loss: 0.2703 - accuracy: 0.89 - ETA: 2s - loss: 0.2703 - accuracy: 0.89 - ETA: 2s - loss: 0.2711 - accuracy: 0.89 - ETA: 2s - loss: 0.2716 - accuracy: 0.89 - ETA: 2s - loss: 0.2708 - accuracy: 0.89 - ETA: 2s - loss: 0.2709 - accuracy: 0.89 - ETA: 2s - loss: 0.2707 - accuracy: 0.89 - ETA: 2s - loss: 0.2711 - accuracy: 0.89 - ETA: 2s - loss: 0.2707 - accuracy: 0.89 - ETA: 1s - loss: 0.2703 - accuracy: 0.89 - ETA: 1s - loss: 0.2702 - accuracy: 0.89 - ETA: 1s - loss: 0.2696 - accuracy: 0.89 - ETA: 1s - loss: 0.2697 - accuracy: 0.89 - ETA: 1s - loss: 0.2690 - accuracy: 0.89 - ETA: 1s - loss: 0.2694 - accuracy: 0.89 - ETA: 1s - loss: 0.2702 - accuracy: 0.89 - ETA: 1s - loss: 0.2706 - accuracy: 0.89 - ETA: 1s - loss: 0.2706 - accuracy: 0.89 - ETA: 1s - loss: 0.2707 - accuracy: 0.89 - ETA: 1s - loss: 0.2703 - accuracy: 0.89 - ETA: 1s - loss: 0.2706 - accuracy: 0.89 - ETA: 1s - loss: 0.2707 - accuracy: 0.89 - ETA: 1s - loss: 0.2709 - accuracy: 0.89 - ETA: 1s - loss: 0.2709 - accuracy: 0.89 - ETA: 0s - loss: 0.2709 - accuracy: 0.89 - ETA: 0s - loss: 0.2709 - accuracy: 0.89 - ETA: 0s - loss: 0.2708 - accuracy: 0.89 - ETA: 0s - loss: 0.2712 - accuracy: 0.89 - ETA: 0s - loss: 0.2709 - accuracy: 0.89 - ETA: 0s - loss: 0.2709 - accuracy: 0.89 - ETA: 0s - loss: 0.2708 - accuracy: 0.89 - ETA: 0s - loss: 0.2708 - accuracy: 0.89 - ETA: 0s - loss: 0.2707 - accuracy: 0.89 - ETA: 0s - loss: 0.2707 - accuracy: 0.89 - ETA: 0s - loss: 0.2706 - accuracy: 0.89 - ETA: 0s - loss: 0.2704 - accuracy: 0.89 - ETA: 0s - loss: 0.2703 - accuracy: 0.89 - ETA: 0s - loss: 0.2702 - accuracy: 0.89 - ETA: 0s - loss: 0.2702 - accuracy: 0.89 - ETA: 0s - loss: 0.2696 - accuracy: 0.89 - ETA: 0s - loss: 0.2696 - accuracy: 0.89 - 6s 3ms/step - loss: 0.2695 - accuracy: 0.8992 - val_loss: 0.3350 - val_accuracy: 0.8804\n",
      "Epoch 7/10\n"
     ]
    },
    {
     "name": "stdout",
     "output_type": "stream",
     "text": [
      "1875/1875 [==============================] - ETA: 0s - loss: 0.1605 - accuracy: 0.93 - ETA: 4s - loss: 0.2402 - accuracy: 0.91 - ETA: 5s - loss: 0.2327 - accuracy: 0.91 - ETA: 4s - loss: 0.2420 - accuracy: 0.91 - ETA: 4s - loss: 0.2326 - accuracy: 0.91 - ETA: 4s - loss: 0.2375 - accuracy: 0.91 - ETA: 4s - loss: 0.2432 - accuracy: 0.90 - ETA: 4s - loss: 0.2452 - accuracy: 0.90 - ETA: 4s - loss: 0.2483 - accuracy: 0.90 - ETA: 4s - loss: 0.2497 - accuracy: 0.90 - ETA: 4s - loss: 0.2519 - accuracy: 0.90 - ETA: 4s - loss: 0.2481 - accuracy: 0.90 - ETA: 4s - loss: 0.2455 - accuracy: 0.90 - ETA: 4s - loss: 0.2469 - accuracy: 0.90 - ETA: 4s - loss: 0.2463 - accuracy: 0.90 - ETA: 4s - loss: 0.2452 - accuracy: 0.90 - ETA: 4s - loss: 0.2460 - accuracy: 0.90 - ETA: 4s - loss: 0.2484 - accuracy: 0.90 - ETA: 4s - loss: 0.2480 - accuracy: 0.90 - ETA: 4s - loss: 0.2481 - accuracy: 0.90 - ETA: 4s - loss: 0.2479 - accuracy: 0.90 - ETA: 4s - loss: 0.2480 - accuracy: 0.90 - ETA: 4s - loss: 0.2476 - accuracy: 0.90 - ETA: 4s - loss: 0.2474 - accuracy: 0.90 - ETA: 4s - loss: 0.2481 - accuracy: 0.90 - ETA: 4s - loss: 0.2489 - accuracy: 0.90 - ETA: 4s - loss: 0.2488 - accuracy: 0.90 - ETA: 4s - loss: 0.2513 - accuracy: 0.90 - ETA: 4s - loss: 0.2492 - accuracy: 0.90 - ETA: 4s - loss: 0.2491 - accuracy: 0.90 - ETA: 4s - loss: 0.2484 - accuracy: 0.90 - ETA: 4s - loss: 0.2483 - accuracy: 0.90 - ETA: 4s - loss: 0.2480 - accuracy: 0.90 - ETA: 4s - loss: 0.2477 - accuracy: 0.90 - ETA: 4s - loss: 0.2480 - accuracy: 0.90 - ETA: 4s - loss: 0.2488 - accuracy: 0.90 - ETA: 4s - loss: 0.2497 - accuracy: 0.90 - ETA: 4s - loss: 0.2491 - accuracy: 0.90 - ETA: 4s - loss: 0.2494 - accuracy: 0.90 - ETA: 4s - loss: 0.2505 - accuracy: 0.90 - ETA: 4s - loss: 0.2506 - accuracy: 0.90 - ETA: 4s - loss: 0.2510 - accuracy: 0.90 - ETA: 4s - loss: 0.2517 - accuracy: 0.90 - ETA: 4s - loss: 0.2522 - accuracy: 0.90 - ETA: 4s - loss: 0.2528 - accuracy: 0.90 - ETA: 4s - loss: 0.2521 - accuracy: 0.90 - ETA: 4s - loss: 0.2523 - accuracy: 0.90 - ETA: 4s - loss: 0.2532 - accuracy: 0.90 - ETA: 4s - loss: 0.2534 - accuracy: 0.90 - ETA: 4s - loss: 0.2535 - accuracy: 0.90 - ETA: 4s - loss: 0.2538 - accuracy: 0.90 - ETA: 4s - loss: 0.2545 - accuracy: 0.90 - ETA: 4s - loss: 0.2543 - accuracy: 0.90 - ETA: 4s - loss: 0.2543 - accuracy: 0.90 - ETA: 4s - loss: 0.2541 - accuracy: 0.90 - ETA: 4s - loss: 0.2549 - accuracy: 0.90 - ETA: 4s - loss: 0.2555 - accuracy: 0.90 - ETA: 4s - loss: 0.2562 - accuracy: 0.90 - ETA: 4s - loss: 0.2559 - accuracy: 0.90 - ETA: 4s - loss: 0.2565 - accuracy: 0.90 - ETA: 4s - loss: 0.2562 - accuracy: 0.90 - ETA: 4s - loss: 0.2563 - accuracy: 0.90 - ETA: 4s - loss: 0.2565 - accuracy: 0.90 - ETA: 4s - loss: 0.2563 - accuracy: 0.90 - ETA: 4s - loss: 0.2568 - accuracy: 0.90 - ETA: 3s - loss: 0.2579 - accuracy: 0.90 - ETA: 3s - loss: 0.2576 - accuracy: 0.90 - ETA: 3s - loss: 0.2571 - accuracy: 0.90 - ETA: 3s - loss: 0.2577 - accuracy: 0.90 - ETA: 3s - loss: 0.2571 - accuracy: 0.90 - ETA: 3s - loss: 0.2567 - accuracy: 0.90 - ETA: 3s - loss: 0.2568 - accuracy: 0.90 - ETA: 3s - loss: 0.2566 - accuracy: 0.90 - ETA: 3s - loss: 0.2567 - accuracy: 0.90 - ETA: 3s - loss: 0.2562 - accuracy: 0.90 - ETA: 3s - loss: 0.2560 - accuracy: 0.90 - ETA: 3s - loss: 0.2558 - accuracy: 0.90 - ETA: 3s - loss: 0.2558 - accuracy: 0.90 - ETA: 3s - loss: 0.2561 - accuracy: 0.90 - ETA: 3s - loss: 0.2572 - accuracy: 0.90 - ETA: 2s - loss: 0.2575 - accuracy: 0.90 - ETA: 2s - loss: 0.2581 - accuracy: 0.90 - ETA: 2s - loss: 0.2581 - accuracy: 0.90 - ETA: 2s - loss: 0.2582 - accuracy: 0.90 - ETA: 2s - loss: 0.2580 - accuracy: 0.90 - ETA: 2s - loss: 0.2580 - accuracy: 0.90 - ETA: 2s - loss: 0.2577 - accuracy: 0.90 - ETA: 2s - loss: 0.2581 - accuracy: 0.90 - ETA: 2s - loss: 0.2589 - accuracy: 0.90 - ETA: 2s - loss: 0.2586 - accuracy: 0.90 - ETA: 2s - loss: 0.2584 - accuracy: 0.90 - ETA: 2s - loss: 0.2580 - accuracy: 0.90 - ETA: 2s - loss: 0.2580 - accuracy: 0.90 - ETA: 1s - loss: 0.2580 - accuracy: 0.90 - ETA: 1s - loss: 0.2580 - accuracy: 0.90 - ETA: 1s - loss: 0.2578 - accuracy: 0.90 - ETA: 1s - loss: 0.2573 - accuracy: 0.90 - ETA: 1s - loss: 0.2580 - accuracy: 0.90 - ETA: 1s - loss: 0.2585 - accuracy: 0.90 - ETA: 1s - loss: 0.2584 - accuracy: 0.90 - ETA: 1s - loss: 0.2581 - accuracy: 0.90 - ETA: 1s - loss: 0.2582 - accuracy: 0.90 - ETA: 1s - loss: 0.2584 - accuracy: 0.90 - ETA: 1s - loss: 0.2584 - accuracy: 0.90 - ETA: 1s - loss: 0.2581 - accuracy: 0.90 - ETA: 1s - loss: 0.2580 - accuracy: 0.90 - ETA: 1s - loss: 0.2579 - accuracy: 0.90 - ETA: 1s - loss: 0.2584 - accuracy: 0.90 - ETA: 1s - loss: 0.2584 - accuracy: 0.90 - ETA: 0s - loss: 0.2587 - accuracy: 0.90 - ETA: 0s - loss: 0.2584 - accuracy: 0.90 - ETA: 0s - loss: 0.2586 - accuracy: 0.90 - ETA: 0s - loss: 0.2589 - accuracy: 0.90 - ETA: 0s - loss: 0.2590 - accuracy: 0.90 - ETA: 0s - loss: 0.2589 - accuracy: 0.90 - ETA: 0s - loss: 0.2583 - accuracy: 0.90 - ETA: 0s - loss: 0.2584 - accuracy: 0.90 - ETA: 0s - loss: 0.2586 - accuracy: 0.90 - ETA: 0s - loss: 0.2587 - accuracy: 0.90 - ETA: 0s - loss: 0.2587 - accuracy: 0.90 - ETA: 0s - loss: 0.2588 - accuracy: 0.90 - ETA: 0s - loss: 0.2582 - accuracy: 0.90 - ETA: 0s - loss: 0.2583 - accuracy: 0.90 - ETA: 0s - loss: 0.2579 - accuracy: 0.90 - ETA: 0s - loss: 0.2578 - accuracy: 0.90 - ETA: 0s - loss: 0.2579 - accuracy: 0.90 - ETA: 0s - loss: 0.2579 - accuracy: 0.90 - 7s 4ms/step - loss: 0.2574 - accuracy: 0.9039 - val_loss: 0.3406 - val_accuracy: 0.8806\n",
      "Epoch 8/10\n"
     ]
    },
    {
     "name": "stdout",
     "output_type": "stream",
     "text": [
      "1875/1875 [==============================] - ETA: 0s - loss: 0.3743 - accuracy: 0.81 - ETA: 4s - loss: 0.2371 - accuracy: 0.90 - ETA: 4s - loss: 0.2505 - accuracy: 0.89 - ETA: 4s - loss: 0.2431 - accuracy: 0.90 - ETA: 5s - loss: 0.2421 - accuracy: 0.90 - ETA: 5s - loss: 0.2401 - accuracy: 0.90 - ETA: 5s - loss: 0.2419 - accuracy: 0.90 - ETA: 5s - loss: 0.2472 - accuracy: 0.90 - ETA: 5s - loss: 0.2507 - accuracy: 0.90 - ETA: 5s - loss: 0.2540 - accuracy: 0.90 - ETA: 5s - loss: 0.2534 - accuracy: 0.90 - ETA: 5s - loss: 0.2505 - accuracy: 0.90 - ETA: 5s - loss: 0.2477 - accuracy: 0.90 - ETA: 5s - loss: 0.2481 - accuracy: 0.90 - ETA: 5s - loss: 0.2422 - accuracy: 0.90 - ETA: 5s - loss: 0.2403 - accuracy: 0.90 - ETA: 5s - loss: 0.2403 - accuracy: 0.90 - ETA: 5s - loss: 0.2411 - accuracy: 0.90 - ETA: 5s - loss: 0.2403 - accuracy: 0.90 - ETA: 5s - loss: 0.2402 - accuracy: 0.90 - ETA: 5s - loss: 0.2409 - accuracy: 0.90 - ETA: 4s - loss: 0.2420 - accuracy: 0.90 - ETA: 5s - loss: 0.2407 - accuracy: 0.90 - ETA: 5s - loss: 0.2396 - accuracy: 0.90 - ETA: 5s - loss: 0.2398 - accuracy: 0.90 - ETA: 5s - loss: 0.2389 - accuracy: 0.90 - ETA: 5s - loss: 0.2392 - accuracy: 0.90 - ETA: 5s - loss: 0.2384 - accuracy: 0.91 - ETA: 5s - loss: 0.2395 - accuracy: 0.90 - ETA: 5s - loss: 0.2394 - accuracy: 0.90 - ETA: 5s - loss: 0.2393 - accuracy: 0.90 - ETA: 5s - loss: 0.2381 - accuracy: 0.90 - ETA: 5s - loss: 0.2371 - accuracy: 0.91 - ETA: 5s - loss: 0.2403 - accuracy: 0.90 - ETA: 5s - loss: 0.2427 - accuracy: 0.90 - ETA: 5s - loss: 0.2426 - accuracy: 0.90 - ETA: 5s - loss: 0.2422 - accuracy: 0.90 - ETA: 5s - loss: 0.2418 - accuracy: 0.90 - ETA: 4s - loss: 0.2416 - accuracy: 0.91 - ETA: 4s - loss: 0.2426 - accuracy: 0.90 - ETA: 4s - loss: 0.2438 - accuracy: 0.90 - ETA: 4s - loss: 0.2437 - accuracy: 0.90 - ETA: 4s - loss: 0.2444 - accuracy: 0.90 - ETA: 4s - loss: 0.2429 - accuracy: 0.90 - ETA: 4s - loss: 0.2421 - accuracy: 0.90 - ETA: 4s - loss: 0.2407 - accuracy: 0.90 - ETA: 4s - loss: 0.2411 - accuracy: 0.90 - ETA: 4s - loss: 0.2408 - accuracy: 0.91 - ETA: 4s - loss: 0.2417 - accuracy: 0.91 - ETA: 4s - loss: 0.2427 - accuracy: 0.90 - ETA: 3s - loss: 0.2420 - accuracy: 0.90 - ETA: 3s - loss: 0.2409 - accuracy: 0.91 - ETA: 3s - loss: 0.2398 - accuracy: 0.91 - ETA: 3s - loss: 0.2398 - accuracy: 0.91 - ETA: 3s - loss: 0.2393 - accuracy: 0.91 - ETA: 3s - loss: 0.2397 - accuracy: 0.91 - ETA: 3s - loss: 0.2395 - accuracy: 0.91 - ETA: 3s - loss: 0.2399 - accuracy: 0.91 - ETA: 3s - loss: 0.2404 - accuracy: 0.91 - ETA: 3s - loss: 0.2409 - accuracy: 0.91 - ETA: 3s - loss: 0.2424 - accuracy: 0.90 - ETA: 3s - loss: 0.2427 - accuracy: 0.91 - ETA: 3s - loss: 0.2426 - accuracy: 0.91 - ETA: 3s - loss: 0.2426 - accuracy: 0.91 - ETA: 2s - loss: 0.2417 - accuracy: 0.91 - ETA: 2s - loss: 0.2419 - accuracy: 0.91 - ETA: 2s - loss: 0.2427 - accuracy: 0.91 - ETA: 2s - loss: 0.2425 - accuracy: 0.91 - ETA: 2s - loss: 0.2431 - accuracy: 0.90 - ETA: 2s - loss: 0.2428 - accuracy: 0.91 - ETA: 2s - loss: 0.2430 - accuracy: 0.90 - ETA: 2s - loss: 0.2432 - accuracy: 0.90 - ETA: 2s - loss: 0.2431 - accuracy: 0.90 - ETA: 2s - loss: 0.2434 - accuracy: 0.90 - ETA: 2s - loss: 0.2429 - accuracy: 0.90 - ETA: 2s - loss: 0.2439 - accuracy: 0.90 - ETA: 2s - loss: 0.2441 - accuracy: 0.90 - ETA: 2s - loss: 0.2445 - accuracy: 0.90 - ETA: 2s - loss: 0.2451 - accuracy: 0.90 - ETA: 1s - loss: 0.2450 - accuracy: 0.90 - ETA: 1s - loss: 0.2452 - accuracy: 0.90 - ETA: 1s - loss: 0.2455 - accuracy: 0.90 - ETA: 1s - loss: 0.2455 - accuracy: 0.90 - ETA: 1s - loss: 0.2454 - accuracy: 0.90 - ETA: 1s - loss: 0.2458 - accuracy: 0.90 - ETA: 1s - loss: 0.2460 - accuracy: 0.90 - ETA: 1s - loss: 0.2461 - accuracy: 0.90 - ETA: 1s - loss: 0.2467 - accuracy: 0.90 - ETA: 1s - loss: 0.2466 - accuracy: 0.90 - ETA: 1s - loss: 0.2465 - accuracy: 0.90 - ETA: 1s - loss: 0.2466 - accuracy: 0.90 - ETA: 1s - loss: 0.2467 - accuracy: 0.90 - ETA: 1s - loss: 0.2466 - accuracy: 0.90 - ETA: 1s - loss: 0.2463 - accuracy: 0.90 - ETA: 1s - loss: 0.2462 - accuracy: 0.90 - ETA: 1s - loss: 0.2457 - accuracy: 0.90 - ETA: 1s - loss: 0.2455 - accuracy: 0.90 - ETA: 1s - loss: 0.2454 - accuracy: 0.90 - ETA: 1s - loss: 0.2460 - accuracy: 0.90 - ETA: 1s - loss: 0.2463 - accuracy: 0.90 - ETA: 1s - loss: 0.2463 - accuracy: 0.90 - ETA: 1s - loss: 0.2463 - accuracy: 0.90 - ETA: 1s - loss: 0.2468 - accuracy: 0.90 - ETA: 1s - loss: 0.2466 - accuracy: 0.90 - ETA: 1s - loss: 0.2466 - accuracy: 0.90 - ETA: 0s - loss: 0.2466 - accuracy: 0.90 - ETA: 0s - loss: 0.2466 - accuracy: 0.90 - ETA: 0s - loss: 0.2468 - accuracy: 0.90 - ETA: 0s - loss: 0.2468 - accuracy: 0.90 - ETA: 0s - loss: 0.2470 - accuracy: 0.90 - ETA: 0s - loss: 0.2472 - accuracy: 0.90 - ETA: 0s - loss: 0.2475 - accuracy: 0.90 - ETA: 0s - loss: 0.2473 - accuracy: 0.90 - ETA: 0s - loss: 0.2470 - accuracy: 0.90 - ETA: 0s - loss: 0.2469 - accuracy: 0.90 - ETA: 0s - loss: 0.2472 - accuracy: 0.90 - ETA: 0s - loss: 0.2473 - accuracy: 0.90 - ETA: 0s - loss: 0.2473 - accuracy: 0.90 - ETA: 0s - loss: 0.2470 - accuracy: 0.90 - ETA: 0s - loss: 0.2470 - accuracy: 0.90 - ETA: 0s - loss: 0.2471 - accuracy: 0.90 - ETA: 0s - loss: 0.2475 - accuracy: 0.90 - ETA: 0s - loss: 0.2479 - accuracy: 0.90 - ETA: 0s - loss: 0.2477 - accuracy: 0.90 - ETA: 0s - loss: 0.2478 - accuracy: 0.90 - ETA: 0s - loss: 0.2475 - accuracy: 0.90 - 7s 4ms/step - loss: 0.2475 - accuracy: 0.9081 - val_loss: 0.3300 - val_accuracy: 0.8851\n",
      "Epoch 9/10\n"
     ]
    },
    {
     "name": "stdout",
     "output_type": "stream",
     "text": [
      "1875/1875 [==============================] - ETA: 0s - loss: 0.3520 - accuracy: 0.87 - ETA: 9s - loss: 0.2387 - accuracy: 0.90 - ETA: 17s - loss: 0.2302 - accuracy: 0.906 - ETA: 17s - loss: 0.2660 - accuracy: 0.895 - ETA: 15s - loss: 0.2552 - accuracy: 0.906 - ETA: 12s - loss: 0.2494 - accuracy: 0.909 - ETA: 12s - loss: 0.2445 - accuracy: 0.913 - ETA: 11s - loss: 0.2349 - accuracy: 0.916 - ETA: 11s - loss: 0.2382 - accuracy: 0.914 - ETA: 11s - loss: 0.2405 - accuracy: 0.913 - ETA: 10s - loss: 0.2381 - accuracy: 0.914 - ETA: 9s - loss: 0.2382 - accuracy: 0.913 - ETA: 9s - loss: 0.2344 - accuracy: 0.91 - ETA: 9s - loss: 0.2331 - accuracy: 0.91 - ETA: 9s - loss: 0.2315 - accuracy: 0.91 - ETA: 9s - loss: 0.2310 - accuracy: 0.91 - ETA: 9s - loss: 0.2287 - accuracy: 0.91 - ETA: 9s - loss: 0.2289 - accuracy: 0.91 - ETA: 9s - loss: 0.2289 - accuracy: 0.91 - ETA: 9s - loss: 0.2314 - accuracy: 0.91 - ETA: 9s - loss: 0.2308 - accuracy: 0.91 - ETA: 9s - loss: 0.2318 - accuracy: 0.91 - ETA: 9s - loss: 0.2312 - accuracy: 0.91 - ETA: 9s - loss: 0.2309 - accuracy: 0.91 - ETA: 9s - loss: 0.2303 - accuracy: 0.91 - ETA: 9s - loss: 0.2302 - accuracy: 0.91 - ETA: 9s - loss: 0.2319 - accuracy: 0.91 - ETA: 9s - loss: 0.2325 - accuracy: 0.91 - ETA: 9s - loss: 0.2321 - accuracy: 0.91 - ETA: 9s - loss: 0.2318 - accuracy: 0.91 - ETA: 8s - loss: 0.2314 - accuracy: 0.91 - ETA: 8s - loss: 0.2322 - accuracy: 0.91 - ETA: 8s - loss: 0.2344 - accuracy: 0.91 - ETA: 8s - loss: 0.2349 - accuracy: 0.91 - ETA: 7s - loss: 0.2362 - accuracy: 0.91 - ETA: 7s - loss: 0.2384 - accuracy: 0.90 - ETA: 7s - loss: 0.2395 - accuracy: 0.90 - ETA: 7s - loss: 0.2376 - accuracy: 0.91 - ETA: 7s - loss: 0.2382 - accuracy: 0.91 - ETA: 6s - loss: 0.2365 - accuracy: 0.91 - ETA: 6s - loss: 0.2359 - accuracy: 0.91 - ETA: 6s - loss: 0.2360 - accuracy: 0.90 - ETA: 6s - loss: 0.2378 - accuracy: 0.90 - ETA: 6s - loss: 0.2374 - accuracy: 0.90 - ETA: 6s - loss: 0.2372 - accuracy: 0.90 - ETA: 6s - loss: 0.2364 - accuracy: 0.90 - ETA: 6s - loss: 0.2364 - accuracy: 0.90 - ETA: 5s - loss: 0.2351 - accuracy: 0.90 - ETA: 5s - loss: 0.2369 - accuracy: 0.90 - ETA: 5s - loss: 0.2380 - accuracy: 0.90 - ETA: 5s - loss: 0.2385 - accuracy: 0.90 - ETA: 5s - loss: 0.2381 - accuracy: 0.90 - ETA: 5s - loss: 0.2376 - accuracy: 0.90 - ETA: 5s - loss: 0.2394 - accuracy: 0.90 - ETA: 5s - loss: 0.2393 - accuracy: 0.90 - ETA: 4s - loss: 0.2408 - accuracy: 0.90 - ETA: 4s - loss: 0.2407 - accuracy: 0.90 - ETA: 4s - loss: 0.2395 - accuracy: 0.90 - ETA: 4s - loss: 0.2392 - accuracy: 0.90 - ETA: 4s - loss: 0.2394 - accuracy: 0.90 - ETA: 4s - loss: 0.2397 - accuracy: 0.90 - ETA: 4s - loss: 0.2382 - accuracy: 0.90 - ETA: 4s - loss: 0.2386 - accuracy: 0.90 - ETA: 4s - loss: 0.2380 - accuracy: 0.90 - ETA: 4s - loss: 0.2376 - accuracy: 0.90 - ETA: 3s - loss: 0.2367 - accuracy: 0.90 - ETA: 3s - loss: 0.2361 - accuracy: 0.90 - ETA: 3s - loss: 0.2369 - accuracy: 0.90 - ETA: 3s - loss: 0.2372 - accuracy: 0.90 - ETA: 3s - loss: 0.2368 - accuracy: 0.90 - ETA: 3s - loss: 0.2369 - accuracy: 0.90 - ETA: 3s - loss: 0.2374 - accuracy: 0.90 - ETA: 3s - loss: 0.2382 - accuracy: 0.90 - ETA: 3s - loss: 0.2377 - accuracy: 0.90 - ETA: 3s - loss: 0.2384 - accuracy: 0.90 - ETA: 3s - loss: 0.2388 - accuracy: 0.90 - ETA: 3s - loss: 0.2382 - accuracy: 0.90 - ETA: 2s - loss: 0.2382 - accuracy: 0.90 - ETA: 2s - loss: 0.2385 - accuracy: 0.90 - ETA: 2s - loss: 0.2385 - accuracy: 0.90 - ETA: 2s - loss: 0.2382 - accuracy: 0.90 - ETA: 2s - loss: 0.2387 - accuracy: 0.90 - ETA: 2s - loss: 0.2379 - accuracy: 0.90 - ETA: 2s - loss: 0.2382 - accuracy: 0.90 - ETA: 2s - loss: 0.2380 - accuracy: 0.90 - ETA: 2s - loss: 0.2374 - accuracy: 0.90 - ETA: 2s - loss: 0.2375 - accuracy: 0.90 - ETA: 2s - loss: 0.2373 - accuracy: 0.90 - ETA: 2s - loss: 0.2372 - accuracy: 0.90 - ETA: 2s - loss: 0.2370 - accuracy: 0.90 - ETA: 2s - loss: 0.2373 - accuracy: 0.90 - ETA: 1s - loss: 0.2376 - accuracy: 0.90 - ETA: 1s - loss: 0.2375 - accuracy: 0.90 - ETA: 1s - loss: 0.2383 - accuracy: 0.90 - ETA: 1s - loss: 0.2382 - accuracy: 0.90 - ETA: 1s - loss: 0.2379 - accuracy: 0.90 - ETA: 1s - loss: 0.2377 - accuracy: 0.90 - ETA: 1s - loss: 0.2375 - accuracy: 0.90 - ETA: 1s - loss: 0.2374 - accuracy: 0.90 - ETA: 1s - loss: 0.2373 - accuracy: 0.90 - ETA: 1s - loss: 0.2375 - accuracy: 0.90 - ETA: 1s - loss: 0.2376 - accuracy: 0.90 - ETA: 1s - loss: 0.2374 - accuracy: 0.90 - ETA: 1s - loss: 0.2376 - accuracy: 0.90 - ETA: 1s - loss: 0.2373 - accuracy: 0.90 - ETA: 1s - loss: 0.2370 - accuracy: 0.91 - ETA: 1s - loss: 0.2369 - accuracy: 0.91 - ETA: 1s - loss: 0.2373 - accuracy: 0.91 - ETA: 1s - loss: 0.2373 - accuracy: 0.91 - ETA: 1s - loss: 0.2369 - accuracy: 0.91 - ETA: 1s - loss: 0.2370 - accuracy: 0.91 - ETA: 1s - loss: 0.2369 - accuracy: 0.91 - ETA: 1s - loss: 0.2369 - accuracy: 0.91 - ETA: 1s - loss: 0.2368 - accuracy: 0.91 - ETA: 1s - loss: 0.2367 - accuracy: 0.91 - ETA: 1s - loss: 0.2370 - accuracy: 0.91 - ETA: 1s - loss: 0.2370 - accuracy: 0.91 - ETA: 1s - loss: 0.2369 - accuracy: 0.91 - ETA: 0s - loss: 0.2367 - accuracy: 0.91 - ETA: 0s - loss: 0.2367 - accuracy: 0.91 - ETA: 0s - loss: 0.2367 - accuracy: 0.91 - ETA: 0s - loss: 0.2366 - accuracy: 0.91 - ETA: 0s - loss: 0.2366 - accuracy: 0.91 - ETA: 0s - loss: 0.2366 - accuracy: 0.91 - ETA: 0s - loss: 0.2367 - accuracy: 0.91 - ETA: 0s - loss: 0.2364 - accuracy: 0.91 - ETA: 0s - loss: 0.2364 - accuracy: 0.91 - ETA: 0s - loss: 0.2364 - accuracy: 0.91 - ETA: 0s - loss: 0.2362 - accuracy: 0.91 - ETA: 0s - loss: 0.2362 - accuracy: 0.91 - ETA: 0s - loss: 0.2364 - accuracy: 0.91 - ETA: 0s - loss: 0.2362 - accuracy: 0.91 - ETA: 0s - loss: 0.2362 - accuracy: 0.91 - ETA: 0s - loss: 0.2361 - accuracy: 0.91 - ETA: 0s - loss: 0.2359 - accuracy: 0.91 - ETA: 0s - loss: 0.2360 - accuracy: 0.91 - ETA: 0s - loss: 0.2359 - accuracy: 0.91 - ETA: 0s - loss: 0.2359 - accuracy: 0.91 - ETA: 0s - loss: 0.2358 - accuracy: 0.91 - ETA: 0s - loss: 0.2359 - accuracy: 0.91 - ETA: 0s - loss: 0.2361 - accuracy: 0.91 - ETA: 0s - loss: 0.2360 - accuracy: 0.91 - ETA: 0s - loss: 0.2360 - accuracy: 0.91 - ETA: 0s - loss: 0.2359 - accuracy: 0.91 - ETA: 0s - loss: 0.2359 - accuracy: 0.91 - ETA: 0s - loss: 0.2363 - accuracy: 0.91 - ETA: 0s - loss: 0.2363 - accuracy: 0.91 - ETA: 0s - loss: 0.2363 - accuracy: 0.91 - ETA: 0s - loss: 0.2360 - accuracy: 0.91 - ETA: 0s - loss: 0.2358 - accuracy: 0.91 - ETA: 0s - loss: 0.2358 - accuracy: 0.91 - ETA: 0s - loss: 0.2360 - accuracy: 0.91 - ETA: 0s - loss: 0.2360 - accuracy: 0.91 - ETA: 0s - loss: 0.2361 - accuracy: 0.91 - ETA: 0s - loss: 0.2361 - accuracy: 0.91 - ETA: 0s - loss: 0.2361 - accuracy: 0.91 - ETA: 0s - loss: 0.2359 - accuracy: 0.91 - 9s 5ms/step - loss: 0.2358 - accuracy: 0.9109 - val_loss: 0.3531 - val_accuracy: 0.8773\n",
      "Epoch 10/10\n"
     ]
    },
    {
     "name": "stdout",
     "output_type": "stream",
     "text": [
      "1730/1875 [==========================>...] - ETA: 0s - loss: 0.1919 - accuracy: 0.93 - ETA: 11s - loss: 0.1901 - accuracy: 0.930 - ETA: 12s - loss: 0.1843 - accuracy: 0.939 - ETA: 13s - loss: 0.2065 - accuracy: 0.924 - ETA: 13s - loss: 0.2067 - accuracy: 0.925 - ETA: 13s - loss: 0.2060 - accuracy: 0.925 - ETA: 13s - loss: 0.2197 - accuracy: 0.922 - ETA: 13s - loss: 0.2250 - accuracy: 0.917 - ETA: 13s - loss: 0.2197 - accuracy: 0.919 - ETA: 12s - loss: 0.2270 - accuracy: 0.915 - ETA: 11s - loss: 0.2211 - accuracy: 0.917 - ETA: 11s - loss: 0.2188 - accuracy: 0.918 - ETA: 11s - loss: 0.2211 - accuracy: 0.918 - ETA: 11s - loss: 0.2170 - accuracy: 0.919 - ETA: 10s - loss: 0.2188 - accuracy: 0.917 - ETA: 10s - loss: 0.2187 - accuracy: 0.917 - ETA: 10s - loss: 0.2170 - accuracy: 0.918 - ETA: 10s - loss: 0.2167 - accuracy: 0.918 - ETA: 10s - loss: 0.2149 - accuracy: 0.920 - ETA: 10s - loss: 0.2165 - accuracy: 0.920 - ETA: 10s - loss: 0.2155 - accuracy: 0.920 - ETA: 10s - loss: 0.2154 - accuracy: 0.920 - ETA: 10s - loss: 0.2146 - accuracy: 0.919 - ETA: 11s - loss: 0.2156 - accuracy: 0.919 - ETA: 11s - loss: 0.2178 - accuracy: 0.917 - ETA: 10s - loss: 0.2204 - accuracy: 0.917 - ETA: 10s - loss: 0.2198 - accuracy: 0.917 - ETA: 10s - loss: 0.2204 - accuracy: 0.917 - ETA: 10s - loss: 0.2219 - accuracy: 0.916 - ETA: 10s - loss: 0.2226 - accuracy: 0.915 - ETA: 10s - loss: 0.2238 - accuracy: 0.915 - ETA: 9s - loss: 0.2257 - accuracy: 0.914 - ETA: 9s - loss: 0.2253 - accuracy: 0.91 - ETA: 9s - loss: 0.2264 - accuracy: 0.91 - ETA: 9s - loss: 0.2259 - accuracy: 0.91 - ETA: 9s - loss: 0.2278 - accuracy: 0.91 - ETA: 9s - loss: 0.2287 - accuracy: 0.91 - ETA: 9s - loss: 0.2279 - accuracy: 0.91 - ETA: 9s - loss: 0.2276 - accuracy: 0.91 - ETA: 9s - loss: 0.2279 - accuracy: 0.91 - ETA: 9s - loss: 0.2320 - accuracy: 0.91 - ETA: 9s - loss: 0.2310 - accuracy: 0.91 - ETA: 9s - loss: 0.2313 - accuracy: 0.91 - ETA: 9s - loss: 0.2316 - accuracy: 0.91 - ETA: 9s - loss: 0.2325 - accuracy: 0.91 - ETA: 9s - loss: 0.2328 - accuracy: 0.91 - ETA: 9s - loss: 0.2335 - accuracy: 0.91 - ETA: 9s - loss: 0.2312 - accuracy: 0.91 - ETA: 8s - loss: 0.2303 - accuracy: 0.91 - ETA: 8s - loss: 0.2299 - accuracy: 0.91 - ETA: 8s - loss: 0.2303 - accuracy: 0.91 - ETA: 8s - loss: 0.2291 - accuracy: 0.91 - ETA: 8s - loss: 0.2278 - accuracy: 0.91 - ETA: 7s - loss: 0.2265 - accuracy: 0.91 - ETA: 7s - loss: 0.2278 - accuracy: 0.91 - ETA: 7s - loss: 0.2271 - accuracy: 0.91 - ETA: 7s - loss: 0.2271 - accuracy: 0.91 - ETA: 7s - loss: 0.2273 - accuracy: 0.91 - ETA: 7s - loss: 0.2282 - accuracy: 0.91 - ETA: 7s - loss: 0.2281 - accuracy: 0.91 - ETA: 7s - loss: 0.2289 - accuracy: 0.91 - ETA: 7s - loss: 0.2285 - accuracy: 0.91 - ETA: 7s - loss: 0.2276 - accuracy: 0.91 - ETA: 7s - loss: 0.2278 - accuracy: 0.91 - ETA: 7s - loss: 0.2279 - accuracy: 0.91 - ETA: 7s - loss: 0.2275 - accuracy: 0.91 - ETA: 6s - loss: 0.2272 - accuracy: 0.91 - ETA: 7s - loss: 0.2272 - accuracy: 0.91 - ETA: 6s - loss: 0.2270 - accuracy: 0.91 - ETA: 6s - loss: 0.2277 - accuracy: 0.91 - ETA: 6s - loss: 0.2283 - accuracy: 0.91 - ETA: 7s - loss: 0.2281 - accuracy: 0.91 - ETA: 7s - loss: 0.2280 - accuracy: 0.91 - ETA: 7s - loss: 0.2275 - accuracy: 0.91 - ETA: 6s - loss: 0.2275 - accuracy: 0.91 - ETA: 6s - loss: 0.2272 - accuracy: 0.91 - ETA: 6s - loss: 0.2269 - accuracy: 0.91 - ETA: 6s - loss: 0.2270 - accuracy: 0.91 - ETA: 6s - loss: 0.2270 - accuracy: 0.91 - ETA: 6s - loss: 0.2267 - accuracy: 0.91 - ETA: 6s - loss: 0.2265 - accuracy: 0.91 - ETA: 7s - loss: 0.2262 - accuracy: 0.91 - ETA: 7s - loss: 0.2264 - accuracy: 0.91 - ETA: 7s - loss: 0.2262 - accuracy: 0.91 - ETA: 7s - loss: 0.2266 - accuracy: 0.91 - ETA: 7s - loss: 0.2260 - accuracy: 0.91 - ETA: 7s - loss: 0.2259 - accuracy: 0.91 - ETA: 7s - loss: 0.2259 - accuracy: 0.91 - ETA: 7s - loss: 0.2256 - accuracy: 0.91 - ETA: 7s - loss: 0.2254 - accuracy: 0.91 - ETA: 7s - loss: 0.2252 - accuracy: 0.91 - ETA: 7s - loss: 0.2254 - accuracy: 0.91 - ETA: 7s - loss: 0.2248 - accuracy: 0.91 - ETA: 7s - loss: 0.2244 - accuracy: 0.91 - ETA: 7s - loss: 0.2246 - accuracy: 0.91 - ETA: 7s - loss: 0.2249 - accuracy: 0.91 - ETA: 7s - loss: 0.2249 - accuracy: 0.91 - ETA: 7s - loss: 0.2256 - accuracy: 0.91 - ETA: 7s - loss: 0.2255 - accuracy: 0.91 - ETA: 7s - loss: 0.2254 - accuracy: 0.91 - ETA: 7s - loss: 0.2253 - accuracy: 0.91 - ETA: 7s - loss: 0.2251 - accuracy: 0.91 - ETA: 7s - loss: 0.2247 - accuracy: 0.91 - ETA: 7s - loss: 0.2242 - accuracy: 0.91 - ETA: 7s - loss: 0.2240 - accuracy: 0.91 - ETA: 7s - loss: 0.2239 - accuracy: 0.91 - ETA: 7s - loss: 0.2239 - accuracy: 0.91 - ETA: 7s - loss: 0.2241 - accuracy: 0.91 - ETA: 7s - loss: 0.2240 - accuracy: 0.91 - ETA: 7s - loss: 0.2242 - accuracy: 0.91 - ETA: 7s - loss: 0.2248 - accuracy: 0.91 - ETA: 7s - loss: 0.2249 - accuracy: 0.91 - ETA: 7s - loss: 0.2251 - accuracy: 0.91 - ETA: 7s - loss: 0.2251 - accuracy: 0.91 - ETA: 7s - loss: 0.2256 - accuracy: 0.91 - ETA: 7s - loss: 0.2253 - accuracy: 0.91 - ETA: 7s - loss: 0.2253 - accuracy: 0.91 - ETA: 7s - loss: 0.2256 - accuracy: 0.91 - ETA: 7s - loss: 0.2259 - accuracy: 0.91 - ETA: 6s - loss: 0.2263 - accuracy: 0.91 - ETA: 6s - loss: 0.2270 - accuracy: 0.91 - ETA: 6s - loss: 0.2273 - accuracy: 0.91 - ETA: 6s - loss: 0.2285 - accuracy: 0.91 - ETA: 6s - loss: 0.2280 - accuracy: 0.91 - ETA: 6s - loss: 0.2277 - accuracy: 0.91 - ETA: 6s - loss: 0.2272 - accuracy: 0.91 - ETA: 6s - loss: 0.2277 - accuracy: 0.91 - ETA: 5s - loss: 0.2270 - accuracy: 0.91 - ETA: 5s - loss: 0.2280 - accuracy: 0.91 - ETA: 5s - loss: 0.2277 - accuracy: 0.91 - ETA: 5s - loss: 0.2280 - accuracy: 0.91 - ETA: 5s - loss: 0.2283 - accuracy: 0.91 - ETA: 5s - loss: 0.2283 - accuracy: 0.91 - ETA: 5s - loss: 0.2285 - accuracy: 0.91 - ETA: 5s - loss: 0.2291 - accuracy: 0.91 - ETA: 5s - loss: 0.2291 - accuracy: 0.91 - ETA: 4s - loss: 0.2287 - accuracy: 0.91 - ETA: 4s - loss: 0.2284 - accuracy: 0.91 - ETA: 4s - loss: 0.2286 - accuracy: 0.91 - ETA: 4s - loss: 0.2286 - accuracy: 0.91 - ETA: 4s - loss: 0.2287 - accuracy: 0.91 - ETA: 4s - loss: 0.2286 - accuracy: 0.91 - ETA: 4s - loss: 0.2288 - accuracy: 0.91 - ETA: 4s - loss: 0.2291 - accuracy: 0.91 - ETA: 4s - loss: 0.2292 - accuracy: 0.91 - ETA: 4s - loss: 0.2292 - accuracy: 0.91 - ETA: 4s - loss: 0.2292 - accuracy: 0.91 - ETA: 4s - loss: 0.2292 - accuracy: 0.91 - ETA: 4s - loss: 0.2291 - accuracy: 0.91 - ETA: 4s - loss: 0.2292 - accuracy: 0.91 - ETA: 4s - loss: 0.2291 - accuracy: 0.91 - ETA: 4s - loss: 0.2298 - accuracy: 0.91 - ETA: 3s - loss: 0.2300 - accuracy: 0.91 - ETA: 3s - loss: 0.2300 - accuracy: 0.91 - ETA: 3s - loss: 0.2301 - accuracy: 0.91 - ETA: 3s - loss: 0.2303 - accuracy: 0.91 - ETA: 3s - loss: 0.2298 - accuracy: 0.91 - ETA: 3s - loss: 0.2297 - accuracy: 0.91 - ETA: 3s - loss: 0.2295 - accuracy: 0.91 - ETA: 3s - loss: 0.2294 - accuracy: 0.91 - ETA: 2s - loss: 0.2295 - accuracy: 0.91 - ETA: 2s - loss: 0.2294 - accuracy: 0.91 - ETA: 2s - loss: 0.2294 - accuracy: 0.91 - ETA: 2s - loss: 0.2295 - accuracy: 0.91 - ETA: 2s - loss: 0.2296 - accuracy: 0.91 - ETA: 2s - loss: 0.2300 - accuracy: 0.91 - ETA: 2s - loss: 0.2302 - accuracy: 0.91 - ETA: 2s - loss: 0.2299 - accuracy: 0.91 - ETA: 2s - loss: 0.2301 - accuracy: 0.91 - ETA: 2s - loss: 0.2303 - accuracy: 0.91 - ETA: 2s - loss: 0.2299 - accuracy: 0.91 - ETA: 2s - loss: 0.2298 - accuracy: 0.91 - ETA: 1s - loss: 0.2300 - accuracy: 0.91 - ETA: 1s - loss: 0.2300 - accuracy: 0.91 - ETA: 1s - loss: 0.2299 - accuracy: 0.91 - ETA: 1s - loss: 0.2292 - accuracy: 0.91 - ETA: 1s - loss: 0.2288 - accuracy: 0.91 - ETA: 1s - loss: 0.2287 - accuracy: 0.91 - ETA: 1s - loss: 0.2284 - accuracy: 0.91 - ETA: 1s - loss: 0.2282 - accuracy: 0.91 - ETA: 1s - loss: 0.2283 - accuracy: 0.91 - ETA: 1s - loss: 0.2284 - accuracy: 0.91 - ETA: 1s - loss: 0.2284 - accuracy: 0.91 - ETA: 1s - loss: 0.2283 - accuracy: 0.91 - ETA: 1s - loss: 0.2281 - accuracy: 0.91 - ETA: 1s - loss: 0.2282 - accuracy: 0.91 - ETA: 1s - loss: 0.2281 - accuracy: 0.91 - ETA: 1s - loss: 0.2284 - accuracy: 0.91 - ETA: 1s - loss: 0.2282 - accuracy: 0.91 - ETA: 0s - loss: 0.2287 - accuracy: 0.91 - ETA: 0s - loss: 0.2288 - accuracy: 0.91 - ETA: 0s - loss: 0.2289 - accuracy: 0.91 - ETA: 0s - loss: 0.2291 - accuracy: 0.9138"
     ]
    },
    {
     "name": "stdout",
     "output_type": "stream",
     "text": [
      "1875/1875 [==============================] - ETA: 0s - loss: 0.2291 - accuracy: 0.91 - ETA: 0s - loss: 0.2291 - accuracy: 0.91 - ETA: 0s - loss: 0.2294 - accuracy: 0.91 - ETA: 0s - loss: 0.2294 - accuracy: 0.91 - ETA: 0s - loss: 0.2290 - accuracy: 0.91 - ETA: 0s - loss: 0.2290 - accuracy: 0.91 - ETA: 0s - loss: 0.2287 - accuracy: 0.91 - ETA: 0s - loss: 0.2285 - accuracy: 0.91 - ETA: 0s - loss: 0.2281 - accuracy: 0.91 - ETA: 0s - loss: 0.2280 - accuracy: 0.91 - ETA: 0s - loss: 0.2280 - accuracy: 0.91 - ETA: 0s - loss: 0.2282 - accuracy: 0.91 - ETA: 0s - loss: 0.2280 - accuracy: 0.91 - ETA: 0s - loss: 0.2281 - accuracy: 0.91 - 12s 6ms/step - loss: 0.2281 - accuracy: 0.9142 - val_loss: 0.3363 - val_accuracy: 0.8870\n"
     ]
    },
    {
     "data": {
      "text/plain": [
       "<tensorflow.python.keras.callbacks.History at 0x1450ab4d0>"
      ]
     },
     "execution_count": 107,
     "metadata": {},
     "output_type": "execute_result"
    }
   ],
   "source": [
    "# Build the model with the optimal hyperparameters and train it on the data\n",
    "model = tuner.hypermodel.build(best_hps)\n",
    "model.fit(img_train, label_train, epochs = 10, validation_data = (img_test, label_test))"
   ]
  }
 ],
 "metadata": {
  "kernelspec": {
   "display_name": "Python 3",
   "language": "python",
   "name": "python3"
  },
  "language_info": {
   "codemirror_mode": {
    "name": "ipython",
    "version": 3
   },
   "file_extension": ".py",
   "mimetype": "text/x-python",
   "name": "python",
   "nbconvert_exporter": "python",
   "pygments_lexer": "ipython3",
   "version": "3.7.4"
  }
 },
 "nbformat": 4,
 "nbformat_minor": 2
}
