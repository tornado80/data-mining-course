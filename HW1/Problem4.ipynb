{
 "cells": [
  {
   "cell_type": "code",
   "execution_count": 1,
   "id": "c627a4f0-b661-4808-bd4e-a86abfce517b",
   "metadata": {},
   "outputs": [],
   "source": [
    "import random\n",
    "import math\n",
    "import sklearn.tree\n",
    "import matplotlib.pyplot as plt"
   ]
  },
  {
   "cell_type": "markdown",
   "id": "f3d0f761-a3a9-4acc-a2d2-beb647fcec1a",
   "metadata": {
    "tags": []
   },
   "source": [
    "## Importing Data Set\n",
    "Firstly we bring the Car Evaluation Data Set. We need to encode nominal attributes for sklearn."
   ]
  },
  {
   "cell_type": "code",
   "execution_count": 2,
   "id": "606dcf91-af98-4658-85ad-af39099a0bc0",
   "metadata": {},
   "outputs": [],
   "source": [
    "data_set = []\n",
    "data_set_labels = []\n",
    "with open(\"Car Evaluation Data Set/car.data\", \"r\") as f:\n",
    "    for line in f.readlines():\n",
    "        buying, maint, doors, persons, lug_boot, safety, label = line.split(\",\")\n",
    "        # Ordinal Encoding\n",
    "        data_point = [\n",
    "            [\"low\", \"med\", \"high\", \"vhigh\"].index(buying),\n",
    "            [\"low\", \"med\", \"high\", \"vhigh\"].index(maint),\n",
    "            [\"2\", \"3\", \"4\", \"5more\"].index(doors),\n",
    "            [\"2\", \"4\", \"more\"].index(persons),\n",
    "            [\"small\", \"med\", \"big\"].index(lug_boot),\n",
    "            [\"low\", \"med\", \"high\"].index(safety)\n",
    "        ]\n",
    "        data_set_labels.append(label)\n",
    "        data_set.append(data_point)"
   ]
  },
  {
   "cell_type": "markdown",
   "id": "e5a7bc4b-0531-4de1-9f49-7afc5e1cf806",
   "metadata": {},
   "source": [
    "---"
   ]
  },
  {
   "cell_type": "markdown",
   "id": "ca81a5d3-0198-405d-876c-1c66bce1c69a",
   "metadata": {},
   "source": [
    "The following functions are auxiliary ones that respectively runs a model on a test set and reports the ratio of wrong predictions and builds a model given a training set."
   ]
  },
  {
   "cell_type": "code",
   "execution_count": 3,
   "id": "93b01051-f979-486c-83fc-c817b8c78b10",
   "metadata": {},
   "outputs": [],
   "source": [
    "def test_model(model, test_set, test_set_labels):\n",
    "    predicted_labels = model.predict(test_set)\n",
    "    correct_predictions = 0\n",
    "    n = len(test_set)\n",
    "    for i in range(len(test_set)):\n",
    "        if test_set_labels[i] == predicted_labels[i]:\n",
    "            correct_predictions += 1\n",
    "    wrong_predictions = n - correct_predictions\n",
    "    return wrong_predictions / n, wrong_predictions"
   ]
  },
  {
   "cell_type": "code",
   "execution_count": 4,
   "id": "9004d9d6-d673-4131-b61d-b36d505edfa3",
   "metadata": {},
   "outputs": [],
   "source": [
    "def build_model(training_set, training_set_labels, **model_options):\n",
    "    return sklearn.tree.DecisionTreeClassifier(**model_options).fit(training_set, training_set_labels)"
   ]
  },
  {
   "cell_type": "markdown",
   "id": "808b2eac-cce4-4b9b-aa39-887dcfbc403f",
   "metadata": {},
   "source": [
    "---"
   ]
  },
  {
   "cell_type": "markdown",
   "id": "6fbcee1e-5bd3-46bf-ab64-9bfeaa63c0d1",
   "metadata": {},
   "source": [
    "## Holdout Method\n",
    "Now we define a new function to randomly partition the data set into training set and test set. The ratio of training set to the data set is passed as an argument."
   ]
  },
  {
   "cell_type": "code",
   "execution_count": 5,
   "id": "fc62ca0e-7988-4c50-85fc-1ffc8b2d8c17",
   "metadata": {},
   "outputs": [],
   "source": [
    "def holdout_partition(split_ratio):\n",
    "    data_set_size = len(data_set)\n",
    "    training_set_size = math.floor(split_ratio * data_set_size)\n",
    "    training_set_indices = set(random.sample(range(data_set_size), training_set_size))\n",
    "    training_set = []\n",
    "    training_set_labels = []\n",
    "    test_set = []\n",
    "    test_set_labels = []\n",
    "    for i in range(data_set_size):\n",
    "        if i in training_set_indices:\n",
    "            training_set.append(data_set[i])\n",
    "            training_set_labels.append(data_set_labels[i])\n",
    "        else:\n",
    "            test_set.append(data_set[i])\n",
    "            test_set_labels.append(data_set_labels[i])\n",
    "    return training_set, training_set_labels, test_set, test_set_labels"
   ]
  },
  {
   "cell_type": "markdown",
   "id": "c9fdd06d-e263-4de9-a384-afb90d4a52c8",
   "metadata": {},
   "source": [
    "The following function implements the Holdout method by randomly partitioning the whole labeled instances into the data set and test set, building model with leaf nodes upper bound and calculating training and testing errors."
   ]
  },
  {
   "cell_type": "code",
   "execution_count": 6,
   "id": "a5db27b0-bc0d-49ca-9a4d-219da67a19a1",
   "metadata": {},
   "outputs": [],
   "source": [
    "def holdout_method(holdout_split_ratio, **model_options):\n",
    "    training_set, training_set_labels, test_set, test_set_labels = holdout_partition(holdout_split_ratio)\n",
    "    model = build_model(training_set, training_set_labels, **model_options)\n",
    "    training_error, _ = test_model(model, training_set, training_set_labels)\n",
    "    test_error, _ = test_model(model, test_set, test_set_labels)\n",
    "    return model, training_error, test_error"
   ]
  },
  {
   "cell_type": "code",
   "execution_count": 7,
   "id": "a0d32fee-5b7a-492b-b1a3-eff52827a9c4",
   "metadata": {},
   "outputs": [],
   "source": [
    "def repeated_holdout_method(repeat, holdout_split_ratio, **model_options):\n",
    "    mean_training_error, mean_test_error = 0, 0\n",
    "    for j in range(repeat):\n",
    "        model, training_error, test_error = holdout_method(holdout_split_ratio, **model_options)\n",
    "        mean_test_error += test_error\n",
    "        mean_training_error += training_error\n",
    "    return mean_test_error / repeat, mean_training_error / repeat"
   ]
  },
  {
   "cell_type": "markdown",
   "id": "504325a5-b51e-42ce-8025-1918ba29f5dc",
   "metadata": {},
   "source": [
    "The following functions applies the Repeated Holdout Method for a given range of integers as decision tree leaf nodes upper bound and returns training and test errors corresponding to each upper bound."
   ]
  },
  {
   "cell_type": "code",
   "execution_count": 8,
   "id": "38b7b36d-21b2-48ba-b2ca-9920162d63cd",
   "metadata": {},
   "outputs": [],
   "source": [
    "def prepare_holdout_errors(repeat, holdout_split_ratio, begin_leaf_nodes, end_leaf_nodes):\n",
    "    training_errors = []\n",
    "    test_errors = []\n",
    "    leaf_nodes = []\n",
    "    for i in range(begin_leaf_nodes, end_leaf_nodes):\n",
    "        mean_test_error, mean_training_error = repeated_holdout_method(\n",
    "            repeat, holdout_split_ratio, max_leaf_nodes = i)\n",
    "        training_errors.append(mean_training_error)\n",
    "        test_errors.append(mean_test_error)\n",
    "        leaf_nodes.append(i)\n",
    "    return training_errors, test_errors, leaf_nodes"
   ]
  },
  {
   "cell_type": "markdown",
   "id": "acd61c9c-0a80-4e23-a00a-6fc811063691",
   "metadata": {},
   "source": [
    "---"
   ]
  },
  {
   "cell_type": "markdown",
   "id": "6149259b-0652-48c1-ab69-c59a0a05c7db",
   "metadata": {
    "tags": []
   },
   "source": [
    "## $k$-fold Cross Validation Method\n",
    "The following functions implements the k-fold partitioning of the data set. It randomly samples without replacement $\\frac{N}{k}$ indices from the data set for each fold, where $N$ is the number of instances data set and $k$ is the numebr of folds. This helps us answer the first question. The test and training error rates are plotted against the count of leaf nodes at the end of the notebook."
   ]
  },
  {
   "cell_type": "code",
   "execution_count": 9,
   "id": "bf5adce2-87f7-49a5-a64f-1935635e90cc",
   "metadata": {},
   "outputs": [],
   "source": [
    "def k_fold_partition(k):\n",
    "    remaining = data_set.copy()\n",
    "    remaining_labels = data_set_labels.copy()\n",
    "    folds = []\n",
    "    fold_size = math.floor(len(data_set) / k)\n",
    "    for i in range(k - 1):\n",
    "        remaining_size = len(remaining)\n",
    "        fold_indices = set(random.sample(range(remaining_size), fold_size))\n",
    "        fold = []\n",
    "        fold_labels = []\n",
    "        for j in range(remaining_size, -1, -1):\n",
    "            if j in fold_indices:\n",
    "                fold.append(remaining[j])\n",
    "                fold_labels.append(remaining_labels[j])\n",
    "                del remaining[j], remaining_labels[j]\n",
    "        folds.append((fold, fold_labels))\n",
    "    folds.append((remaining, remaining_labels))\n",
    "    return folds"
   ]
  },
  {
   "cell_type": "markdown",
   "id": "3541aaec-c605-42e8-9da4-e69565b414b4",
   "metadata": {},
   "source": [
    "The following method implements the $k$-fold Cross Validation Method using the $k$-fold partitioning."
   ]
  },
  {
   "cell_type": "code",
   "execution_count": 10,
   "id": "dc9e6705-bf19-47ea-bd10-68ab3459e540",
   "metadata": {},
   "outputs": [],
   "source": [
    "def cross_validation_method(k, **model_options):\n",
    "    folds = k_fold_partition(k)\n",
    "    total_wrong_predictions = 0\n",
    "    for i in range(k):\n",
    "        test_set, test_set_labels = folds[i]\n",
    "        training_set, training_set_labels = [], []\n",
    "        for j in range(k):\n",
    "            if j == i:\n",
    "                continue\n",
    "            fold, fold_labels = folds[j]\n",
    "            training_set.extend(fold)\n",
    "            training_set_labels.extend(fold_labels)\n",
    "        model = build_model(training_set, training_set_labels, **model_options)\n",
    "        error_rate, wrong_predictions = test_model(model, test_set, test_set_labels)\n",
    "        total_wrong_predictions += wrong_predictions\n",
    "    return total_wrong_predictions / len(data_set)"
   ]
  },
  {
   "cell_type": "markdown",
   "id": "3b312256-2e96-43c3-af7d-c7689dfafb42",
   "metadata": {},
   "source": [
    "The following functions applies the $k$-fold Cross Validation Method for a given range of integers as number of folds and returns generalization error estimate corresponding to each value of $k$."
   ]
  },
  {
   "cell_type": "code",
   "execution_count": 11,
   "id": "b64164e0-61c7-43f6-9697-161608d3226c",
   "metadata": {},
   "outputs": [],
   "source": [
    "def prepare_cross_validation_errors(k_begin, k_end, max_leaf_nodes):\n",
    "    test_errors = []\n",
    "    optimal_model_errors_on_data_set = []\n",
    "    fold_counts = range(k_begin, k_end)\n",
    "    for k in range(k_begin, k_end):\n",
    "        test_error = cross_validation_method(k, max_leaf_nodes = max_leaf_nodes)\n",
    "        test_errors.append(test_error) # cross validation test error (average of k folds)\n",
    "    return fold_counts, test_errors"
   ]
  },
  {
   "cell_type": "markdown",
   "id": "17afe41d-9cb0-455f-876e-8831d2b10e26",
   "metadata": {},
   "source": [
    "---"
   ]
  },
  {
   "cell_type": "markdown",
   "id": "deb51c05-18b4-4f7a-99a1-2082e4423f28",
   "metadata": {},
   "source": [
    "## Plotting"
   ]
  },
  {
   "cell_type": "code",
   "execution_count": 12,
   "id": "e40c3efc-868d-4a03-9188-a91cf90a5956",
   "metadata": {},
   "outputs": [],
   "source": [
    "def plot_holdout_errors():\n",
    "    fig, ax1 = plt.subplots()\n",
    "    training_errors, test_errors, leaf_nodes = prepare_holdout_errors(\n",
    "        repeat = 10,\n",
    "        holdout_split_ratio = 0.8, # ratio of training set to data set used for random paritioning of data set\n",
    "        begin_leaf_nodes = 2,\n",
    "        end_leaf_nodes = 100)\n",
    "    ax1.plot(leaf_nodes, training_errors, label = \"training errors\")\n",
    "    ax1.plot(leaf_nodes, test_errors, label = \"test errors\")\n",
    "    ax1.legend()\n",
    "    ax1.set_xlabel(\"leaf nodes\")\n",
    "    ax1.set_ylabel(\"error\")\n",
    "    ax1.set_title(\"Repeated Holdout Method\")\n",
    "    return training_errors, test_errors, leaf_nodes"
   ]
  },
  {
   "cell_type": "code",
   "execution_count": 13,
   "id": "6c21096b-5789-436a-a4e4-28a022eb455f",
   "metadata": {},
   "outputs": [
    {
     "data": {
      "image/png": "[encoded data removed]",
      "text/plain": [
       "<Figure size 432x288 with 1 Axes>"
      ]
     },
     "metadata": {
      "needs_background": "light"
     },
     "output_type": "display_data"
    }
   ],
   "source": [
    "training_errors, test_errors, leaf_nodes = plot_holdout_errors()"
   ]
  },
  {
   "cell_type": "markdown",
   "id": "d2199f94-e88e-4d17-a275-302715e86b93",
   "metadata": {},
   "source": [
    "As seen in the plot, trees with more than 20 leaf nodes tend to be overfitted. Calculating the corresponding test and training accuracy, we have:"
   ]
  },
  {
   "cell_type": "code",
   "execution_count": 14,
   "id": "70b1617c-72d2-4ba1-86b6-ebd8e1d0d0d6",
   "metadata": {},
   "outputs": [
    {
     "data": {
      "text/plain": [
       "(0.934393063583815, 0.9496382054992764)"
      ]
     },
     "execution_count": 14,
     "metadata": {},
     "output_type": "execute_result"
    }
   ],
   "source": [
    "1 - test_errors[leaf_nodes.index(20)], 1 - training_errors[leaf_nodes.index(20)]"
   ]
  },
  {
   "cell_type": "markdown",
   "id": "b911e0a2-989c-451c-9a2a-818684f0de7a",
   "metadata": {},
   "source": [
    "For the second question we calculate the generalization error estimate using cross validation for different tree depths and take the model with minimum error rate as the optimal one (and its depth as the optimal depth). We consider $k = 5$ as the number of folds for the following calculations."
   ]
  },
  {
   "cell_type": "code",
   "execution_count": 15,
   "id": "9a1fd32e-e55d-46b6-8be9-2d9161db7db4",
   "metadata": {},
   "outputs": [],
   "source": [
    "def plot_cross_validation_erros(k, depth_begin, depth_end):\n",
    "    errors = []\n",
    "    min_error = None\n",
    "    optimal_depth = None\n",
    "    for depth in range(depth_begin, depth_end):\n",
    "        error = cross_validation_method(k, max_depth = depth)\n",
    "        errors.append(error)\n",
    "        if not optimal_depth or error < min_error:\n",
    "            optimal_depth = depth\n",
    "            min_error = error\n",
    "    fig, ax2 = plt.subplots()\n",
    "    ax2.plot(range(depth_begin, depth_end), errors, label=\"cross validation generalization error\")\n",
    "    ax2.set_xlabel(\"depth\")\n",
    "    ax2.set_ylabel(\"error\")\n",
    "    ax2.legend()\n",
    "    ax2.set_title(\"k-Fold Cross Validation\")\n",
    "    return optimal_depth"
   ]
  },
  {
   "cell_type": "code",
   "execution_count": 16,
   "id": "79258758-d960-4cea-ad12-f9d80acf96cf",
   "metadata": {},
   "outputs": [
    {
     "data": {
      "image/png": "[encoded data removed]",
      "text/plain": [
       "<Figure size 432x288 with 1 Axes>"
      ]
     },
     "metadata": {
      "needs_background": "light"
     },
     "output_type": "display_data"
    }
   ],
   "source": [
    "optimal_depth = plot_cross_validation_erros(5, 1, 20)"
   ]
  },
  {
   "cell_type": "markdown",
   "id": "a1a6f7e0-5565-4592-a5cc-9063b0496433",
   "metadata": {},
   "source": [
    "For the third question, we build a model with the optimal depth and find the test and training error using Repeated Holdout Method."
   ]
  },
  {
   "cell_type": "code",
   "execution_count": 17,
   "id": "5d37bcf1-c4f8-4a59-a9f2-af68cbfaa5f7",
   "metadata": {},
   "outputs": [
    {
     "data": {
      "text/plain": [
       "(0.01936416184971098, 0.0)"
      ]
     },
     "execution_count": 17,
     "metadata": {},
     "output_type": "execute_result"
    }
   ],
   "source": [
    "repeated_holdout_method(repeat = 10, holdout_split_ratio = 0.8, max_depth = optimal_depth)"
   ]
  },
  {
   "cell_type": "markdown",
   "id": "7aa57173-14ed-4c96-bdd7-7cc9d53fa4ba",
   "metadata": {},
   "source": [
    "Obvisously the test and training errors for this optimal model is significantly smaller than the model with 20 leaf nodes."
   ]
  }
 ],
 "metadata": {
  "kernelspec": {
   "display_name": "Python 3 (ipykernel)",
   "language": "python",
   "name": "python3"
  },
  "language_info": {
   "codemirror_mode": {
    "name": "ipython",
    "version": 3
   },
   "file_extension": ".py",
   "mimetype": "text/x-python",
   "name": "python",
   "nbconvert_exporter": "python",
   "pygments_lexer": "ipython3",
   "version": "3.10.2"
  },
  "toc-autonumbering": false,
  "toc-showcode": true
 },
 "nbformat": 4,
 "nbformat_minor": 5
}
